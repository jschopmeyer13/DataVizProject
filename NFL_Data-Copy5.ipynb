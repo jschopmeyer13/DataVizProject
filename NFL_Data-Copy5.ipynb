{
 "cells": [
  {
   "cell_type": "code",
   "execution_count": 1,
   "metadata": {},
   "outputs": [],
   "source": [
    "import pandas as pd\n",
    "import matplotlib.pyplot as plt\n",
    "import numpy as np\n",
    "import seaborn as sns\n",
    "from collections import Counter\n",
    "import final_project_functions as fun\n",
    "import time\n",
    "%load_ext autoreload\n",
    "%autoreload 2"
   ]
  },
  {
   "cell_type": "code",
   "execution_count": 2,
   "metadata": {},
   "outputs": [],
   "source": [
    "import geopandas as gpd"
   ]
  },
  {
   "cell_type": "code",
   "execution_count": 3,
   "metadata": {},
   "outputs": [],
   "source": [
    "players = pd.read_csv(\"Data/players.csv\")\n",
    "players['height'] = players.height.apply(lambda cell: fun.fix_height(cell))"
   ]
  },
  {
   "cell_type": "code",
   "execution_count": 191,
   "metadata": {},
   "outputs": [],
   "source": [
    "import pickle"
   ]
  },
  {
   "cell_type": "code",
   "execution_count": 192,
   "metadata": {},
   "outputs": [
    {
     "name": "stdout",
     "output_type": "stream",
     "text": [
      "2\n",
      "3\n",
      "4\n",
      "5\n",
      "6\n",
      "7\n",
      "8\n",
      "9\n",
      "10\n",
      "11\n",
      "12\n",
      "13\n",
      "14\n",
      "15\n",
      "16\n",
      "17\n"
     ]
    }
   ],
   "source": [
    "games = pd.read_csv(\"Data/games.csv\")\n",
    "players = pd.read_csv(\"Data/players.csv\")\n",
    "plays = pd.read_csv(\"Data/plays.csv\")\n",
    "weeks = pd.read_csv(\"Data/week1.csv\")\n",
    "weeks['week'] = 1\n",
    "\n",
    "for i in range(2, 18):\n",
    "    week_temp = pd.read_csv(\"Data/week{}.csv\".format(i))\n",
    "    week_temp['week'] = i\n",
    "    weeks = pd.merge(weeks, week_temp, how='outer')\n",
    "    print(i)\n",
    "\n",
    "OFFENSE = ['QB', 'RB', 'WR', 'TE', 'FB']\n",
    "\n",
    "# Necessary to clean height data\n",
    "players['height'] = players.height.apply(lambda cell: fun.fix_height(cell))"
   ]
  },
  {
   "cell_type": "markdown",
   "metadata": {},
   "source": [
    "- Measuring which players are the most effective at intercepting and sacking throughout the nfl, along with looking at stats such as the number of penalties and passes completed while they were on the field or against them to measure if they were responsible for the play"
   ]
  },
  {
   "cell_type": "code",
   "execution_count": 193,
   "metadata": {},
   "outputs": [],
   "source": [
    "#weeks.to_pickle(\"all_weeks\") "
   ]
  },
  {
   "cell_type": "code",
   "execution_count": 318,
   "metadata": {},
   "outputs": [],
   "source": [
    "#pd.read_pickle(\"all_weeks\")"
   ]
  },
  {
   "cell_type": "markdown",
   "metadata": {},
   "source": [
    "week_columns =['pass_forward', 'pass_arrived',\n",
    "       'pass_outcome_caught',  'pass_outcome_incomplete',\n",
    "       'tackle', 'play_action',\n",
    "       'qb_sack', 'fumble', 'fumble_offense_recovered',\n",
    "       'pass_tipped', 'pass_outcome_interception', 'qb_strip_sack',\n",
    "       'touchdown',\n",
    "       'fumble_defense_recovered', 'pass_outcome_touchdown',\n",
    "        'penalty_flag', 'penalty_accepted']"
   ]
  },
  {
   "cell_type": "code",
   "execution_count": 195,
   "metadata": {},
   "outputs": [],
   "source": [
    "players_extra = pd.read_csv(\"Data/playerInformation/players.csv\")\n",
    "combine = pd.read_csv(\"Data/playerInformation/combine.csv\")\n",
    "combine_extra = pd.read_csv(\"Data/playerInformation/combine_data_since_2000_PROCESSED_2018-04-26.csv\")"
   ]
  },
  {
   "cell_type": "code",
   "execution_count": 319,
   "metadata": {},
   "outputs": [
    {
     "data": {
      "text/html": [
       "<div>\n",
       "<style scoped>\n",
       "    .dataframe tbody tr th:only-of-type {\n",
       "        vertical-align: middle;\n",
       "    }\n",
       "\n",
       "    .dataframe tbody tr th {\n",
       "        vertical-align: top;\n",
       "    }\n",
       "\n",
       "    .dataframe thead th {\n",
       "        text-align: right;\n",
       "    }\n",
       "</style>\n",
       "<table border=\"1\" class=\"dataframe\">\n",
       "  <thead>\n",
       "    <tr style=\"text-align: right;\">\n",
       "      <th></th>\n",
       "      <th>STATEFP</th>\n",
       "      <th>STATENS</th>\n",
       "      <th>AFFGEOID</th>\n",
       "      <th>GEOID</th>\n",
       "      <th>STUSPS</th>\n",
       "      <th>NAME</th>\n",
       "      <th>LSAD</th>\n",
       "      <th>ALAND</th>\n",
       "      <th>AWATER</th>\n",
       "      <th>geometry</th>\n",
       "    </tr>\n",
       "  </thead>\n",
       "  <tbody>\n",
       "    <tr>\n",
       "      <th>0</th>\n",
       "      <td>28</td>\n",
       "      <td>01779790</td>\n",
       "      <td>0400000US28</td>\n",
       "      <td>28</td>\n",
       "      <td>MS</td>\n",
       "      <td>Mississippi</td>\n",
       "      <td>00</td>\n",
       "      <td>121533519481</td>\n",
       "      <td>3926919758</td>\n",
       "      <td>MULTIPOLYGON (((-88.50297 30.21523, -88.49176 ...</td>\n",
       "    </tr>\n",
       "    <tr>\n",
       "      <th>1</th>\n",
       "      <td>37</td>\n",
       "      <td>01027616</td>\n",
       "      <td>0400000US37</td>\n",
       "      <td>37</td>\n",
       "      <td>NC</td>\n",
       "      <td>North Carolina</td>\n",
       "      <td>00</td>\n",
       "      <td>125923656064</td>\n",
       "      <td>13466071395</td>\n",
       "      <td>MULTIPOLYGON (((-75.72681 35.93584, -75.71827 ...</td>\n",
       "    </tr>\n",
       "  </tbody>\n",
       "</table>\n",
       "</div>"
      ],
      "text/plain": [
       "  STATEFP   STATENS     AFFGEOID GEOID STUSPS            NAME LSAD  \\\n",
       "0      28  01779790  0400000US28    28     MS     Mississippi   00   \n",
       "1      37  01027616  0400000US37    37     NC  North Carolina   00   \n",
       "\n",
       "          ALAND       AWATER  \\\n",
       "0  121533519481   3926919758   \n",
       "1  125923656064  13466071395   \n",
       "\n",
       "                                            geometry  \n",
       "0  MULTIPOLYGON (((-88.50297 30.21523, -88.49176 ...  \n",
       "1  MULTIPOLYGON (((-75.72681 35.93584, -75.71827 ...  "
      ]
     },
     "execution_count": 319,
     "metadata": {},
     "output_type": "execute_result"
    }
   ],
   "source": [
    "fp = \"Data/playerinformation/cb_2018_us_state_500k.shp\"\n",
    "map_df = gpd.read_file(fp)\n",
    "map_df.head(2)"
   ]
  },
  {
   "cell_type": "code",
   "execution_count": 431,
   "metadata": {},
   "outputs": [],
   "source": [
    "def fixDate(day):\n",
    "    if day.count(\"-\") >1:\n",
    "        return int(day[:4])\n",
    "    elif day.count(\"/\") >1:\n",
    "        return int(day[-4:])\n",
    "    else:\n",
    "        print(day)"
   ]
  },
  {
   "cell_type": "code",
   "execution_count": 432,
   "metadata": {},
   "outputs": [],
   "source": [
    "players['birthYear'] = players['birthDate'].apply(lambda day: fixDate(day))\n",
    "players['nflId'] = players.nflId.astype(str)"
   ]
  },
  {
   "cell_type": "code",
   "execution_count": 433,
   "metadata": {},
   "outputs": [
    {
     "data": {
      "text/html": [
       "<div>\n",
       "<style scoped>\n",
       "    .dataframe tbody tr th:only-of-type {\n",
       "        vertical-align: middle;\n",
       "    }\n",
       "\n",
       "    .dataframe tbody tr th {\n",
       "        vertical-align: top;\n",
       "    }\n",
       "\n",
       "    .dataframe thead th {\n",
       "        text-align: right;\n",
       "    }\n",
       "</style>\n",
       "<table border=\"1\" class=\"dataframe\">\n",
       "  <thead>\n",
       "    <tr style=\"text-align: right;\">\n",
       "      <th></th>\n",
       "      <th>nflId</th>\n",
       "      <th>height</th>\n",
       "      <th>weight_x</th>\n",
       "      <th>combineId</th>\n",
       "      <th>birthDate</th>\n",
       "      <th>collegeName</th>\n",
       "      <th>position_x</th>\n",
       "      <th>displayName</th>\n",
       "      <th>birthYear</th>\n",
       "      <th>playerId</th>\n",
       "      <th>...</th>\n",
       "      <th>heightInches</th>\n",
       "      <th>dob</th>\n",
       "      <th>ageAtDraft</th>\n",
       "      <th>homeCity</th>\n",
       "      <th>homeState</th>\n",
       "      <th>homeCountry</th>\n",
       "      <th>highSchool</th>\n",
       "      <th>hsCity</th>\n",
       "      <th>hsState</th>\n",
       "      <th>hsCountry</th>\n",
       "    </tr>\n",
       "  </thead>\n",
       "  <tbody>\n",
       "    <tr>\n",
       "      <th>0</th>\n",
       "      <td>2539334</td>\n",
       "      <td>72</td>\n",
       "      <td>190</td>\n",
       "      <td>18228.0</td>\n",
       "      <td>1990-09-10</td>\n",
       "      <td>Washington</td>\n",
       "      <td>CB</td>\n",
       "      <td>Desmond Trufant</td>\n",
       "      <td>1990</td>\n",
       "      <td>20130022</td>\n",
       "      <td>...</td>\n",
       "      <td>72.0</td>\n",
       "      <td>1990-09-10</td>\n",
       "      <td>22.638356</td>\n",
       "      <td>Tacoma</td>\n",
       "      <td>WA</td>\n",
       "      <td>USA</td>\n",
       "      <td>Woodrow Wilson HS</td>\n",
       "      <td>Tacoma</td>\n",
       "      <td>WA</td>\n",
       "      <td>USA</td>\n",
       "    </tr>\n",
       "    <tr>\n",
       "      <th>1</th>\n",
       "      <td>2539653</td>\n",
       "      <td>70</td>\n",
       "      <td>186</td>\n",
       "      <td>17976.0</td>\n",
       "      <td>1988-11-01</td>\n",
       "      <td>Southeastern Louisiana</td>\n",
       "      <td>CB</td>\n",
       "      <td>Robert Alford</td>\n",
       "      <td>1988</td>\n",
       "      <td>20130060</td>\n",
       "      <td>...</td>\n",
       "      <td>70.0</td>\n",
       "      <td>1988-11-01</td>\n",
       "      <td>24.495890</td>\n",
       "      <td>Hammond</td>\n",
       "      <td>LA</td>\n",
       "      <td>USA</td>\n",
       "      <td>Hammond HS</td>\n",
       "      <td>NaN</td>\n",
       "      <td>LA</td>\n",
       "      <td>USA</td>\n",
       "    </tr>\n",
       "    <tr>\n",
       "      <th>2</th>\n",
       "      <td>2543850</td>\n",
       "      <td>69</td>\n",
       "      <td>186</td>\n",
       "      <td>18270.0</td>\n",
       "      <td>1991-12-18</td>\n",
       "      <td>Purdue</td>\n",
       "      <td>SS</td>\n",
       "      <td>Ricardo Allen</td>\n",
       "      <td>1991</td>\n",
       "      <td>20140147</td>\n",
       "      <td>...</td>\n",
       "      <td>69.0</td>\n",
       "      <td>1991-12-18</td>\n",
       "      <td>22.402740</td>\n",
       "      <td>Daytona Beach</td>\n",
       "      <td>FL</td>\n",
       "      <td>USA</td>\n",
       "      <td>Mainland HS</td>\n",
       "      <td>Daytona Beach</td>\n",
       "      <td>FL</td>\n",
       "      <td>USA</td>\n",
       "    </tr>\n",
       "  </tbody>\n",
       "</table>\n",
       "<p>3 rows × 24 columns</p>\n",
       "</div>"
      ],
      "text/plain": [
       "     nflId  height  weight_x  combineId   birthDate             collegeName  \\\n",
       "0  2539334      72       190    18228.0  1990-09-10              Washington   \n",
       "1  2539653      70       186    17976.0  1988-11-01  Southeastern Louisiana   \n",
       "2  2543850      69       186    18270.0  1991-12-18                  Purdue   \n",
       "\n",
       "  position_x      displayName  birthYear  playerId  ... heightInches  \\\n",
       "0         CB  Desmond Trufant       1990  20130022  ...         72.0   \n",
       "1         CB    Robert Alford       1988  20130060  ...         70.0   \n",
       "2         SS    Ricardo Allen       1991  20140147  ...         69.0   \n",
       "\n",
       "          dob  ageAtDraft       homeCity  homeState homeCountry  \\\n",
       "0  1990-09-10   22.638356         Tacoma         WA         USA   \n",
       "1  1988-11-01   24.495890        Hammond         LA         USA   \n",
       "2  1991-12-18   22.402740  Daytona Beach         FL         USA   \n",
       "\n",
       "          highSchool         hsCity hsState hsCountry  \n",
       "0  Woodrow Wilson HS         Tacoma      WA       USA  \n",
       "1         Hammond HS            NaN      LA       USA  \n",
       "2        Mainland HS  Daytona Beach      FL       USA  \n",
       "\n",
       "[3 rows x 24 columns]"
      ]
     },
     "execution_count": 433,
     "metadata": {},
     "output_type": "execute_result"
    }
   ],
   "source": [
    "df_all_players = pd.merge(players, players_extra, on='nflId')#, how='outer', indicator=True)\n",
    "all_players_cols = ['nflId', 'height', 'weight_x','combineId', 'birthDate', 'collegeName', 'position_x',\n",
    "       'displayName', 'birthYear', 'playerId', 'nameFirst', 'nameLast', 'collegeId', 'college',\n",
    "       'heightInches', 'dob', 'ageAtDraft',\n",
    "       'homeCity', 'homeState', 'homeCountry', 'highSchool', 'hsCity',\n",
    "       'hsState', 'hsCountry']\n",
    "df_all_players = df_all_players.drop_duplicates()\n",
    "df_all_players[all_players_cols].head(3)"
   ]
  },
  {
   "cell_type": "code",
   "execution_count": 434,
   "metadata": {},
   "outputs": [],
   "source": [
    "combine_cols_add = ['combineYear', 'combinePosition',\n",
    "       'combineHeight', 'combineWeight', 'combineHand','nflId',\n",
    "       'combineArm', 'combine40yd', 'combineVert',\n",
    "       'combineBench', 'combineShuttle', 'combineBroad', 'combine3cone',\n",
    "       'combine60ydShuttle', 'combineWonderlic']\n",
    "combine_new = combine[combine_cols_add]"
   ]
  },
  {
   "cell_type": "code",
   "execution_count": 435,
   "metadata": {},
   "outputs": [],
   "source": [
    "df_comb = pd.merge(combine_new, df_all_players, on='nflId', how='outer', indicator=True)\n",
    "df_full = df_comb[df_comb._merge == 'both']\n",
    "df_missing = df_comb[df_comb._merge == 'right_only']\n",
    "df_comb = df_comb[df_comb._merge != 'left_only']\n",
    "df_a = df_full.copy()"
   ]
  },
  {
   "cell_type": "code",
   "execution_count": 436,
   "metadata": {},
   "outputs": [],
   "source": [
    "switch = {'Forty':'combine40yd', 'BenchReps':'combineBench', 'BroadJump':'combineBroad','Cone':'combine3cone', 'Shuttle':'combineShuttle','Year':'combineYear'}\n",
    "extra_cols = ['Player']+ list(switch.keys()) # + ['Round', 'Pick']\n",
    "df_missing = df_missing.loc[:, df_missing.columns != \"_merge\"]\n",
    "df_added = df_missing.copy()\n",
    "df_added = df_added[df_added.columns[~df_added.columns.isin(list(switch.values()))]]\n",
    "\n",
    "df_extra = pd.merge(combine_extra[extra_cols], df_added, left_on='Player', right_on='displayName')\n",
    "df_extra = df_extra.rename(columns =switch)\n",
    "\n",
    "df_extra = df_extra.loc[:, df_extra.columns!=\"Player\"]\n",
    "df_extra['combineId'] = 1 # removes from undrafted list players\n",
    "\n",
    "df_temp = pd.merge(df_extra['displayName'], df_missing, on='displayName', how=\"outer\", indicator = True)\n",
    "df_remain = df_temp[df_temp._merge == 'right_only'].loc[:, df_temp.columns != '_merge']\n"
   ]
  },
  {
   "cell_type": "code",
   "execution_count": 437,
   "metadata": {},
   "outputs": [
    {
     "name": "stdout",
     "output_type": "stream",
     "text": [
      "(1304, 42)\n"
     ]
    },
    {
     "data": {
      "text/html": [
       "<div>\n",
       "<style scoped>\n",
       "    .dataframe tbody tr th:only-of-type {\n",
       "        vertical-align: middle;\n",
       "    }\n",
       "\n",
       "    .dataframe tbody tr th {\n",
       "        vertical-align: top;\n",
       "    }\n",
       "\n",
       "    .dataframe thead th {\n",
       "        text-align: right;\n",
       "    }\n",
       "</style>\n",
       "<table border=\"1\" class=\"dataframe\">\n",
       "  <thead>\n",
       "    <tr style=\"text-align: right;\">\n",
       "      <th></th>\n",
       "      <th>combineYear</th>\n",
       "      <th>combinePosition</th>\n",
       "      <th>combineHeight</th>\n",
       "      <th>combineWeight</th>\n",
       "      <th>combineHand</th>\n",
       "      <th>nflId</th>\n",
       "      <th>combineArm</th>\n",
       "      <th>combine40yd</th>\n",
       "      <th>combineVert</th>\n",
       "      <th>combineBench</th>\n",
       "      <th>...</th>\n",
       "      <th>dob</th>\n",
       "      <th>ageAtDraft</th>\n",
       "      <th>playerProfileUrl</th>\n",
       "      <th>homeCity</th>\n",
       "      <th>homeState</th>\n",
       "      <th>homeCountry</th>\n",
       "      <th>highSchool</th>\n",
       "      <th>hsCity</th>\n",
       "      <th>hsState</th>\n",
       "      <th>hsCountry</th>\n",
       "    </tr>\n",
       "  </thead>\n",
       "  <tbody>\n",
       "    <tr>\n",
       "      <th>4370</th>\n",
       "      <td>2000.0</td>\n",
       "      <td>QB</td>\n",
       "      <td>76.4</td>\n",
       "      <td>211.0</td>\n",
       "      <td>NaN</td>\n",
       "      <td>2504211</td>\n",
       "      <td>NaN</td>\n",
       "      <td>5.30</td>\n",
       "      <td>24.5</td>\n",
       "      <td>NaN</td>\n",
       "      <td>...</td>\n",
       "      <td>1977-08-03</td>\n",
       "      <td>22.715068</td>\n",
       "      <td>http://www.nfl.com/player/TomBrady/2504211/pro...</td>\n",
       "      <td>San Mateo</td>\n",
       "      <td>CA</td>\n",
       "      <td>USA</td>\n",
       "      <td>Serra HS</td>\n",
       "      <td>San Mateo</td>\n",
       "      <td>CA</td>\n",
       "      <td>USA</td>\n",
       "    </tr>\n",
       "    <tr>\n",
       "      <th>4641</th>\n",
       "      <td>2001.0</td>\n",
       "      <td>QB</td>\n",
       "      <td>72.3</td>\n",
       "      <td>213.0</td>\n",
       "      <td>NaN</td>\n",
       "      <td>2504775</td>\n",
       "      <td>NaN</td>\n",
       "      <td>4.85</td>\n",
       "      <td>32.0</td>\n",
       "      <td>NaN</td>\n",
       "      <td>...</td>\n",
       "      <td>1979-01-15</td>\n",
       "      <td>22.279452</td>\n",
       "      <td>http://www.nfl.com/player/DrewBrees/2504775/pr...</td>\n",
       "      <td>Austin</td>\n",
       "      <td>TX</td>\n",
       "      <td>USA</td>\n",
       "      <td>Westlake HS</td>\n",
       "      <td>Austin</td>\n",
       "      <td>TX</td>\n",
       "      <td>USA</td>\n",
       "    </tr>\n",
       "  </tbody>\n",
       "</table>\n",
       "<p>2 rows × 42 columns</p>\n",
       "</div>"
      ],
      "text/plain": [
       "      combineYear combinePosition  combineHeight  combineWeight  combineHand  \\\n",
       "4370       2000.0              QB           76.4          211.0          NaN   \n",
       "4641       2001.0              QB           72.3          213.0          NaN   \n",
       "\n",
       "        nflId  combineArm  combine40yd  combineVert  combineBench  ...  \\\n",
       "4370  2504211         NaN         5.30         24.5           NaN  ...   \n",
       "4641  2504775         NaN         4.85         32.0           NaN  ...   \n",
       "\n",
       "             dob  ageAtDraft  \\\n",
       "4370  1977-08-03   22.715068   \n",
       "4641  1979-01-15   22.279452   \n",
       "\n",
       "                                       playerProfileUrl   homeCity  homeState  \\\n",
       "4370  http://www.nfl.com/player/TomBrady/2504211/pro...  San Mateo         CA   \n",
       "4641  http://www.nfl.com/player/DrewBrees/2504775/pr...     Austin         TX   \n",
       "\n",
       "      homeCountry   highSchool     hsCity hsState hsCountry  \n",
       "4370          USA     Serra HS  San Mateo      CA       USA  \n",
       "4641          USA  Westlake HS     Austin      TX       USA  \n",
       "\n",
       "[2 rows x 42 columns]"
      ]
     },
     "execution_count": 437,
     "metadata": {},
     "output_type": "execute_result"
    }
   ],
   "source": [
    "df_fixed = pd.concat([df_full, df_extra, df_remain])\n",
    "df_fixed = df_fixed.loc[:, df_fixed.columns != '_merge']\n",
    "print(df_fixed.shape) # same size as original players dataframe\n",
    "df_fixed.head(2)"
   ]
  },
  {
   "cell_type": "code",
   "execution_count": 438,
   "metadata": {},
   "outputs": [
    {
     "data": {
      "text/plain": [
       "Index(['combineYear', 'combinePosition', 'combineHeight', 'combineWeight',\n",
       "       'combineHand', 'nflId', 'combineArm', 'combine40yd', 'combineVert',\n",
       "       'combineBench', 'combineShuttle', 'combineBroad', 'combine3cone',\n",
       "       'combine60ydShuttle', 'combineWonderlic', 'height', 'weight',\n",
       "       'birthDate', 'collegeName', 'position', 'displayName', 'birthYear',\n",
       "       'playerId', 'collegeId', 'combineId', 'heightInches', 'dob',\n",
       "       'ageAtDraft', 'homeCity', 'homeState', 'homeCountry', 'highSchool',\n",
       "       'hsCity', 'hsState', 'hsCountry'],\n",
       "      dtype='object')"
      ]
     },
     "execution_count": 438,
     "metadata": {},
     "output_type": "execute_result"
    }
   ],
   "source": [
    "comb_columns = [\n",
    "       'combineYear', 'combinePosition', 'combineHeight', 'combineWeight',\n",
    "       'combineHand', 'nflId', 'combineArm', 'combine40yd', 'combineVert',\n",
    "       'combineBench', 'combineShuttle', 'combineBroad', 'combine3cone',\n",
    "       'combine60ydShuttle', 'combineWonderlic', 'height', 'weight_x',\n",
    "       'birthDate', 'collegeName', 'position_x', 'displayName', 'birthYear',\n",
    "       'playerId', 'collegeId', 'combineId', 'heightInches', 'dob',\n",
    "       'ageAtDraft', 'homeCity', 'homeState','homeCountry', 'highSchool',\n",
    "        'hsCity', 'hsState', 'hsCountry'\n",
    "]\n",
    "df_comb = df_fixed[comb_columns]\n",
    "df_comb = df_comb.rename(columns={\"weight_x\":\"weight\", 'position_x':'position'})\n",
    "df_comb.columns"
   ]
  },
  {
   "cell_type": "code",
   "execution_count": 332,
   "metadata": {},
   "outputs": [],
   "source": [
    "# columns_int = ['nflId', 'displayName', 'event', 'gameId','playId','team', \n",
    "#               'homeTeamAbbr','visitorTeamAbbr', 'position', 'frameId','quarter', 'week']"
   ]
  },
  {
   "cell_type": "markdown",
   "metadata": {},
   "source": [
    "## Finding Players who Intercepted the Ball during the 17 weeks"
   ]
  },
  {
   "cell_type": "code",
   "execution_count": 439,
   "metadata": {},
   "outputs": [],
   "source": [
    "db_only = [\"DB\", \"CB\", \"SS\", \"FS\", \"S\"]"
   ]
  },
  {
   "cell_type": "code",
   "execution_count": 448,
   "metadata": {},
   "outputs": [],
   "source": [
    "def shorten(name):\n",
    "    \"\"\"\n",
    "    Shortens full name to use to compare and group\n",
    "    \"\"\"\n",
    "    first_last = name.split(\" \")\n",
    "    short = first_last[0][0] + \".\"\n",
    "    short+=\"\".join(first_last[1:])\n",
    "    return short\n",
    "\n",
    "def clean_description(row, keyword):\n",
    "    \"\"\"\n",
    "    Parses out just the name based on keyword\n",
    "    \"\"\"\n",
    "    start = row.index(keyword) + len(keyword)\n",
    "    word = row[start:]\n",
    "    word = word[:word.index(\" \")]\n",
    "    return word\n",
    "\n",
    "def get_team(row):\n",
    "    \"\"\"\n",
    "    Gets what team the player players on \n",
    "    \"\"\"\n",
    "    poss = getattr(row, 'possessionTeam')\n",
    "    home = getattr(row, \"homeTeamAbbr\")\n",
    "    away = getattr(row, \"visitorTeamAbbr\")\n",
    "    # print(row)\n",
    "    return away if poss==home else home"
   ]
  },
  {
   "cell_type": "code",
   "execution_count": 449,
   "metadata": {},
   "outputs": [],
   "source": [
    "def organize_by(keyword,event_word, plays, games, week, players):\n",
    "    \"\"\"\n",
    "    Gets only players related to the chose keyword\n",
    "    \"\"\"\n",
    "\n",
    "    if keyword==None:\n",
    "        df_plays = plays[['playDescription','possessionTeam','quarter', 'gameId','playId']]\n",
    "    else:\n",
    "        plays = plays[plays.passResult == \"IN\"] # ! Getting only passes ruled interceptions\n",
    "        df_plays = plays[plays.playDescription.str.contains(keyword)][['playDescription','possessionTeam','quarter', 'gameId','playId']]\n",
    "\n",
    "    \n",
    "    df_merge_games = pd.merge(df_plays, games[['gameId', 'homeTeamAbbr', 'visitorTeamAbbr','week']], how='inner', on='gameId')\n",
    "\n",
    "\n",
    "    df_merge_week = pd.merge(df_merge_games, week[['gameId', 'playId','nflId', 'displayName', 'event', 'x','y', 'frameId', 'week', 'position']], on=['gameId', 'playId', 'week'])\n",
    "    # getting only defensive players\n",
    "    df_defense = df_merge_week[~df_merge_week.position.isin(OFFENSE)]\n",
    "    # only look at frames with interception\n",
    "    df_defense = df_defense[df_defense.event == event_word]\n",
    "\n",
    "    df_defense['shorten_name'] = df_defense.displayName.apply(lambda row: shorten(row))\n",
    "\n",
    "\n",
    "    if keyword:\n",
    "        df_defense['playDescription'] = df_defense['playDescription'].apply(lambda row: clean_description(row, keyword))\n",
    "\n",
    "    df_defense['team'] = df_defense[['possessionTeam', 'homeTeamAbbr', 'visitorTeamAbbr']].apply(lambda row: get_team(row), axis=1)\n",
    "    \n",
    "    if keyword == None:\n",
    "        return df_defense\n",
    "    else:\n",
    "        return df_defense[df_defense.playDescription == df_defense.shorten_name]"
   ]
  },
  {
   "cell_type": "code",
   "execution_count": 446,
   "metadata": {},
   "outputs": [
    {
     "name": "stdout",
     "output_type": "stream",
     "text": [
      "(317, 18)\n",
      "6.861001014709473\n"
     ]
    }
   ],
   "source": [
    "df_int = organize_by(\"INTERCEPTED by \", 'pass_outcome_interception',plays, games, weeks, players)\n",
    "# df_int = df_int[columns_int]\n",
    "df_int['type'] = 'interception'\n",
    "df_int['nflId'] = df_int.nflId.astype(int)\n",
    "df_int = df_int[df_int.position.isin(db_only)]\n",
    "print(df_int.shape)\n"
   ]
  },
  {
   "cell_type": "code",
   "execution_count": 350,
   "metadata": {},
   "outputs": [
    {
     "data": {
      "text/html": [
       "<div>\n",
       "<style scoped>\n",
       "    .dataframe tbody tr th:only-of-type {\n",
       "        vertical-align: middle;\n",
       "    }\n",
       "\n",
       "    .dataframe tbody tr th {\n",
       "        vertical-align: top;\n",
       "    }\n",
       "\n",
       "    .dataframe thead th {\n",
       "        text-align: right;\n",
       "    }\n",
       "</style>\n",
       "<table border=\"1\" class=\"dataframe\">\n",
       "  <thead>\n",
       "    <tr style=\"text-align: right;\">\n",
       "      <th></th>\n",
       "      <th>playDescription</th>\n",
       "      <th>possessionTeam</th>\n",
       "      <th>quarter</th>\n",
       "      <th>gameId</th>\n",
       "      <th>playId</th>\n",
       "      <th>homeTeamAbbr</th>\n",
       "      <th>visitorTeamAbbr</th>\n",
       "      <th>week</th>\n",
       "      <th>nflId</th>\n",
       "      <th>displayName</th>\n",
       "      <th>event</th>\n",
       "      <th>x</th>\n",
       "      <th>y</th>\n",
       "      <th>frameId</th>\n",
       "      <th>position</th>\n",
       "      <th>shorten_name</th>\n",
       "      <th>team</th>\n",
       "      <th>type</th>\n",
       "    </tr>\n",
       "  </thead>\n",
       "  <tbody>\n",
       "    <tr>\n",
       "      <th>767</th>\n",
       "      <td>R.Douglas</td>\n",
       "      <td>ATL</td>\n",
       "      <td>4</td>\n",
       "      <td>2018090600</td>\n",
       "      <td>3392</td>\n",
       "      <td>PHI</td>\n",
       "      <td>ATL</td>\n",
       "      <td>1</td>\n",
       "      <td>2558168</td>\n",
       "      <td>Rasul Douglas</td>\n",
       "      <td>pass_outcome_interception</td>\n",
       "      <td>14.01</td>\n",
       "      <td>0.55</td>\n",
       "      <td>55</td>\n",
       "      <td>CB</td>\n",
       "      <td>R.Douglas</td>\n",
       "      <td>PHI</td>\n",
       "      <td>interception</td>\n",
       "    </tr>\n",
       "    <tr>\n",
       "      <th>3235</th>\n",
       "      <td>D.Ward</td>\n",
       "      <td>PIT</td>\n",
       "      <td>1</td>\n",
       "      <td>2018090901</td>\n",
       "      <td>704</td>\n",
       "      <td>CLE</td>\n",
       "      <td>PIT</td>\n",
       "      <td>1</td>\n",
       "      <td>2560916</td>\n",
       "      <td>Denzel Ward</td>\n",
       "      <td>pass_outcome_interception</td>\n",
       "      <td>96.88</td>\n",
       "      <td>9.97</td>\n",
       "      <td>60</td>\n",
       "      <td>CB</td>\n",
       "      <td>D.Ward</td>\n",
       "      <td>CLE</td>\n",
       "      <td>interception</td>\n",
       "    </tr>\n",
       "  </tbody>\n",
       "</table>\n",
       "</div>"
      ],
      "text/plain": [
       "     playDescription possessionTeam  quarter      gameId  playId homeTeamAbbr  \\\n",
       "767        R.Douglas            ATL        4  2018090600    3392          PHI   \n",
       "3235          D.Ward            PIT        1  2018090901     704          CLE   \n",
       "\n",
       "     visitorTeamAbbr  week    nflId    displayName                      event  \\\n",
       "767              ATL     1  2558168  Rasul Douglas  pass_outcome_interception   \n",
       "3235             PIT     1  2560916    Denzel Ward  pass_outcome_interception   \n",
       "\n",
       "          x     y  frameId position shorten_name team          type  \n",
       "767   14.01  0.55       55       CB    R.Douglas  PHI  interception  \n",
       "3235  96.88  9.97       60       CB       D.Ward  CLE  interception  "
      ]
     },
     "execution_count": 350,
     "metadata": {},
     "output_type": "execute_result"
    }
   ],
   "source": [
    "df_int.head(2)"
   ]
  },
  {
   "cell_type": "markdown",
   "metadata": {},
   "source": [
    "## Finding Defensive Backs who deflected a pass during the 17 weeks"
   ]
  },
  {
   "cell_type": "code",
   "execution_count": 452,
   "metadata": {},
   "outputs": [],
   "source": [
    "def get_defender(row):\n",
    "    descript = getattr(row, \"playDescription\")\n",
    "    name = getattr(row, \"shorten_name\")\n",
    "\n",
    "    words = descript[descript.index('incomplete'):]\n",
    "    output = []\n",
    "    if \"(\" in words:\n",
    "        words = words[words.index(\"(\")+1:words.index(\")\")]\n",
    "\n",
    "    if ',' in words:\n",
    "        words= words.split(', ')\n",
    "    else:\n",
    "        words = [words]\n",
    "\n",
    "    if name in words:\n",
    "        return True\n",
    "    else:\n",
    "        return np.nan\n",
    "    \n",
    "def defense_on_throw(keyword,event_word, plays, games, week, players):\n",
    "    \"\"\"\n",
    "    Looking for who pass is incomplete to. Then looking for the closest defender to the offensive player and in comparison to the ball.\n",
    "    \"\"\"\n",
    "    # gets all confirmed incomplete passes\n",
    "    plays = plays[plays.passResult == \"I\"]\n",
    "    if keyword==None:\n",
    "        df_plays = plays[['playDescription','possessionTeam', 'quarter', 'gameId','playId']]\n",
    "    else:\n",
    "        df_plays = plays[plays.playDescription.str.contains(keyword)][['playDescription','possessionTeam', 'gameId','playId']]\n",
    "    \n",
    "    df_merge_games = pd.merge(df_plays, games[['gameId', 'homeTeamAbbr', 'visitorTeamAbbr','week']], how='inner', on='gameId')\n",
    "\n",
    "    df_merge_week = pd.merge(df_merge_games, week[['gameId', 'playId','nflId', 'displayName', 'event', 'x','y', 'frameId', 'week', 'position']], on=['gameId', 'playId', 'week'])\n",
    "    df_defense = df_merge_week[~df_merge_week.position.isin(['QB'])]\n",
    "    df_defense = df_defense[df_defense.event == event_word]\n",
    "    df_defense['team'] = df_defense[['possessionTeam', 'homeTeamAbbr', 'visitorTeamAbbr']].apply(lambda row: get_team(row), axis=1)\n",
    "\n",
    "    df_defense['shorten_name'] = df_defense.displayName.apply(lambda row: shorten(row))\n",
    "    df_defense['defenders'] = df_defense[['playDescription', 'shorten_name']].apply(lambda row: get_defender(row), axis=1)\n",
    "\n",
    "    return df_defense.dropna()\n"
   ]
  },
  {
   "cell_type": "code",
   "execution_count": 453,
   "metadata": {},
   "outputs": [
    {
     "data": {
      "text/plain": [
       "(1149, 19)"
      ]
     },
     "execution_count": 453,
     "metadata": {},
     "output_type": "execute_result"
    }
   ],
   "source": [
    "df_deflections = defense_on_throw(None, 'pass_outcome_incomplete',plays, games, weeks, players)\n",
    "# df_deflections = df_deflections[columns_int]\n",
    "df_deflections['type'] = 'deflection'\n",
    "df_deflections['nflId'] = df_deflections.nflId.astype(int)\n",
    "df_deflections = df_deflections[df_deflections.position.isin(db_only)]\n",
    "df_deflections.shape"
   ]
  },
  {
   "cell_type": "code",
   "execution_count": 454,
   "metadata": {},
   "outputs": [
    {
     "data": {
      "text/html": [
       "<div>\n",
       "<style scoped>\n",
       "    .dataframe tbody tr th:only-of-type {\n",
       "        vertical-align: middle;\n",
       "    }\n",
       "\n",
       "    .dataframe tbody tr th {\n",
       "        vertical-align: top;\n",
       "    }\n",
       "\n",
       "    .dataframe thead th {\n",
       "        text-align: right;\n",
       "    }\n",
       "</style>\n",
       "<table border=\"1\" class=\"dataframe\">\n",
       "  <thead>\n",
       "    <tr style=\"text-align: right;\">\n",
       "      <th></th>\n",
       "      <th>playDescription</th>\n",
       "      <th>possessionTeam</th>\n",
       "      <th>quarter</th>\n",
       "      <th>gameId</th>\n",
       "      <th>playId</th>\n",
       "      <th>homeTeamAbbr</th>\n",
       "      <th>visitorTeamAbbr</th>\n",
       "      <th>week</th>\n",
       "      <th>nflId</th>\n",
       "      <th>displayName</th>\n",
       "      <th>event</th>\n",
       "      <th>x</th>\n",
       "      <th>y</th>\n",
       "      <th>frameId</th>\n",
       "      <th>position</th>\n",
       "      <th>team</th>\n",
       "      <th>shorten_name</th>\n",
       "      <th>defenders</th>\n",
       "      <th>type</th>\n",
       "    </tr>\n",
       "  </thead>\n",
       "  <tbody>\n",
       "    <tr>\n",
       "      <th>665</th>\n",
       "      <td>(13:10) M.Ryan pass incomplete short right to ...</td>\n",
       "      <td>ATL</td>\n",
       "      <td>1</td>\n",
       "      <td>2018090600</td>\n",
       "      <td>146</td>\n",
       "      <td>PHI</td>\n",
       "      <td>ATL</td>\n",
       "      <td>1</td>\n",
       "      <td>2555383</td>\n",
       "      <td>Jalen Mills</td>\n",
       "      <td>pass_outcome_incomplete</td>\n",
       "      <td>46.98</td>\n",
       "      <td>38.04</td>\n",
       "      <td>48</td>\n",
       "      <td>CB</td>\n",
       "      <td>PHI</td>\n",
       "      <td>J.Mills</td>\n",
       "      <td>True</td>\n",
       "      <td>deflection</td>\n",
       "    </tr>\n",
       "    <tr>\n",
       "      <th>2573</th>\n",
       "      <td>(9:24) (Shotgun) N.Foles pass incomplete short...</td>\n",
       "      <td>PHI</td>\n",
       "      <td>1</td>\n",
       "      <td>2018090600</td>\n",
       "      <td>344</td>\n",
       "      <td>PHI</td>\n",
       "      <td>ATL</td>\n",
       "      <td>1</td>\n",
       "      <td>2543850</td>\n",
       "      <td>Ricardo Allen</td>\n",
       "      <td>pass_outcome_incomplete</td>\n",
       "      <td>22.79</td>\n",
       "      <td>45.92</td>\n",
       "      <td>44</td>\n",
       "      <td>SS</td>\n",
       "      <td>ATL</td>\n",
       "      <td>R.Allen</td>\n",
       "      <td>True</td>\n",
       "      <td>deflection</td>\n",
       "    </tr>\n",
       "  </tbody>\n",
       "</table>\n",
       "</div>"
      ],
      "text/plain": [
       "                                        playDescription possessionTeam  \\\n",
       "665   (13:10) M.Ryan pass incomplete short right to ...            ATL   \n",
       "2573  (9:24) (Shotgun) N.Foles pass incomplete short...            PHI   \n",
       "\n",
       "      quarter      gameId  playId homeTeamAbbr visitorTeamAbbr  week    nflId  \\\n",
       "665         1  2018090600     146          PHI             ATL     1  2555383   \n",
       "2573        1  2018090600     344          PHI             ATL     1  2543850   \n",
       "\n",
       "        displayName                    event      x      y  frameId position  \\\n",
       "665     Jalen Mills  pass_outcome_incomplete  46.98  38.04       48       CB   \n",
       "2573  Ricardo Allen  pass_outcome_incomplete  22.79  45.92       44       SS   \n",
       "\n",
       "     team shorten_name defenders        type  \n",
       "665   PHI      J.Mills      True  deflection  \n",
       "2573  ATL      R.Allen      True  deflection  "
      ]
     },
     "execution_count": 454,
     "metadata": {},
     "output_type": "execute_result"
    }
   ],
   "source": [
    "df_deflections.head(2)"
   ]
  },
  {
   "cell_type": "code",
   "execution_count": 343,
   "metadata": {
    "collapsed": true,
    "jupyter": {
     "outputs_hidden": true
    }
   },
   "outputs": [
    {
     "data": {
      "text/html": [
       "<div>\n",
       "<style scoped>\n",
       "    .dataframe tbody tr th:only-of-type {\n",
       "        vertical-align: middle;\n",
       "    }\n",
       "\n",
       "    .dataframe tbody tr th {\n",
       "        vertical-align: top;\n",
       "    }\n",
       "\n",
       "    .dataframe thead th {\n",
       "        text-align: right;\n",
       "    }\n",
       "</style>\n",
       "<table border=\"1\" class=\"dataframe\">\n",
       "  <thead>\n",
       "    <tr style=\"text-align: right;\">\n",
       "      <th></th>\n",
       "      <th>typeDropback</th>\n",
       "      <th>personnelD</th>\n",
       "      <th>playResult_avg</th>\n",
       "    </tr>\n",
       "  </thead>\n",
       "  <tbody>\n",
       "    <tr>\n",
       "      <th>12</th>\n",
       "      <td>SCRAMBLE</td>\n",
       "      <td>3 DL, 4 LB, 4 DB</td>\n",
       "      <td>-1.652174</td>\n",
       "    </tr>\n",
       "    <tr>\n",
       "      <th>47</th>\n",
       "      <td>UNKNOWN</td>\n",
       "      <td>4 DL, 2 LB, 5 DB</td>\n",
       "      <td>0.961538</td>\n",
       "    </tr>\n",
       "    <tr>\n",
       "      <th>27</th>\n",
       "      <td>SCRAMBLE_ROLLOUT_RIGHT</td>\n",
       "      <td>3 DL, 4 LB, 4 DB</td>\n",
       "      <td>3.516667</td>\n",
       "    </tr>\n",
       "    <tr>\n",
       "      <th>17</th>\n",
       "      <td>SCRAMBLE_ROLLOUT_LEFT</td>\n",
       "      <td>3 DL, 2 LB, 6 DB</td>\n",
       "      <td>4.428571</td>\n",
       "    </tr>\n",
       "    <tr>\n",
       "      <th>31</th>\n",
       "      <td>TRADITIONAL</td>\n",
       "      <td>0 DL, 4 LB, 7 DB</td>\n",
       "      <td>4.500000</td>\n",
       "    </tr>\n",
       "    <tr>\n",
       "      <th>5</th>\n",
       "      <td>DESIGNED_ROLLOUT_RIGHT</td>\n",
       "      <td>3 DL, 4 LB, 4 DB</td>\n",
       "      <td>4.948718</td>\n",
       "    </tr>\n",
       "    <tr>\n",
       "      <th>0</th>\n",
       "      <td>DESIGNED_ROLLOUT_LEFT</td>\n",
       "      <td>2 DL, 4 LB, 5 DB</td>\n",
       "      <td>5.333333</td>\n",
       "    </tr>\n",
       "  </tbody>\n",
       "</table>\n",
       "</div>"
      ],
      "text/plain": [
       "              typeDropback        personnelD  playResult_avg\n",
       "12                SCRAMBLE  3 DL, 4 LB, 4 DB       -1.652174\n",
       "47                 UNKNOWN  4 DL, 2 LB, 5 DB        0.961538\n",
       "27  SCRAMBLE_ROLLOUT_RIGHT  3 DL, 4 LB, 4 DB        3.516667\n",
       "17   SCRAMBLE_ROLLOUT_LEFT  3 DL, 2 LB, 6 DB        4.428571\n",
       "31             TRADITIONAL  0 DL, 4 LB, 7 DB        4.500000\n",
       "5   DESIGNED_ROLLOUT_RIGHT  3 DL, 4 LB, 4 DB        4.948718\n",
       "0    DESIGNED_ROLLOUT_LEFT  2 DL, 4 LB, 5 DB        5.333333"
      ]
     },
     "execution_count": 343,
     "metadata": {},
     "output_type": "execute_result"
    }
   ],
   "source": [
    "fun.coverage_stats(plays, 'typeDropback', 'personnelD', 'playResult')"
   ]
  },
  {
   "cell_type": "code",
   "execution_count": 344,
   "metadata": {
    "collapsed": true,
    "jupyter": {
     "outputs_hidden": true
    }
   },
   "outputs": [
    {
     "data": {
      "text/html": [
       "<div>\n",
       "<style scoped>\n",
       "    .dataframe tbody tr th:only-of-type {\n",
       "        vertical-align: middle;\n",
       "    }\n",
       "\n",
       "    .dataframe tbody tr th {\n",
       "        vertical-align: top;\n",
       "    }\n",
       "\n",
       "    .dataframe thead th {\n",
       "        text-align: right;\n",
       "    }\n",
       "</style>\n",
       "<table border=\"1\" class=\"dataframe\">\n",
       "  <thead>\n",
       "    <tr style=\"text-align: right;\">\n",
       "      <th></th>\n",
       "      <th>personnelO</th>\n",
       "      <th>personnelD</th>\n",
       "      <th>epa_avg</th>\n",
       "    </tr>\n",
       "  </thead>\n",
       "  <tbody>\n",
       "    <tr>\n",
       "      <th>6</th>\n",
       "      <td>1 RB, 1 TE, 3 WR</td>\n",
       "      <td>0 DL, 4 LB, 7 DB</td>\n",
       "      <td>-1.017292</td>\n",
       "    </tr>\n",
       "    <tr>\n",
       "      <th>0</th>\n",
       "      <td>0 RB, 1 TE, 4 WR</td>\n",
       "      <td>3 DL, 3 LB, 5 DB</td>\n",
       "      <td>-0.196070</td>\n",
       "    </tr>\n",
       "    <tr>\n",
       "      <th>3</th>\n",
       "      <td>1 RB, 0 TE, 4 WR</td>\n",
       "      <td>3 DL, 3 LB, 5 DB</td>\n",
       "      <td>-0.170619</td>\n",
       "    </tr>\n",
       "    <tr>\n",
       "      <th>26</th>\n",
       "      <td>1 RB, 2 TE, 2 WR</td>\n",
       "      <td>4 DL, 1 LB, 6 DB</td>\n",
       "      <td>-0.107119</td>\n",
       "    </tr>\n",
       "    <tr>\n",
       "      <th>43</th>\n",
       "      <td>2 RB, 2 TE, 1 WR</td>\n",
       "      <td>3 DL, 4 LB, 4 DB</td>\n",
       "      <td>-0.094778</td>\n",
       "    </tr>\n",
       "  </tbody>\n",
       "</table>\n",
       "</div>"
      ],
      "text/plain": [
       "          personnelO        personnelD   epa_avg\n",
       "6   1 RB, 1 TE, 3 WR  0 DL, 4 LB, 7 DB -1.017292\n",
       "0   0 RB, 1 TE, 4 WR  3 DL, 3 LB, 5 DB -0.196070\n",
       "3   1 RB, 0 TE, 4 WR  3 DL, 3 LB, 5 DB -0.170619\n",
       "26  1 RB, 2 TE, 2 WR  4 DL, 1 LB, 6 DB -0.107119\n",
       "43  2 RB, 2 TE, 1 WR  3 DL, 4 LB, 4 DB -0.094778"
      ]
     },
     "execution_count": 344,
     "metadata": {},
     "output_type": "execute_result"
    }
   ],
   "source": [
    "fun.coverage_stats(plays, 'personnelO', 'personnelD', 'epa').head()"
   ]
  },
  {
   "cell_type": "markdown",
   "metadata": {},
   "source": [
    "### Next step is seeing if we can find patterns with these players for interceptions and deflecting"
   ]
  },
  {
   "cell_type": "code",
   "execution_count": 353,
   "metadata": {},
   "outputs": [],
   "source": [
    "df_all = pd.merge(df_deflections, df_int, how='outer')"
   ]
  },
  {
   "cell_type": "code",
   "execution_count": 354,
   "metadata": {},
   "outputs": [
    {
     "data": {
      "text/plain": [
       "array(['CB', 'SS', 'FS', 'DB', 'S'], dtype=object)"
      ]
     },
     "execution_count": 354,
     "metadata": {},
     "output_type": "execute_result"
    }
   ],
   "source": [
    "df_all.position.unique()"
   ]
  },
  {
   "cell_type": "code",
   "execution_count": 308,
   "metadata": {},
   "outputs": [],
   "source": [
    "# # db -> defensive-back includes corner backs and safety's\n",
    "# df_deflection_db = df_deflections[df_deflections.position.isin(db_only)]\n",
    "# df_int_db = df_int[df_int.position.isin(db_only)]\n",
    "# df_all_db = pd.merge(df_deflection_db, df_int_db, how='outer')"
   ]
  },
  {
   "cell_type": "code",
   "execution_count": 355,
   "metadata": {},
   "outputs": [],
   "source": [
    "df_us = map_df.copy()"
   ]
  },
  {
   "cell_type": "code",
   "execution_count": 367,
   "metadata": {},
   "outputs": [
    {
     "data": {
      "image/png": "[encoded data removed]",
      "text/plain": [
       "<Figure size 720x432 with 2 Axes>"
      ]
     },
     "metadata": {
      "needs_background": "light"
     },
     "output_type": "display_data"
    }
   ],
   "source": [
    "#'homeCity', 'homeState', 'homeCountry', 'highSchool','hsCity', 'hsState', 'hsCountry'\n",
    "#https://towardsdatascience.com/lets-make-a-map-using-geopandas-pandas-and-matplotlib-to-make-a-chloropleth-map-dddc31c1983d\n",
    "df_comb.nflId = df_comb.nflId.astype(int)\n",
    "fun.plot_map('hsState', df_all,df_comb, df_us, \"Total Defensive Plays Produced by DB's born in Each State in 2018\", 14)"
   ]
  },
  {
   "cell_type": "code",
   "execution_count": 375,
   "metadata": {},
   "outputs": [],
   "source": [
    "# def_x"
   ]
  },
  {
   "cell_type": "code",
   "execution_count": 382,
   "metadata": {},
   "outputs": [
    {
     "data": {
      "text/plain": [
       "<matplotlib.collections.PathCollection at 0x12d8865d1c8>"
      ]
     },
     "execution_count": 382,
     "metadata": {},
     "output_type": "execute_result"
    },
    {
     "data": {
      "image/png": "[encoded data removed]",
      "text/plain": [
       "<Figure size 432x288 with 1 Axes>"
      ]
     },
     "metadata": {
      "needs_background": "light"
     },
     "output_type": "display_data"
    }
   ],
   "source": [
    "# Interception Location \n",
    "def_x = df_all.x.tolist()\n",
    "def_y = df_all.y.tolist()\n",
    "plt.scatter(def_x, def_y)"
   ]
  },
  {
   "cell_type": "code",
   "execution_count": 425,
   "metadata": {},
   "outputs": [],
   "source": [
    "q = dict(df_int.quarter.value_counts())\n",
    "d = dict(df_deflections.quarter.value_counts())\n",
    "d = {k:v for k,v in d.items() if k!=5}\n",
    "q = {k:q[k] for k in sorted(list(q.keys()))}\n",
    "d = {k:d[k] for k in sorted(list(d.keys()))}"
   ]
  },
  {
   "cell_type": "code",
   "execution_count": 430,
   "metadata": {},
   "outputs": [
    {
     "data": {
      "image/png": "[encoded data removed]",
      "text/plain": [
       "<Figure size 432x288 with 1 Axes>"
      ]
     },
     "metadata": {
      "needs_background": "light"
     },
     "output_type": "display_data"
    }
   ],
   "source": [
    "width=0.3\n",
    "plt.bar(list(q.keys()), list(q.values()), width)\n",
    "# plt.bar([i+width for i in list(d.keys())], list(d.values()), width, bottom=[q[i] for i in d.keys()])\n",
    "plt.bar(list(d.keys()), list(d.values()), width, bottom=[q[i] for i in d.keys()])\n",
    "\n",
    "# plt.xticks([i + width / 2 for i in list(d.keys())], ('Q1', 'Q2', 'Q3', 'Q4'))\n",
    "plt.xticks([i for i in list(d.keys())], ('Q1', 'Q2', 'Q3', 'Q4'))\n",
    "\n",
    "plt.xlabel('Quarter')\n",
    "plt.ylabel('Number of Interceptions')\n",
    "plt.title('Total Number of Interceptions and Deflections in Each Quarter')\n",
    "plt.legend(loc='best', labels=('Interceptions', 'Deflections'))\n",
    "plt.show()"
   ]
  },
  {
   "cell_type": "code",
   "execution_count": 369,
   "metadata": {},
   "outputs": [
    {
     "data": {
      "image/png": "[encoded data removed]",
      "text/plain": [
       "<Figure size 432x288 with 1 Axes>"
      ]
     },
     "metadata": {
      "needs_background": "light"
     },
     "output_type": "display_data"
    }
   ],
   "source": [
    "col_val='height'\n",
    "\n",
    "data, column, df, ylabel,plot, agg = df_deflections, col_val, df_comb, 'Deflections', 'bar', 'sum'\n",
    "x_vals, y_vals = fun.get_agg(data, column, df)\n",
    "plt.bar(x_vals, y_vals)\n",
    "plt.xlabel(column)\n",
    "y_final_label = \"{} of {}\".format(plot,ylabel)\n",
    "plt.ylabel(y_final_label)\n",
    "plt.title(\"Comparing {} of {} to {} for NFL Players\".format(agg,column, y_final_label))\n",
    "\n",
    "\n",
    "plt.show()"
   ]
  },
  {
   "cell_type": "code",
   "execution_count": 298,
   "metadata": {},
   "outputs": [
    {
     "data": {
      "image/png": "[encoded data removed]",
      "text/plain": [
       "<Figure size 432x288 with 1 Axes>"
      ]
     },
     "metadata": {
      "needs_background": "light"
     },
     "output_type": "display_data"
    },
    {
     "data": {
      "image/png": "[encoded data removed]",
      "text/plain": [
       "<Figure size 432x288 with 1 Axes>"
      ]
     },
     "metadata": {
      "needs_background": "light"
     },
     "output_type": "display_data"
    },
    {
     "data": {
      "image/png": "[encoded data removed]",
      "text/plain": [
       "<Figure size 432x288 with 1 Axes>"
      ]
     },
     "metadata": {
      "needs_background": "light"
     },
     "output_type": "display_data"
    }
   ],
   "source": [
    "col_val = 'height'\n",
    "df_db = df_deflections[df_deflections.position.isin(['CB', 'SS', 'FS', 'S', 'DB'])]\n",
    "fun.plot_points(df_db, col_val, df_comb, 'Deflections', 'bar', 'sum')\n",
    "fun.plot_points(df_db, col_val, df_comb, \"Deflections\", 'bar', 'avg')\n",
    "fun.plot_points(df_db, col_val, df_comb, \"Deflections\", 'bar', 'count')\n"
   ]
  },
  {
   "cell_type": "code",
   "execution_count": 305,
   "metadata": {},
   "outputs": [
    {
     "data": {
      "text/html": [
       "<div>\n",
       "<style scoped>\n",
       "    .dataframe tbody tr th:only-of-type {\n",
       "        vertical-align: middle;\n",
       "    }\n",
       "\n",
       "    .dataframe tbody tr th {\n",
       "        vertical-align: top;\n",
       "    }\n",
       "\n",
       "    .dataframe thead th {\n",
       "        text-align: right;\n",
       "    }\n",
       "</style>\n",
       "<table border=\"1\" class=\"dataframe\">\n",
       "  <thead>\n",
       "    <tr style=\"text-align: right;\">\n",
       "      <th></th>\n",
       "      <th>combinePosition</th>\n",
       "      <th>combine40yd</th>\n",
       "      <th>displayName</th>\n",
       "    </tr>\n",
       "  </thead>\n",
       "  <tbody>\n",
       "  </tbody>\n",
       "</table>\n",
       "</div>"
      ],
      "text/plain": [
       "Empty DataFrame\n",
       "Columns: [combinePosition, combine40yd, displayName]\n",
       "Index: []"
      ]
     },
     "execution_count": 305,
     "metadata": {},
     "output_type": "execute_result"
    }
   ],
   "source": [
    "df_comb[df_comb.nflId.astype(str).isin(df_db.nflId.tolist())][['combinePosition', 'combine40yd', 'displayName']]"
   ]
  },
  {
   "cell_type": "code",
   "execution_count": 299,
   "metadata": {},
   "outputs": [
    {
     "data": {
      "image/png": "[encoded data removed]",
      "text/plain": [
       "<Figure size 432x288 with 1 Axes>"
      ]
     },
     "metadata": {
      "needs_background": "light"
     },
     "output_type": "display_data"
    }
   ],
   "source": [
    "x_column = 'combine40yd'\n",
    "\n",
    "x_vals, y_vals = fun.get_xy(df_db, x_column, df_comb)\n",
    "plt.scatter(x_vals, y_vals)\n",
    "plt.ylabel(\"# of Deflections\")\n",
    "plt.xlabel(x_column)\n",
    "plt.title(\"Comparing # of Deflections vs {}\".format(x_column))\n",
    "plt.show()"
   ]
  },
  {
   "cell_type": "code",
   "execution_count": 227,
   "metadata": {},
   "outputs": [
    {
     "data": {
      "image/png": "[encoded data removed]",
      "text/plain": [
       "<Figure size 432x288 with 1 Axes>"
      ]
     },
     "metadata": {
      "needs_background": "light"
     },
     "output_type": "display_data"
    }
   ],
   "source": [
    "\n",
    "values = fun.get_agg(df_deflections, 'combine40yd', df_comb, avg=True)\n",
    "x_vals, y_vals = [], []\n",
    "for i in values:\n",
    "    x_vals.append(i[0])\n",
    "    y_vals.append(i[1])\n",
    "\n",
    "plt.scatter(x_vals, y_vals)\n",
    "plt.xlabel(\"40-yard dash time\")\n",
    "plt.ylabel(\"# of Deflections\")\n",
    "plt.title(\"Comparing Total Deflections from Players each College\")\n",
    "\n",
    "plt.show()"
   ]
  },
  {
   "cell_type": "code",
   "execution_count": 228,
   "metadata": {},
   "outputs": [
    {
     "data": {
      "image/png": "[encoded data removed]",
      "text/plain": [
       "<Figure size 432x288 with 1 Axes>"
      ]
     },
     "metadata": {
      "needs_background": "light"
     },
     "output_type": "display_data"
    }
   ],
   "source": [
    "values = fun.get_agg(df_deflections, 'collegeName', df_comb, False)\n",
    "x_vals, y_vals = [], []\n",
    "for i in values[-10:]:\n",
    "    x_vals.append(i[0])\n",
    "    y_vals.append(i[1])\n",
    "\n",
    "plt.barh(x_vals, y_vals)\n",
    "plt.xlabel(\"Number of Deflections\")\n",
    "plt.ylabel(\"College\")\n",
    "plt.title(\"Comparing Total Deflections from Players each College\")\n",
    "plt.show()"
   ]
  },
  {
   "cell_type": "code",
   "execution_count": 831,
   "metadata": {},
   "outputs": [
    {
     "data": {
      "image/png": "[encoded data removed]",
      "text/plain": [
       "<Figure size 432x288 with 1 Axes>"
      ]
     },
     "metadata": {
      "needs_background": "light"
     },
     "output_type": "display_data"
    }
   ],
   "source": [
    "values = fun.get_agg(df_int, 'collegeName', df_comb, avg=False)\n",
    "x_vals, y_vals = [], []\n",
    "for i in values[-10:]:\n",
    "    x_vals.append(i[0])\n",
    "    y_vals.append(i[1])\n",
    "\n",
    "plt.barh(x_vals, y_vals)\n",
    "plt.xlabel(\"Number of Interceptions\")\n",
    "plt.ylabel(\"College\")\n",
    "plt.title(\"Comparing Total Interceptions of Players each College\")\n",
    "plt.show()"
   ]
  },
  {
   "cell_type": "code",
   "execution_count": 832,
   "metadata": {},
   "outputs": [
    {
     "data": {
      "image/png": "[encoded data removed]",
      "text/plain": [
       "<Figure size 432x288 with 1 Axes>"
      ]
     },
     "metadata": {
      "needs_background": "light"
     },
     "output_type": "display_data"
    }
   ],
   "source": [
    "x_vals, y_vals = fun.get_xy(df_deflections, 'height', df_comb)\n",
    "plt.bar(x_vals, y_vals)\n",
    "plt.ylabel(\"# of Deflections\")\n",
    "plt.xlabel(\"Height (in inches)\")\n",
    "plt.title(\"Comparing the height of NFL players versus the number of Deflections\")\n",
    "plt.show()"
   ]
  },
  {
   "cell_type": "code",
   "execution_count": 833,
   "metadata": {},
   "outputs": [
    {
     "data": {
      "image/png": "[encoded data removed]",
      "text/plain": [
       "<Figure size 432x288 with 1 Axes>"
      ]
     },
     "metadata": {
      "needs_background": "light"
     },
     "output_type": "display_data"
    }
   ],
   "source": [
    "x_vals, y_vals = fun.get_xy(df_int, 'height', df_comb)\n",
    "plt.bar(x_vals, y_vals)\n",
    "plt.ylabel(\"# of Interceptions\")\n",
    "plt.xlabel(\"Height (in inches)\")\n",
    "plt.title(\"Comparing the height of NFL players versus the number of interceptions\")\n",
    "plt.show()"
   ]
  },
  {
   "cell_type": "code",
   "execution_count": 229,
   "metadata": {},
   "outputs": [
    {
     "data": {
      "image/png": "[encoded data removed]",
      "text/plain": [
       "<Figure size 432x288 with 1 Axes>"
      ]
     },
     "metadata": {
      "needs_background": "light"
     },
     "output_type": "display_data"
    }
   ],
   "source": [
    "fun.plot_points(df_int, 'weight', df_comb, ylabel='Interceptions', plot='scatter',agg='avg')"
   ]
  },
  {
   "cell_type": "code",
   "execution_count": 368,
   "metadata": {},
   "outputs": [
    {
     "data": {
      "image/png": "[encoded data removed]",
      "text/plain": [
       "<Figure size 432x288 with 1 Axes>"
      ]
     },
     "metadata": {
      "needs_background": "light"
     },
     "output_type": "display_data"
    }
   ],
   "source": [
    "x_vals, y_vals = fun.get_agg(df_int, 'weight', df_comb)\n",
    "plt.scatter(x_vals, y_vals)\n",
    "plt.ylabel(\"# of Interceptions\")\n",
    "plt.xlabel(\"Weight (in lbs)\")\n",
    "plt.title(\"Comparing the weight of NFL players versus the number of interceptions\")\n",
    "plt.show()"
   ]
  },
  {
   "cell_type": "markdown",
   "metadata": {},
   "source": [
    "# Below is practice from previous"
   ]
  },
  {
   "cell_type": "markdown",
   "metadata": {},
   "source": [
    "------"
   ]
  },
  {
   "cell_type": "code",
   "execution_count": 51,
   "metadata": {},
   "outputs": [],
   "source": [
    "checking = players[players.position.isin([\"QB\", \"RB\", \"WR\", \"TE\"])][['position', 'displayName']]"
   ]
  },
  {
   "cell_type": "code",
   "execution_count": 305,
   "metadata": {},
   "outputs": [],
   "source": [
    "keyword = \"INTERCEPTED\"\n",
    "df_int = plays[plays.playDescription.str.contains(keyword)][['playDescription','possessionTeam', 'gameId']]\n",
    "df_merge = pd.merge(df_int, games[['gameId', 'homeTeamAbbr', 'visitorTeamAbbr']], how='inner', on='gameId')"
   ]
  },
  {
   "cell_type": "code",
   "execution_count": 224,
   "metadata": {},
   "outputs": [
    {
     "data": {
      "text/plain": [
       "'INTERCEPTED'"
      ]
     },
     "execution_count": 224,
     "metadata": {},
     "output_type": "execute_result"
    }
   ],
   "source": [
    "keyword"
   ]
  },
  {
   "cell_type": "code",
   "execution_count": 306,
   "metadata": {},
   "outputs": [],
   "source": [
    "df_plays = plays[plays.playDescription.str.contains(keyword)][['playDescription','possessionTeam', 'gameId','playId']]"
   ]
  },
  {
   "cell_type": "code",
   "execution_count": 307,
   "metadata": {},
   "outputs": [],
   "source": [
    "df_merge_games = pd.merge(df_plays, games[['gameId', 'homeTeamAbbr', 'visitorTeamAbbr','week']], how='inner', on='gameId')"
   ]
  },
  {
   "cell_type": "code",
   "execution_count": null,
   "metadata": {},
   "outputs": [],
   "source": []
  },
  {
   "cell_type": "code",
   "execution_count": 308,
   "metadata": {},
   "outputs": [],
   "source": [
    "week1['week'] = 1\n",
    "# week1 = week1.drop(columns=['week1'])"
   ]
  },
  {
   "cell_type": "code",
   "execution_count": 309,
   "metadata": {},
   "outputs": [],
   "source": [
    "df_merge_week = pd.merge(df_merge_games, week1[['gameId', 'playId','nflId', 'displayName', 'event', 'x','y', 'frameId', 'week', 'position']], on=['gameId', 'playId', 'week'])"
   ]
  },
  {
   "cell_type": "code",
   "execution_count": 310,
   "metadata": {},
   "outputs": [],
   "source": [
    "df_defense = df_merge_week[~df_merge_week.position.isin(OFFENSE)]"
   ]
  },
  {
   "cell_type": "code",
   "execution_count": 311,
   "metadata": {},
   "outputs": [],
   "source": [
    "df_defense = df_defense[df_defense.event == 'pass_outcome_interception']"
   ]
  },
  {
   "cell_type": "code",
   "execution_count": 254,
   "metadata": {},
   "outputs": [],
   "source": [
    "def clean_description(row, keyword):\n",
    "#     print(keyword, row)\n",
    "    start = row.index(keyword) + len(keyword)\n",
    "    word = row[start:]\n",
    "#     print(word)\n",
    "    word = word[:word.index(\" \")]\n",
    "    \n",
    "    return word\n",
    "    \n",
    "    \n",
    "    \n",
    "    \n",
    "\n",
    "    "
   ]
  },
  {
   "cell_type": "code",
   "execution_count": 312,
   "metadata": {},
   "outputs": [],
   "source": [
    "df_defense.loc[:,'playDescription'] = df_defense['playDescription'].apply(lambda row: clean_description(row, 'INTERCEPTED by '))"
   ]
  },
  {
   "cell_type": "code",
   "execution_count": 313,
   "metadata": {},
   "outputs": [],
   "source": [
    "def shorten(name):\n",
    "    first_last = name.split(\" \")\n",
    "    short = first_last[0][0] + \".\"\n",
    "    short+=\"\".join(first_last[1:])\n",
    "    return short"
   ]
  },
  {
   "cell_type": "code",
   "execution_count": 276,
   "metadata": {},
   "outputs": [],
   "source": [
    "# shorten(\"Jacob Michal-Rick\")"
   ]
  },
  {
   "cell_type": "code",
   "execution_count": 315,
   "metadata": {},
   "outputs": [],
   "source": [
    "df_defense.loc[:, 'shorten_name'] = df_defense.displayName.apply(lambda row: shorten(row))"
   ]
  },
  {
   "cell_type": "code",
   "execution_count": 321,
   "metadata": {},
   "outputs": [
    {
     "data": {
      "text/plain": [
       "(30, 15)"
      ]
     },
     "execution_count": 321,
     "metadata": {},
     "output_type": "execute_result"
    }
   ],
   "source": [
    "df_defense[df_defense.playDescription == df_defense.shorten_name].shape"
   ]
  },
  {
   "cell_type": "code",
   "execution_count": 123,
   "metadata": {},
   "outputs": [],
   "source": [
    "# df_merge_week[(df_merge_week.gameId == 2018090600)]"
   ]
  },
  {
   "cell_type": "code",
   "execution_count": 58,
   "metadata": {},
   "outputs": [],
   "source": [
    "dname = {k:v for k, v in sorted(dict(Counter(checking)).items(), key=lambda pair:pair[1], reverse=True)}"
   ]
  },
  {
   "cell_type": "code",
   "execution_count": 59,
   "metadata": {},
   "outputs": [
    {
     "data": {
      "text/plain": [
       "{'position': 1, 'displayName': 1}"
      ]
     },
     "execution_count": 59,
     "metadata": {},
     "output_type": "execute_result"
    }
   ],
   "source": [
    "dname"
   ]
  },
  {
   "cell_type": "code",
   "execution_count": 113,
   "metadata": {},
   "outputs": [],
   "source": [
    "# sorted(dict(Counter(names)).items(), key=lambda pair: pair[1], reverse=True)"
   ]
  },
  {
   "cell_type": "code",
   "execution_count": 114,
   "metadata": {},
   "outputs": [],
   "source": [
    "# names"
   ]
  },
  {
   "cell_type": "code",
   "execution_count": 64,
   "metadata": {},
   "outputs": [],
   "source": [
    "# te = inte[inte.frameId == 55][['x', 'y', 'nflId', 'displayName']]\n",
    "# te"
   ]
  },
  {
   "cell_type": "code",
   "execution_count": 51,
   "metadata": {},
   "outputs": [],
   "source": [
    "football = te[te.displayName == \"Football\"][['x', 'y']]\n",
    "football_x = football.x.values[0]\n",
    "football_y = football.y.values[0]"
   ]
  },
  {
   "cell_type": "code",
   "execution_count": 52,
   "metadata": {},
   "outputs": [],
   "source": [
    "football = te[te.displayName == \"Football\"][['x', 'y']]\n",
    "football_x = football.x.values[0]\n",
    "football_y = football.y.values[0]\n",
    "loc = [te.x.values, te.y.values, te.nflId.values]\n",
    "def distance(x1, y1, x2, y2):\n",
    "    return math.sqrt((y1 - y1)**2  + (x1-x2)**2)\n",
    "dist = [(distance(football_x, football_y, x, y), nfl) for x, y, nfl in zip(loc[0], loc[1], loc[2]) if not np.isnan(nfl)]"
   ]
  },
  {
   "cell_type": "code",
   "execution_count": 53,
   "metadata": {},
   "outputs": [],
   "source": [
    "loc = [te.x.values, te.y.values, te.nflId.values]"
   ]
  },
  {
   "cell_type": "code",
   "execution_count": 54,
   "metadata": {},
   "outputs": [],
   "source": [
    "import math"
   ]
  },
  {
   "cell_type": "code",
   "execution_count": 55,
   "metadata": {},
   "outputs": [],
   "source": [
    "dist = [(distance(football_x, football_y, x, y), nfl) for x, y, nfl in zip(loc[0], loc[1], loc[2]) if not np.isnan(nfl)]"
   ]
  },
  {
   "cell_type": "code",
   "execution_count": 56,
   "metadata": {},
   "outputs": [
    {
     "ename": "ValueError",
     "evalue": "invalid number of arguments",
     "output_type": "error",
     "traceback": [
      "\u001b[1;31m---------------------------------------------------------------------------\u001b[0m",
      "\u001b[1;31mValueError\u001b[0m                                Traceback (most recent call last)",
      "\u001b[1;32m<ipython-input-56-855ea2de00ae>\u001b[0m in \u001b[0;36m<module>\u001b[1;34m\u001b[0m\n\u001b[1;32m----> 1\u001b[1;33m \u001b[0mnp\u001b[0m\u001b[1;33m.\u001b[0m\u001b[0misnan\u001b[0m\u001b[1;33m(\u001b[0m\u001b[1;33m)\u001b[0m\u001b[1;33m\u001b[0m\u001b[1;33m\u001b[0m\u001b[0m\n\u001b[0m",
      "\u001b[1;31mValueError\u001b[0m: invalid number of arguments"
     ]
    }
   ],
   "source": [
    "np.isnan()"
   ]
  },
  {
   "cell_type": "code",
   "execution_count": 57,
   "metadata": {},
   "outputs": [
    {
     "data": {
      "text/plain": [
       "[(21.4, 310.0),\n",
       " (16.17, 79848.0),\n",
       " (2.9300000000000015, 2495454.0),\n",
       " (5.790000000000001, 2495613.0),\n",
       " (7.0600000000000005, 2533040.0),\n",
       " (19.559999999999995, 2534832.0),\n",
       " (20.939999999999998, 2543583.0),\n",
       " (18.71, 2552315.0),\n",
       " (6.380000000000001, 2555383.0),\n",
       " (6.9, 2555415.0),\n",
       " (5.4, 2557958.0),\n",
       " (0.120000000000001, 2558168.0),\n",
       " (5.040000000000001, 2560854.0)]"
      ]
     },
     "execution_count": 57,
     "metadata": {},
     "output_type": "execute_result"
    }
   ],
   "source": [
    "dist"
   ]
  },
  {
   "cell_type": "code",
   "execution_count": 58,
   "metadata": {},
   "outputs": [
    {
     "data": {
      "text/html": [
       "<div>\n",
       "<style scoped>\n",
       "    .dataframe tbody tr th:only-of-type {\n",
       "        vertical-align: middle;\n",
       "    }\n",
       "\n",
       "    .dataframe tbody tr th {\n",
       "        vertical-align: top;\n",
       "    }\n",
       "\n",
       "    .dataframe thead th {\n",
       "        text-align: right;\n",
       "    }\n",
       "</style>\n",
       "<table border=\"1\" class=\"dataframe\">\n",
       "  <thead>\n",
       "    <tr style=\"text-align: right;\">\n",
       "      <th></th>\n",
       "      <th>nflId</th>\n",
       "      <th>height</th>\n",
       "      <th>weight</th>\n",
       "      <th>birthDate</th>\n",
       "      <th>collegeName</th>\n",
       "      <th>position</th>\n",
       "      <th>displayName</th>\n",
       "    </tr>\n",
       "  </thead>\n",
       "  <tbody>\n",
       "    <tr>\n",
       "      <th>44</th>\n",
       "      <td>2558168</td>\n",
       "      <td>74</td>\n",
       "      <td>209</td>\n",
       "      <td>1995-08-29</td>\n",
       "      <td>West Virginia</td>\n",
       "      <td>CB</td>\n",
       "      <td>Rasul Douglas</td>\n",
       "    </tr>\n",
       "  </tbody>\n",
       "</table>\n",
       "</div>"
      ],
      "text/plain": [
       "      nflId height  weight   birthDate    collegeName position    displayName\n",
       "44  2558168     74     209  1995-08-29  West Virginia       CB  Rasul Douglas"
      ]
     },
     "execution_count": 58,
     "metadata": {},
     "output_type": "execute_result"
    }
   ],
   "source": [
    "players[players.nflId == min(dist, key = lambda pair: pair[0])[1]]"
   ]
  },
  {
   "cell_type": "code",
   "execution_count": null,
   "metadata": {},
   "outputs": [],
   "source": [
    "\n",
    "\n",
    "for row in te.itertuples():\n",
    "#     print(row)\n",
    "    x = getattr(row, 'x')\n",
    "    y = getattr(row, 'y')\n",
    "    \n",
    "    nflId = getattr(row, \"nflId\")\n",
    "    \n",
    "    \n",
    "    \n",
    "    "
   ]
  },
  {
   "cell_type": "code",
   "execution_count": 49,
   "metadata": {},
   "outputs": [
    {
     "data": {
      "text/html": [
       "<div>\n",
       "<style scoped>\n",
       "    .dataframe tbody tr th:only-of-type {\n",
       "        vertical-align: middle;\n",
       "    }\n",
       "\n",
       "    .dataframe tbody tr th {\n",
       "        vertical-align: top;\n",
       "    }\n",
       "\n",
       "    .dataframe thead th {\n",
       "        text-align: right;\n",
       "    }\n",
       "</style>\n",
       "<table border=\"1\" class=\"dataframe\">\n",
       "  <thead>\n",
       "    <tr style=\"text-align: right;\">\n",
       "      <th></th>\n",
       "      <th>x</th>\n",
       "      <th>y</th>\n",
       "      <th>nflId</th>\n",
       "      <th>displayName</th>\n",
       "    </tr>\n",
       "  </thead>\n",
       "  <tbody>\n",
       "    <tr>\n",
       "      <th>56442</th>\n",
       "      <td>35.53</td>\n",
       "      <td>26.76</td>\n",
       "      <td>310.0</td>\n",
       "      <td>Matt Ryan</td>\n",
       "    </tr>\n",
       "    <tr>\n",
       "      <th>56443</th>\n",
       "      <td>30.30</td>\n",
       "      <td>30.04</td>\n",
       "      <td>79848.0</td>\n",
       "      <td>Malcolm Jenkins</td>\n",
       "    </tr>\n",
       "    <tr>\n",
       "      <th>56444</th>\n",
       "      <td>11.20</td>\n",
       "      <td>1.48</td>\n",
       "      <td>2495454.0</td>\n",
       "      <td>Julio Jones</td>\n",
       "    </tr>\n",
       "    <tr>\n",
       "      <th>56445</th>\n",
       "      <td>19.92</td>\n",
       "      <td>23.90</td>\n",
       "      <td>2495613.0</td>\n",
       "      <td>Corey Graham</td>\n",
       "    </tr>\n",
       "    <tr>\n",
       "      <th>56446</th>\n",
       "      <td>21.19</td>\n",
       "      <td>28.26</td>\n",
       "      <td>2533040.0</td>\n",
       "      <td>Mohamed Sanu</td>\n",
       "    </tr>\n",
       "    <tr>\n",
       "      <th>56447</th>\n",
       "      <td>33.69</td>\n",
       "      <td>32.01</td>\n",
       "      <td>2534832.0</td>\n",
       "      <td>Rodney McLeod</td>\n",
       "    </tr>\n",
       "    <tr>\n",
       "      <th>56448</th>\n",
       "      <td>35.07</td>\n",
       "      <td>30.84</td>\n",
       "      <td>2543583.0</td>\n",
       "      <td>Devonta Freeman</td>\n",
       "    </tr>\n",
       "    <tr>\n",
       "      <th>56449</th>\n",
       "      <td>32.84</td>\n",
       "      <td>30.56</td>\n",
       "      <td>2552315.0</td>\n",
       "      <td>Jordan Hicks</td>\n",
       "    </tr>\n",
       "    <tr>\n",
       "      <th>56450</th>\n",
       "      <td>7.75</td>\n",
       "      <td>43.95</td>\n",
       "      <td>2555383.0</td>\n",
       "      <td>Jalen Mills</td>\n",
       "    </tr>\n",
       "    <tr>\n",
       "      <th>56451</th>\n",
       "      <td>7.23</td>\n",
       "      <td>46.56</td>\n",
       "      <td>2555415.0</td>\n",
       "      <td>Austin Hooper</td>\n",
       "    </tr>\n",
       "    <tr>\n",
       "      <th>56452</th>\n",
       "      <td>19.53</td>\n",
       "      <td>19.51</td>\n",
       "      <td>2557958.0</td>\n",
       "      <td>Sidney Jones</td>\n",
       "    </tr>\n",
       "    <tr>\n",
       "      <th>56453</th>\n",
       "      <td>14.01</td>\n",
       "      <td>0.55</td>\n",
       "      <td>2558168.0</td>\n",
       "      <td>Rasul Douglas</td>\n",
       "    </tr>\n",
       "    <tr>\n",
       "      <th>56454</th>\n",
       "      <td>19.17</td>\n",
       "      <td>20.18</td>\n",
       "      <td>2560854.0</td>\n",
       "      <td>Calvin Ridley</td>\n",
       "    </tr>\n",
       "    <tr>\n",
       "      <th>56455</th>\n",
       "      <td>14.13</td>\n",
       "      <td>0.73</td>\n",
       "      <td>NaN</td>\n",
       "      <td>Football</td>\n",
       "    </tr>\n",
       "  </tbody>\n",
       "</table>\n",
       "</div>"
      ],
      "text/plain": [
       "           x      y      nflId      displayName\n",
       "56442  35.53  26.76      310.0        Matt Ryan\n",
       "56443  30.30  30.04    79848.0  Malcolm Jenkins\n",
       "56444  11.20   1.48  2495454.0      Julio Jones\n",
       "56445  19.92  23.90  2495613.0     Corey Graham\n",
       "56446  21.19  28.26  2533040.0     Mohamed Sanu\n",
       "56447  33.69  32.01  2534832.0    Rodney McLeod\n",
       "56448  35.07  30.84  2543583.0  Devonta Freeman\n",
       "56449  32.84  30.56  2552315.0     Jordan Hicks\n",
       "56450   7.75  43.95  2555383.0      Jalen Mills\n",
       "56451   7.23  46.56  2555415.0    Austin Hooper\n",
       "56452  19.53  19.51  2557958.0     Sidney Jones\n",
       "56453  14.01   0.55  2558168.0    Rasul Douglas\n",
       "56454  19.17  20.18  2560854.0    Calvin Ridley\n",
       "56455  14.13   0.73        NaN         Football"
      ]
     },
     "execution_count": 49,
     "metadata": {},
     "output_type": "execute_result"
    }
   ],
   "source": [
    "te = inte[inte.frameId == 55][['x', 'y', 'nflId', 'displayName']]\n",
    "te"
   ]
  },
  {
   "cell_type": "code",
   "execution_count": null,
   "metadata": {},
   "outputs": [],
   "source": [
    "# def throw_stats(plays):\n",
    "stats = {}\n",
    "test = plays[['possessionTeam', 'passResult', 'offensePlayResult']]\n",
    "#     test.head()\n",
    "passing = test[['possessionTeam', 'offensePlayResult']].groupby(by='possessionTeam', as_index=False).sum()\n",
    "\n",
    "for team in test.possessionTeam.unique():\n",
    "    stats[team] = dict(test[test.possessionTeam == team].passResult.value_counts())\n",
    "\n",
    "#     return passing, stats\n",
    "    "
   ]
  },
  {
   "cell_type": "code",
   "execution_count": null,
   "metadata": {},
   "outputs": [],
   "source": [
    "# passing"
   ]
  },
  {
   "cell_type": "code",
   "execution_count": null,
   "metadata": {},
   "outputs": [],
   "source": [
    "# stats"
   ]
  },
  {
   "cell_type": "code",
   "execution_count": null,
   "metadata": {},
   "outputs": [],
   "source": [
    "# stats.values()"
   ]
  },
  {
   "cell_type": "code",
   "execution_count": null,
   "metadata": {},
   "outputs": [],
   "source": [
    "passing.offensePlayResult = passing.offensePlayResult.apply(lambda row: row/16)"
   ]
  },
  {
   "cell_type": "code",
   "execution_count": null,
   "metadata": {},
   "outputs": [],
   "source": [
    "ps = {}\n",
    "for idx, d in enumerate(passing.to_dict(orient='records')):\n",
    "    pair = list(d.values())\n",
    "    values = pair\n",
    "    values += [val/16 for val in list(stats[pair[0]].values())[:4]]\n",
    "    ps['row{}'.format(idx)] = values"
   ]
  },
  {
   "cell_type": "code",
   "execution_count": null,
   "metadata": {},
   "outputs": [],
   "source": [
    "pd.DataFrame.from_dict(ps, orient='index',columns=['Team', \"yards\", 'complete', 'incomplete', 'sack', 'intercept'])"
   ]
  },
  {
   "cell_type": "code",
   "execution_count": null,
   "metadata": {},
   "outputs": [],
   "source": [
    "ps"
   ]
  },
  {
   "cell_type": "code",
   "execution_count": null,
   "metadata": {},
   "outputs": [],
   "source": [
    "{list(d.values())[0] : list(d.values[1]) for d in passing.to_dict(orient='records')}"
   ]
  },
  {
   "cell_type": "code",
   "execution_count": 186,
   "metadata": {},
   "outputs": [],
   "source": [
    "outcomes = ['pass_outcome_interception','pass_tipped','qb_strip_sack', 'pass_arrived','pass_forward','qb_sack', 'fumble']\n",
    "pass_defend = ['pass_outcome_interception','pass_tipped']"
   ]
  },
  {
   "cell_type": "code",
   "execution_count": 193,
   "metadata": {},
   "outputs": [],
   "source": [
    "# week1"
   ]
  },
  {
   "cell_type": "code",
   "execution_count": 197,
   "metadata": {},
   "outputs": [
    {
     "data": {
      "text/plain": [
       "[['x', 'y', 'nflId', 'displayName', 'playId']]"
      ]
     },
     "execution_count": 197,
     "metadata": {},
     "output_type": "execute_result"
    }
   ],
   "source": [
    "[['x', 'y', 'nflId', 'displayName', 'playId']]"
   ]
  },
  {
   "cell_type": "code",
   "execution_count": 201,
   "metadata": {},
   "outputs": [],
   "source": [
    "# plays"
   ]
  },
  {
   "cell_type": "code",
   "execution_count": 203,
   "metadata": {},
   "outputs": [],
   "source": [
    "# plays"
   ]
  },
  {
   "cell_type": "code",
   "execution_count": 208,
   "metadata": {},
   "outputs": [
    {
     "data": {
      "text/plain": [
       "Index(['gameId', 'playId', 'playDescription', 'quarter', 'down', 'yardsToGo',\n",
       "       'possessionTeam', 'playType', 'yardlineSide', 'yardlineNumber',\n",
       "       'offenseFormation', 'personnelO', 'defendersInTheBox',\n",
       "       'numberOfPassRushers', 'personnelD', 'typeDropback',\n",
       "       'preSnapVisitorScore', 'preSnapHomeScore', 'gameClock',\n",
       "       'absoluteYardlineNumber', 'penaltyCodes', 'penaltyJerseyNumbers',\n",
       "       'passResult', 'offensePlayResult', 'playResult', 'epa',\n",
       "       'isDefensivePI'],\n",
       "      dtype='object')"
      ]
     },
     "execution_count": 208,
     "metadata": {},
     "output_type": "execute_result"
    }
   ],
   "source": [
    "plays.columns"
   ]
  },
  {
   "cell_type": "code",
   "execution_count": 224,
   "metadata": {},
   "outputs": [],
   "source": [
    "def distance(x1, y1, x2, y2):\n",
    "    return math.sqrt((y1 - y1)**2  + (x1-x2)**2)"
   ]
  },
  {
   "cell_type": "code",
   "execution_count": 220,
   "metadata": {},
   "outputs": [],
   "source": [
    "final_cols = ['x', 'y','event', 'nflId',\n",
    "       'displayName', 'jerseyNumber', 'position', 'frameId', 'team', 'gameId',\n",
    "       'playId', 'playDescription', 'passResult']"
   ]
  },
  {
   "cell_type": "code",
   "execution_count": null,
   "metadata": {},
   "outputs": [],
   "source": []
  },
  {
   "cell_type": "code",
   "execution_count": 235,
   "metadata": {},
   "outputs": [],
   "source": [
    "def get_defender(week, action, final_cols):\n",
    "    \n",
    "    action_dict = {key:[] for key in action}\n",
    "    \n",
    "    df_action = week[week.event.isin(action)]\n",
    "    df_action = df_action[~df_action.position.isin([\"QB\", \"RB\", \"WR\", \"TE\", \"FB\"])]\n",
    "    df_merge = pd.merge(df_action, plays[['playId', 'playDescription', 'passResult']], how='inner', on='playId')\n",
    "\n",
    "    for frame in df_merge.frameId.unique().tolist():\n",
    "        df_frame = df_merge[df_merge.frameId == frame]\n",
    "        football = df_frame[df_frame.displayName == 'Football'][['x','y']]\n",
    "        football_x = football.x.values[0]\n",
    "        football_y = football.y.values[0]\n",
    "        loc = [df_frame.x.values, df_frame.y.values, df_frame.displayName.values]\n",
    "#         dist = [(distance(football_x, football_y, x, y), nfl) for x, y, nfl in zip(loc[0], loc[1], loc[2]) if not np.isnan(nfl)]\n",
    "        dist = [(distance(football_x, football_y, x, y), name) for x, y, name in zip(loc[0], loc[1], loc[2]) if name != \"Football\"]\n",
    "        print(dist)\n",
    "#         players[players.nflId == min(dist, key = lambda pair: pair[0])[1]]   \n",
    "        \n",
    "#         df_action[df_merge[df_merge.frameId].event.tolist()[0]].append()\n",
    "#     football = te[te.displayName == \"Football\"][['x', 'y']]\n",
    "#     football_x = football.x.values[0]\n",
    "#     football_y = football.y.values[0]\n",
    "#     loc = [te.x.values, te.y.values, te.nflId.values]\n",
    "#     def distance(x1, y1, x2, y2):\n",
    "#         return math.sqrt((y1 - y1)**2  + (x1-x2)**2)\n",
    "#     dist = [(distance(football_x, football_y, x, y), nfl) for x, y, nfl in zip(loc[0], loc[1], loc[2]) if not np.isnan(nfl)]\n",
    "    return df_merge[final_cols], dist\n",
    "    \n",
    "    "
   ]
  },
  {
   "cell_type": "code",
   "execution_count": null,
   "metadata": {},
   "outputs": [],
   "source": []
  },
  {
   "cell_type": "code",
   "execution_count": 226,
   "metadata": {},
   "outputs": [
    {
     "data": {
      "text/html": [
       "<div>\n",
       "<style scoped>\n",
       "    .dataframe tbody tr th:only-of-type {\n",
       "        vertical-align: middle;\n",
       "    }\n",
       "\n",
       "    .dataframe tbody tr th {\n",
       "        vertical-align: top;\n",
       "    }\n",
       "\n",
       "    .dataframe thead th {\n",
       "        text-align: right;\n",
       "    }\n",
       "</style>\n",
       "<table border=\"1\" class=\"dataframe\">\n",
       "  <thead>\n",
       "    <tr style=\"text-align: right;\">\n",
       "      <th></th>\n",
       "      <th>nflId</th>\n",
       "      <th>height</th>\n",
       "      <th>weight</th>\n",
       "      <th>birthDate</th>\n",
       "      <th>collegeName</th>\n",
       "      <th>position</th>\n",
       "      <th>displayName</th>\n",
       "    </tr>\n",
       "  </thead>\n",
       "  <tbody>\n",
       "    <tr>\n",
       "      <th>44</th>\n",
       "      <td>2558168</td>\n",
       "      <td>74</td>\n",
       "      <td>209</td>\n",
       "      <td>1995-08-29</td>\n",
       "      <td>West Virginia</td>\n",
       "      <td>CB</td>\n",
       "      <td>Rasul Douglas</td>\n",
       "    </tr>\n",
       "  </tbody>\n",
       "</table>\n",
       "</div>"
      ],
      "text/plain": [
       "      nflId height  weight   birthDate    collegeName position    displayName\n",
       "44  2558168     74     209  1995-08-29  West Virginia       CB  Rasul Douglas"
      ]
     },
     "execution_count": 226,
     "metadata": {},
     "output_type": "execute_result"
    }
   ],
   "source": [
    "players[players.nflId == min(dist, key = lambda pair: pair[0])[1]]"
   ]
  },
  {
   "cell_type": "code",
   "execution_count": 246,
   "metadata": {},
   "outputs": [],
   "source": [
    "df_action = week1[week1.event.isin(pass_defend)]\n",
    "df_action = df_action[~df_action.position.isin([\"QB\", \"RB\", \"WR\", \"TE\", \"FB\"])]\n",
    "df_merge = pd.merge(df_action, plays[['playId', 'playDescription', 'passResult', 'gameId']], how='inner', on=['playId', 'gameId'])\n",
    "for frame in df_merge.frameId.unique().tolist()[:2]:\n",
    "    df_frame = df_merge[df_merge.frameId == frame]\n",
    "    football = df_frame[df_frame.displayName == 'Football'][['x','y']]\n",
    "    football_x = football.x.values[0]\n",
    "    football_y = football.y.values[0]\n",
    "    loc = [df_frame.x.values, df_frame.y.values, df_frame.displayName.values]\n",
    "    dist = [(distance(football_x, football_y, x, y), name) for x, y, name in zip(loc[0], loc[1], loc[2]) if name != \"Football\"]\n",
    "#     print(dist)\n"
   ]
  },
  {
   "cell_type": "code",
   "execution_count": 250,
   "metadata": {},
   "outputs": [
    {
     "data": {
      "text/html": [
       "<div>\n",
       "<style scoped>\n",
       "    .dataframe tbody tr th:only-of-type {\n",
       "        vertical-align: middle;\n",
       "    }\n",
       "\n",
       "    .dataframe tbody tr th {\n",
       "        vertical-align: top;\n",
       "    }\n",
       "\n",
       "    .dataframe thead th {\n",
       "        text-align: right;\n",
       "    }\n",
       "</style>\n",
       "<table border=\"1\" class=\"dataframe\">\n",
       "  <thead>\n",
       "    <tr style=\"text-align: right;\">\n",
       "      <th></th>\n",
       "      <th>frameId</th>\n",
       "      <th>gameId</th>\n",
       "      <th>playId</th>\n",
       "    </tr>\n",
       "  </thead>\n",
       "  <tbody>\n",
       "    <tr>\n",
       "      <th>0</th>\n",
       "      <td>28</td>\n",
       "      <td>2018090600</td>\n",
       "      <td>3257</td>\n",
       "    </tr>\n",
       "    <tr>\n",
       "      <th>8</th>\n",
       "      <td>55</td>\n",
       "      <td>2018090600</td>\n",
       "      <td>3392</td>\n",
       "    </tr>\n",
       "    <tr>\n",
       "      <th>16</th>\n",
       "      <td>58</td>\n",
       "      <td>2018090600</td>\n",
       "      <td>3481</td>\n",
       "    </tr>\n",
       "    <tr>\n",
       "      <th>24</th>\n",
       "      <td>56</td>\n",
       "      <td>2018090902</td>\n",
       "      <td>81</td>\n",
       "    </tr>\n",
       "    <tr>\n",
       "      <th>33</th>\n",
       "      <td>60</td>\n",
       "      <td>2018090902</td>\n",
       "      <td>163</td>\n",
       "    </tr>\n",
       "    <tr>\n",
       "      <th>41</th>\n",
       "      <td>38</td>\n",
       "      <td>2018090902</td>\n",
       "      <td>372</td>\n",
       "    </tr>\n",
       "    <tr>\n",
       "      <th>50</th>\n",
       "      <td>57</td>\n",
       "      <td>2018090907</td>\n",
       "      <td>584</td>\n",
       "    </tr>\n",
       "    <tr>\n",
       "      <th>60</th>\n",
       "      <td>32</td>\n",
       "      <td>2018090906</td>\n",
       "      <td>730</td>\n",
       "    </tr>\n",
       "    <tr>\n",
       "      <th>68</th>\n",
       "      <td>60</td>\n",
       "      <td>2018090901</td>\n",
       "      <td>704</td>\n",
       "    </tr>\n",
       "    <tr>\n",
       "      <th>77</th>\n",
       "      <td>42</td>\n",
       "      <td>2018090905</td>\n",
       "      <td>757</td>\n",
       "    </tr>\n",
       "    <tr>\n",
       "      <th>86</th>\n",
       "      <td>50</td>\n",
       "      <td>2018090905</td>\n",
       "      <td>757</td>\n",
       "    </tr>\n",
       "    <tr>\n",
       "      <th>95</th>\n",
       "      <td>34</td>\n",
       "      <td>2018090901</td>\n",
       "      <td>854</td>\n",
       "    </tr>\n",
       "    <tr>\n",
       "      <th>105</th>\n",
       "      <td>40</td>\n",
       "      <td>2018090900</td>\n",
       "      <td>1161</td>\n",
       "    </tr>\n",
       "    <tr>\n",
       "      <th>113</th>\n",
       "      <td>61</td>\n",
       "      <td>2018090901</td>\n",
       "      <td>1373</td>\n",
       "    </tr>\n",
       "    <tr>\n",
       "      <th>123</th>\n",
       "      <td>78</td>\n",
       "      <td>2018090901</td>\n",
       "      <td>1516</td>\n",
       "    </tr>\n",
       "    <tr>\n",
       "      <th>131</th>\n",
       "      <td>92</td>\n",
       "      <td>2018090905</td>\n",
       "      <td>1646</td>\n",
       "    </tr>\n",
       "    <tr>\n",
       "      <th>140</th>\n",
       "      <td>69</td>\n",
       "      <td>2018090900</td>\n",
       "      <td>1869</td>\n",
       "    </tr>\n",
       "    <tr>\n",
       "      <th>152</th>\n",
       "      <td>40</td>\n",
       "      <td>2018090901</td>\n",
       "      <td>1912</td>\n",
       "    </tr>\n",
       "    <tr>\n",
       "      <th>161</th>\n",
       "      <td>35</td>\n",
       "      <td>2018090900</td>\n",
       "      <td>2572</td>\n",
       "    </tr>\n",
       "    <tr>\n",
       "      <th>170</th>\n",
       "      <td>47</td>\n",
       "      <td>2018090900</td>\n",
       "      <td>2845</td>\n",
       "    </tr>\n",
       "    <tr>\n",
       "      <th>181</th>\n",
       "      <td>35</td>\n",
       "      <td>2018090901</td>\n",
       "      <td>3143</td>\n",
       "    </tr>\n",
       "    <tr>\n",
       "      <th>189</th>\n",
       "      <td>38</td>\n",
       "      <td>2018090907</td>\n",
       "      <td>3259</td>\n",
       "    </tr>\n",
       "    <tr>\n",
       "      <th>197</th>\n",
       "      <td>54</td>\n",
       "      <td>2018090907</td>\n",
       "      <td>3259</td>\n",
       "    </tr>\n",
       "    <tr>\n",
       "      <th>205</th>\n",
       "      <td>40</td>\n",
       "      <td>2018090907</td>\n",
       "      <td>3475</td>\n",
       "    </tr>\n",
       "    <tr>\n",
       "      <th>216</th>\n",
       "      <td>38</td>\n",
       "      <td>2018090901</td>\n",
       "      <td>3644</td>\n",
       "    </tr>\n",
       "    <tr>\n",
       "      <th>226</th>\n",
       "      <td>42</td>\n",
       "      <td>2018090907</td>\n",
       "      <td>3716</td>\n",
       "    </tr>\n",
       "    <tr>\n",
       "      <th>235</th>\n",
       "      <td>38</td>\n",
       "      <td>2018090902</td>\n",
       "      <td>3907</td>\n",
       "    </tr>\n",
       "    <tr>\n",
       "      <th>243</th>\n",
       "      <td>59</td>\n",
       "      <td>2018090901</td>\n",
       "      <td>4495</td>\n",
       "    </tr>\n",
       "    <tr>\n",
       "      <th>253</th>\n",
       "      <td>62</td>\n",
       "      <td>2018090903</td>\n",
       "      <td>2230</td>\n",
       "    </tr>\n",
       "    <tr>\n",
       "      <th>261</th>\n",
       "      <td>65</td>\n",
       "      <td>2018090901</td>\n",
       "      <td>5369</td>\n",
       "    </tr>\n",
       "    <tr>\n",
       "      <th>270</th>\n",
       "      <td>42</td>\n",
       "      <td>2018090903</td>\n",
       "      <td>2453</td>\n",
       "    </tr>\n",
       "    <tr>\n",
       "      <th>280</th>\n",
       "      <td>32</td>\n",
       "      <td>2018090910</td>\n",
       "      <td>784</td>\n",
       "    </tr>\n",
       "    <tr>\n",
       "      <th>288</th>\n",
       "      <td>46</td>\n",
       "      <td>2018090910</td>\n",
       "      <td>1155</td>\n",
       "    </tr>\n",
       "    <tr>\n",
       "      <th>296</th>\n",
       "      <td>34</td>\n",
       "      <td>2018090909</td>\n",
       "      <td>1968</td>\n",
       "    </tr>\n",
       "    <tr>\n",
       "      <th>306</th>\n",
       "      <td>58</td>\n",
       "      <td>2018090909</td>\n",
       "      <td>2809</td>\n",
       "    </tr>\n",
       "    <tr>\n",
       "      <th>316</th>\n",
       "      <td>53</td>\n",
       "      <td>2018090903</td>\n",
       "      <td>2509</td>\n",
       "    </tr>\n",
       "    <tr>\n",
       "      <th>324</th>\n",
       "      <td>72</td>\n",
       "      <td>2018090903</td>\n",
       "      <td>3438</td>\n",
       "    </tr>\n",
       "    <tr>\n",
       "      <th>335</th>\n",
       "      <td>47</td>\n",
       "      <td>2018090903</td>\n",
       "      <td>3578</td>\n",
       "    </tr>\n",
       "    <tr>\n",
       "      <th>343</th>\n",
       "      <td>47</td>\n",
       "      <td>2018090912</td>\n",
       "      <td>1724</td>\n",
       "    </tr>\n",
       "    <tr>\n",
       "      <th>353</th>\n",
       "      <td>73</td>\n",
       "      <td>2018091000</td>\n",
       "      <td>60</td>\n",
       "    </tr>\n",
       "    <tr>\n",
       "      <th>362</th>\n",
       "      <td>58</td>\n",
       "      <td>2018091000</td>\n",
       "      <td>738</td>\n",
       "    </tr>\n",
       "    <tr>\n",
       "      <th>371</th>\n",
       "      <td>40</td>\n",
       "      <td>2018091000</td>\n",
       "      <td>1101</td>\n",
       "    </tr>\n",
       "    <tr>\n",
       "      <th>380</th>\n",
       "      <td>42</td>\n",
       "      <td>2018091000</td>\n",
       "      <td>2495</td>\n",
       "    </tr>\n",
       "    <tr>\n",
       "      <th>389</th>\n",
       "      <td>51</td>\n",
       "      <td>2018091000</td>\n",
       "      <td>2735</td>\n",
       "    </tr>\n",
       "    <tr>\n",
       "      <th>398</th>\n",
       "      <td>35</td>\n",
       "      <td>2018091000</td>\n",
       "      <td>3393</td>\n",
       "    </tr>\n",
       "    <tr>\n",
       "      <th>407</th>\n",
       "      <td>38</td>\n",
       "      <td>2018091000</td>\n",
       "      <td>3632</td>\n",
       "    </tr>\n",
       "    <tr>\n",
       "      <th>416</th>\n",
       "      <td>52</td>\n",
       "      <td>2018091000</td>\n",
       "      <td>3676</td>\n",
       "    </tr>\n",
       "    <tr>\n",
       "      <th>425</th>\n",
       "      <td>60</td>\n",
       "      <td>2018091001</td>\n",
       "      <td>1507</td>\n",
       "    </tr>\n",
       "    <tr>\n",
       "      <th>434</th>\n",
       "      <td>45</td>\n",
       "      <td>2018091001</td>\n",
       "      <td>3385</td>\n",
       "    </tr>\n",
       "    <tr>\n",
       "      <th>442</th>\n",
       "      <td>65</td>\n",
       "      <td>2018091001</td>\n",
       "      <td>3511</td>\n",
       "    </tr>\n",
       "    <tr>\n",
       "      <th>451</th>\n",
       "      <td>51</td>\n",
       "      <td>2018091001</td>\n",
       "      <td>3976</td>\n",
       "    </tr>\n",
       "  </tbody>\n",
       "</table>\n",
       "</div>"
      ],
      "text/plain": [
       "     frameId      gameId  playId\n",
       "0         28  2018090600    3257\n",
       "8         55  2018090600    3392\n",
       "16        58  2018090600    3481\n",
       "24        56  2018090902      81\n",
       "33        60  2018090902     163\n",
       "41        38  2018090902     372\n",
       "50        57  2018090907     584\n",
       "60        32  2018090906     730\n",
       "68        60  2018090901     704\n",
       "77        42  2018090905     757\n",
       "86        50  2018090905     757\n",
       "95        34  2018090901     854\n",
       "105       40  2018090900    1161\n",
       "113       61  2018090901    1373\n",
       "123       78  2018090901    1516\n",
       "131       92  2018090905    1646\n",
       "140       69  2018090900    1869\n",
       "152       40  2018090901    1912\n",
       "161       35  2018090900    2572\n",
       "170       47  2018090900    2845\n",
       "181       35  2018090901    3143\n",
       "189       38  2018090907    3259\n",
       "197       54  2018090907    3259\n",
       "205       40  2018090907    3475\n",
       "216       38  2018090901    3644\n",
       "226       42  2018090907    3716\n",
       "235       38  2018090902    3907\n",
       "243       59  2018090901    4495\n",
       "253       62  2018090903    2230\n",
       "261       65  2018090901    5369\n",
       "270       42  2018090903    2453\n",
       "280       32  2018090910     784\n",
       "288       46  2018090910    1155\n",
       "296       34  2018090909    1968\n",
       "306       58  2018090909    2809\n",
       "316       53  2018090903    2509\n",
       "324       72  2018090903    3438\n",
       "335       47  2018090903    3578\n",
       "343       47  2018090912    1724\n",
       "353       73  2018091000      60\n",
       "362       58  2018091000     738\n",
       "371       40  2018091000    1101\n",
       "380       42  2018091000    2495\n",
       "389       51  2018091000    2735\n",
       "398       35  2018091000    3393\n",
       "407       38  2018091000    3632\n",
       "416       52  2018091000    3676\n",
       "425       60  2018091001    1507\n",
       "434       45  2018091001    3385\n",
       "442       65  2018091001    3511\n",
       "451       51  2018091001    3976"
      ]
     },
     "execution_count": 250,
     "metadata": {},
     "output_type": "execute_result"
    }
   ],
   "source": [
    "df_merge[['frameId', 'gameId', 'playId']].drop_duplicates()"
   ]
  },
  {
   "cell_type": "code",
   "execution_count": 244,
   "metadata": {},
   "outputs": [
    {
     "data": {
      "text/html": [
       "<div>\n",
       "<style scoped>\n",
       "    .dataframe tbody tr th:only-of-type {\n",
       "        vertical-align: middle;\n",
       "    }\n",
       "\n",
       "    .dataframe tbody tr th {\n",
       "        vertical-align: top;\n",
       "    }\n",
       "\n",
       "    .dataframe thead th {\n",
       "        text-align: right;\n",
       "    }\n",
       "</style>\n",
       "<table border=\"1\" class=\"dataframe\">\n",
       "  <thead>\n",
       "    <tr style=\"text-align: right;\">\n",
       "      <th></th>\n",
       "      <th>time</th>\n",
       "      <th>x</th>\n",
       "      <th>y</th>\n",
       "      <th>s</th>\n",
       "      <th>a</th>\n",
       "      <th>dis</th>\n",
       "      <th>o</th>\n",
       "      <th>dir</th>\n",
       "      <th>event</th>\n",
       "      <th>nflId</th>\n",
       "      <th>...</th>\n",
       "      <th>jerseyNumber</th>\n",
       "      <th>position</th>\n",
       "      <th>frameId</th>\n",
       "      <th>team</th>\n",
       "      <th>gameId</th>\n",
       "      <th>playId</th>\n",
       "      <th>playDirection</th>\n",
       "      <th>route</th>\n",
       "      <th>playDescription</th>\n",
       "      <th>passResult</th>\n",
       "    </tr>\n",
       "  </thead>\n",
       "  <tbody>\n",
       "    <tr>\n",
       "      <th>64</th>\n",
       "      <td>2018-09-07T03:37:32.900Z</td>\n",
       "      <td>30.30</td>\n",
       "      <td>30.04</td>\n",
       "      <td>1.93</td>\n",
       "      <td>0.80</td>\n",
       "      <td>0.19</td>\n",
       "      <td>238.34</td>\n",
       "      <td>221.00</td>\n",
       "      <td>pass_outcome_interception</td>\n",
       "      <td>79848.0</td>\n",
       "      <td>...</td>\n",
       "      <td>27.0</td>\n",
       "      <td>SS</td>\n",
       "      <td>55</td>\n",
       "      <td>home</td>\n",
       "      <td>2018090600</td>\n",
       "      <td>3392</td>\n",
       "      <td>left</td>\n",
       "      <td>NaN</td>\n",
       "      <td>(13:03) (Shotgun) M.Ryan pass short left inten...</td>\n",
       "      <td>IN</td>\n",
       "    </tr>\n",
       "    <tr>\n",
       "      <th>65</th>\n",
       "      <td>2018-09-07T03:37:32.900Z</td>\n",
       "      <td>30.30</td>\n",
       "      <td>30.04</td>\n",
       "      <td>1.93</td>\n",
       "      <td>0.80</td>\n",
       "      <td>0.19</td>\n",
       "      <td>238.34</td>\n",
       "      <td>221.00</td>\n",
       "      <td>pass_outcome_interception</td>\n",
       "      <td>79848.0</td>\n",
       "      <td>...</td>\n",
       "      <td>27.0</td>\n",
       "      <td>SS</td>\n",
       "      <td>55</td>\n",
       "      <td>home</td>\n",
       "      <td>2018090600</td>\n",
       "      <td>3392</td>\n",
       "      <td>left</td>\n",
       "      <td>NaN</td>\n",
       "      <td>(7:55) (Shotgun) S.Darnold pass deep left to T...</td>\n",
       "      <td>C</td>\n",
       "    </tr>\n",
       "    <tr>\n",
       "      <th>66</th>\n",
       "      <td>2018-09-07T03:37:32.900Z</td>\n",
       "      <td>30.30</td>\n",
       "      <td>30.04</td>\n",
       "      <td>1.93</td>\n",
       "      <td>0.80</td>\n",
       "      <td>0.19</td>\n",
       "      <td>238.34</td>\n",
       "      <td>221.00</td>\n",
       "      <td>pass_outcome_interception</td>\n",
       "      <td>79848.0</td>\n",
       "      <td>...</td>\n",
       "      <td>27.0</td>\n",
       "      <td>SS</td>\n",
       "      <td>55</td>\n",
       "      <td>home</td>\n",
       "      <td>2018090600</td>\n",
       "      <td>3392</td>\n",
       "      <td>left</td>\n",
       "      <td>NaN</td>\n",
       "      <td>(12:39) No. 5 - Joshua Dobbs in at QB for PIT....</td>\n",
       "      <td>C</td>\n",
       "    </tr>\n",
       "    <tr>\n",
       "      <th>67</th>\n",
       "      <td>2018-09-07T03:37:32.900Z</td>\n",
       "      <td>30.30</td>\n",
       "      <td>30.04</td>\n",
       "      <td>1.93</td>\n",
       "      <td>0.80</td>\n",
       "      <td>0.19</td>\n",
       "      <td>238.34</td>\n",
       "      <td>221.00</td>\n",
       "      <td>pass_outcome_interception</td>\n",
       "      <td>79848.0</td>\n",
       "      <td>...</td>\n",
       "      <td>27.0</td>\n",
       "      <td>SS</td>\n",
       "      <td>55</td>\n",
       "      <td>home</td>\n",
       "      <td>2018090600</td>\n",
       "      <td>3392</td>\n",
       "      <td>left</td>\n",
       "      <td>NaN</td>\n",
       "      <td>(12:53) (Shotgun) A.Rodgers pass deep left to ...</td>\n",
       "      <td>C</td>\n",
       "    </tr>\n",
       "    <tr>\n",
       "      <th>68</th>\n",
       "      <td>2018-09-07T03:37:32.900Z</td>\n",
       "      <td>30.30</td>\n",
       "      <td>30.04</td>\n",
       "      <td>1.93</td>\n",
       "      <td>0.80</td>\n",
       "      <td>0.19</td>\n",
       "      <td>238.34</td>\n",
       "      <td>221.00</td>\n",
       "      <td>pass_outcome_interception</td>\n",
       "      <td>79848.0</td>\n",
       "      <td>...</td>\n",
       "      <td>27.0</td>\n",
       "      <td>SS</td>\n",
       "      <td>55</td>\n",
       "      <td>home</td>\n",
       "      <td>2018090600</td>\n",
       "      <td>3392</td>\n",
       "      <td>left</td>\n",
       "      <td>NaN</td>\n",
       "      <td>(10:17) C.Keenum pass short right to A.Janovic...</td>\n",
       "      <td>C</td>\n",
       "    </tr>\n",
       "    <tr>\n",
       "      <th>69</th>\n",
       "      <td>2018-09-07T03:37:32.900Z</td>\n",
       "      <td>19.92</td>\n",
       "      <td>23.90</td>\n",
       "      <td>5.16</td>\n",
       "      <td>2.63</td>\n",
       "      <td>0.51</td>\n",
       "      <td>134.15</td>\n",
       "      <td>152.44</td>\n",
       "      <td>pass_outcome_interception</td>\n",
       "      <td>2495613.0</td>\n",
       "      <td>...</td>\n",
       "      <td>24.0</td>\n",
       "      <td>FS</td>\n",
       "      <td>55</td>\n",
       "      <td>home</td>\n",
       "      <td>2018090600</td>\n",
       "      <td>3392</td>\n",
       "      <td>left</td>\n",
       "      <td>NaN</td>\n",
       "      <td>(13:03) (Shotgun) M.Ryan pass short left inten...</td>\n",
       "      <td>IN</td>\n",
       "    </tr>\n",
       "    <tr>\n",
       "      <th>70</th>\n",
       "      <td>2018-09-07T03:37:32.900Z</td>\n",
       "      <td>19.92</td>\n",
       "      <td>23.90</td>\n",
       "      <td>5.16</td>\n",
       "      <td>2.63</td>\n",
       "      <td>0.51</td>\n",
       "      <td>134.15</td>\n",
       "      <td>152.44</td>\n",
       "      <td>pass_outcome_interception</td>\n",
       "      <td>2495613.0</td>\n",
       "      <td>...</td>\n",
       "      <td>24.0</td>\n",
       "      <td>FS</td>\n",
       "      <td>55</td>\n",
       "      <td>home</td>\n",
       "      <td>2018090600</td>\n",
       "      <td>3392</td>\n",
       "      <td>left</td>\n",
       "      <td>NaN</td>\n",
       "      <td>(7:55) (Shotgun) S.Darnold pass deep left to T...</td>\n",
       "      <td>C</td>\n",
       "    </tr>\n",
       "    <tr>\n",
       "      <th>71</th>\n",
       "      <td>2018-09-07T03:37:32.900Z</td>\n",
       "      <td>19.92</td>\n",
       "      <td>23.90</td>\n",
       "      <td>5.16</td>\n",
       "      <td>2.63</td>\n",
       "      <td>0.51</td>\n",
       "      <td>134.15</td>\n",
       "      <td>152.44</td>\n",
       "      <td>pass_outcome_interception</td>\n",
       "      <td>2495613.0</td>\n",
       "      <td>...</td>\n",
       "      <td>24.0</td>\n",
       "      <td>FS</td>\n",
       "      <td>55</td>\n",
       "      <td>home</td>\n",
       "      <td>2018090600</td>\n",
       "      <td>3392</td>\n",
       "      <td>left</td>\n",
       "      <td>NaN</td>\n",
       "      <td>(12:39) No. 5 - Joshua Dobbs in at QB for PIT....</td>\n",
       "      <td>C</td>\n",
       "    </tr>\n",
       "    <tr>\n",
       "      <th>72</th>\n",
       "      <td>2018-09-07T03:37:32.900Z</td>\n",
       "      <td>19.92</td>\n",
       "      <td>23.90</td>\n",
       "      <td>5.16</td>\n",
       "      <td>2.63</td>\n",
       "      <td>0.51</td>\n",
       "      <td>134.15</td>\n",
       "      <td>152.44</td>\n",
       "      <td>pass_outcome_interception</td>\n",
       "      <td>2495613.0</td>\n",
       "      <td>...</td>\n",
       "      <td>24.0</td>\n",
       "      <td>FS</td>\n",
       "      <td>55</td>\n",
       "      <td>home</td>\n",
       "      <td>2018090600</td>\n",
       "      <td>3392</td>\n",
       "      <td>left</td>\n",
       "      <td>NaN</td>\n",
       "      <td>(12:53) (Shotgun) A.Rodgers pass deep left to ...</td>\n",
       "      <td>C</td>\n",
       "    </tr>\n",
       "    <tr>\n",
       "      <th>73</th>\n",
       "      <td>2018-09-07T03:37:32.900Z</td>\n",
       "      <td>19.92</td>\n",
       "      <td>23.90</td>\n",
       "      <td>5.16</td>\n",
       "      <td>2.63</td>\n",
       "      <td>0.51</td>\n",
       "      <td>134.15</td>\n",
       "      <td>152.44</td>\n",
       "      <td>pass_outcome_interception</td>\n",
       "      <td>2495613.0</td>\n",
       "      <td>...</td>\n",
       "      <td>24.0</td>\n",
       "      <td>FS</td>\n",
       "      <td>55</td>\n",
       "      <td>home</td>\n",
       "      <td>2018090600</td>\n",
       "      <td>3392</td>\n",
       "      <td>left</td>\n",
       "      <td>NaN</td>\n",
       "      <td>(10:17) C.Keenum pass short right to A.Janovic...</td>\n",
       "      <td>C</td>\n",
       "    </tr>\n",
       "    <tr>\n",
       "      <th>74</th>\n",
       "      <td>2018-09-07T03:37:32.900Z</td>\n",
       "      <td>33.69</td>\n",
       "      <td>32.01</td>\n",
       "      <td>0.42</td>\n",
       "      <td>1.05</td>\n",
       "      <td>0.04</td>\n",
       "      <td>222.06</td>\n",
       "      <td>162.02</td>\n",
       "      <td>pass_outcome_interception</td>\n",
       "      <td>2534832.0</td>\n",
       "      <td>...</td>\n",
       "      <td>23.0</td>\n",
       "      <td>FS</td>\n",
       "      <td>55</td>\n",
       "      <td>home</td>\n",
       "      <td>2018090600</td>\n",
       "      <td>3392</td>\n",
       "      <td>left</td>\n",
       "      <td>NaN</td>\n",
       "      <td>(13:03) (Shotgun) M.Ryan pass short left inten...</td>\n",
       "      <td>IN</td>\n",
       "    </tr>\n",
       "    <tr>\n",
       "      <th>75</th>\n",
       "      <td>2018-09-07T03:37:32.900Z</td>\n",
       "      <td>33.69</td>\n",
       "      <td>32.01</td>\n",
       "      <td>0.42</td>\n",
       "      <td>1.05</td>\n",
       "      <td>0.04</td>\n",
       "      <td>222.06</td>\n",
       "      <td>162.02</td>\n",
       "      <td>pass_outcome_interception</td>\n",
       "      <td>2534832.0</td>\n",
       "      <td>...</td>\n",
       "      <td>23.0</td>\n",
       "      <td>FS</td>\n",
       "      <td>55</td>\n",
       "      <td>home</td>\n",
       "      <td>2018090600</td>\n",
       "      <td>3392</td>\n",
       "      <td>left</td>\n",
       "      <td>NaN</td>\n",
       "      <td>(7:55) (Shotgun) S.Darnold pass deep left to T...</td>\n",
       "      <td>C</td>\n",
       "    </tr>\n",
       "    <tr>\n",
       "      <th>76</th>\n",
       "      <td>2018-09-07T03:37:32.900Z</td>\n",
       "      <td>33.69</td>\n",
       "      <td>32.01</td>\n",
       "      <td>0.42</td>\n",
       "      <td>1.05</td>\n",
       "      <td>0.04</td>\n",
       "      <td>222.06</td>\n",
       "      <td>162.02</td>\n",
       "      <td>pass_outcome_interception</td>\n",
       "      <td>2534832.0</td>\n",
       "      <td>...</td>\n",
       "      <td>23.0</td>\n",
       "      <td>FS</td>\n",
       "      <td>55</td>\n",
       "      <td>home</td>\n",
       "      <td>2018090600</td>\n",
       "      <td>3392</td>\n",
       "      <td>left</td>\n",
       "      <td>NaN</td>\n",
       "      <td>(12:39) No. 5 - Joshua Dobbs in at QB for PIT....</td>\n",
       "      <td>C</td>\n",
       "    </tr>\n",
       "    <tr>\n",
       "      <th>77</th>\n",
       "      <td>2018-09-07T03:37:32.900Z</td>\n",
       "      <td>33.69</td>\n",
       "      <td>32.01</td>\n",
       "      <td>0.42</td>\n",
       "      <td>1.05</td>\n",
       "      <td>0.04</td>\n",
       "      <td>222.06</td>\n",
       "      <td>162.02</td>\n",
       "      <td>pass_outcome_interception</td>\n",
       "      <td>2534832.0</td>\n",
       "      <td>...</td>\n",
       "      <td>23.0</td>\n",
       "      <td>FS</td>\n",
       "      <td>55</td>\n",
       "      <td>home</td>\n",
       "      <td>2018090600</td>\n",
       "      <td>3392</td>\n",
       "      <td>left</td>\n",
       "      <td>NaN</td>\n",
       "      <td>(12:53) (Shotgun) A.Rodgers pass deep left to ...</td>\n",
       "      <td>C</td>\n",
       "    </tr>\n",
       "    <tr>\n",
       "      <th>78</th>\n",
       "      <td>2018-09-07T03:37:32.900Z</td>\n",
       "      <td>33.69</td>\n",
       "      <td>32.01</td>\n",
       "      <td>0.42</td>\n",
       "      <td>1.05</td>\n",
       "      <td>0.04</td>\n",
       "      <td>222.06</td>\n",
       "      <td>162.02</td>\n",
       "      <td>pass_outcome_interception</td>\n",
       "      <td>2534832.0</td>\n",
       "      <td>...</td>\n",
       "      <td>23.0</td>\n",
       "      <td>FS</td>\n",
       "      <td>55</td>\n",
       "      <td>home</td>\n",
       "      <td>2018090600</td>\n",
       "      <td>3392</td>\n",
       "      <td>left</td>\n",
       "      <td>NaN</td>\n",
       "      <td>(10:17) C.Keenum pass short right to A.Janovic...</td>\n",
       "      <td>C</td>\n",
       "    </tr>\n",
       "    <tr>\n",
       "      <th>79</th>\n",
       "      <td>2018-09-07T03:37:32.900Z</td>\n",
       "      <td>32.84</td>\n",
       "      <td>30.56</td>\n",
       "      <td>1.66</td>\n",
       "      <td>2.47</td>\n",
       "      <td>0.15</td>\n",
       "      <td>218.27</td>\n",
       "      <td>180.01</td>\n",
       "      <td>pass_outcome_interception</td>\n",
       "      <td>2552315.0</td>\n",
       "      <td>...</td>\n",
       "      <td>58.0</td>\n",
       "      <td>MLB</td>\n",
       "      <td>55</td>\n",
       "      <td>home</td>\n",
       "      <td>2018090600</td>\n",
       "      <td>3392</td>\n",
       "      <td>left</td>\n",
       "      <td>NaN</td>\n",
       "      <td>(13:03) (Shotgun) M.Ryan pass short left inten...</td>\n",
       "      <td>IN</td>\n",
       "    </tr>\n",
       "    <tr>\n",
       "      <th>80</th>\n",
       "      <td>2018-09-07T03:37:32.900Z</td>\n",
       "      <td>32.84</td>\n",
       "      <td>30.56</td>\n",
       "      <td>1.66</td>\n",
       "      <td>2.47</td>\n",
       "      <td>0.15</td>\n",
       "      <td>218.27</td>\n",
       "      <td>180.01</td>\n",
       "      <td>pass_outcome_interception</td>\n",
       "      <td>2552315.0</td>\n",
       "      <td>...</td>\n",
       "      <td>58.0</td>\n",
       "      <td>MLB</td>\n",
       "      <td>55</td>\n",
       "      <td>home</td>\n",
       "      <td>2018090600</td>\n",
       "      <td>3392</td>\n",
       "      <td>left</td>\n",
       "      <td>NaN</td>\n",
       "      <td>(7:55) (Shotgun) S.Darnold pass deep left to T...</td>\n",
       "      <td>C</td>\n",
       "    </tr>\n",
       "    <tr>\n",
       "      <th>81</th>\n",
       "      <td>2018-09-07T03:37:32.900Z</td>\n",
       "      <td>32.84</td>\n",
       "      <td>30.56</td>\n",
       "      <td>1.66</td>\n",
       "      <td>2.47</td>\n",
       "      <td>0.15</td>\n",
       "      <td>218.27</td>\n",
       "      <td>180.01</td>\n",
       "      <td>pass_outcome_interception</td>\n",
       "      <td>2552315.0</td>\n",
       "      <td>...</td>\n",
       "      <td>58.0</td>\n",
       "      <td>MLB</td>\n",
       "      <td>55</td>\n",
       "      <td>home</td>\n",
       "      <td>2018090600</td>\n",
       "      <td>3392</td>\n",
       "      <td>left</td>\n",
       "      <td>NaN</td>\n",
       "      <td>(12:39) No. 5 - Joshua Dobbs in at QB for PIT....</td>\n",
       "      <td>C</td>\n",
       "    </tr>\n",
       "    <tr>\n",
       "      <th>82</th>\n",
       "      <td>2018-09-07T03:37:32.900Z</td>\n",
       "      <td>32.84</td>\n",
       "      <td>30.56</td>\n",
       "      <td>1.66</td>\n",
       "      <td>2.47</td>\n",
       "      <td>0.15</td>\n",
       "      <td>218.27</td>\n",
       "      <td>180.01</td>\n",
       "      <td>pass_outcome_interception</td>\n",
       "      <td>2552315.0</td>\n",
       "      <td>...</td>\n",
       "      <td>58.0</td>\n",
       "      <td>MLB</td>\n",
       "      <td>55</td>\n",
       "      <td>home</td>\n",
       "      <td>2018090600</td>\n",
       "      <td>3392</td>\n",
       "      <td>left</td>\n",
       "      <td>NaN</td>\n",
       "      <td>(12:53) (Shotgun) A.Rodgers pass deep left to ...</td>\n",
       "      <td>C</td>\n",
       "    </tr>\n",
       "    <tr>\n",
       "      <th>83</th>\n",
       "      <td>2018-09-07T03:37:32.900Z</td>\n",
       "      <td>32.84</td>\n",
       "      <td>30.56</td>\n",
       "      <td>1.66</td>\n",
       "      <td>2.47</td>\n",
       "      <td>0.15</td>\n",
       "      <td>218.27</td>\n",
       "      <td>180.01</td>\n",
       "      <td>pass_outcome_interception</td>\n",
       "      <td>2552315.0</td>\n",
       "      <td>...</td>\n",
       "      <td>58.0</td>\n",
       "      <td>MLB</td>\n",
       "      <td>55</td>\n",
       "      <td>home</td>\n",
       "      <td>2018090600</td>\n",
       "      <td>3392</td>\n",
       "      <td>left</td>\n",
       "      <td>NaN</td>\n",
       "      <td>(10:17) C.Keenum pass short right to A.Janovic...</td>\n",
       "      <td>C</td>\n",
       "    </tr>\n",
       "    <tr>\n",
       "      <th>84</th>\n",
       "      <td>2018-09-07T03:37:32.900Z</td>\n",
       "      <td>7.75</td>\n",
       "      <td>43.95</td>\n",
       "      <td>0.68</td>\n",
       "      <td>4.08</td>\n",
       "      <td>0.09</td>\n",
       "      <td>226.02</td>\n",
       "      <td>329.55</td>\n",
       "      <td>pass_outcome_interception</td>\n",
       "      <td>2555383.0</td>\n",
       "      <td>...</td>\n",
       "      <td>31.0</td>\n",
       "      <td>CB</td>\n",
       "      <td>55</td>\n",
       "      <td>home</td>\n",
       "      <td>2018090600</td>\n",
       "      <td>3392</td>\n",
       "      <td>left</td>\n",
       "      <td>NaN</td>\n",
       "      <td>(13:03) (Shotgun) M.Ryan pass short left inten...</td>\n",
       "      <td>IN</td>\n",
       "    </tr>\n",
       "    <tr>\n",
       "      <th>85</th>\n",
       "      <td>2018-09-07T03:37:32.900Z</td>\n",
       "      <td>7.75</td>\n",
       "      <td>43.95</td>\n",
       "      <td>0.68</td>\n",
       "      <td>4.08</td>\n",
       "      <td>0.09</td>\n",
       "      <td>226.02</td>\n",
       "      <td>329.55</td>\n",
       "      <td>pass_outcome_interception</td>\n",
       "      <td>2555383.0</td>\n",
       "      <td>...</td>\n",
       "      <td>31.0</td>\n",
       "      <td>CB</td>\n",
       "      <td>55</td>\n",
       "      <td>home</td>\n",
       "      <td>2018090600</td>\n",
       "      <td>3392</td>\n",
       "      <td>left</td>\n",
       "      <td>NaN</td>\n",
       "      <td>(7:55) (Shotgun) S.Darnold pass deep left to T...</td>\n",
       "      <td>C</td>\n",
       "    </tr>\n",
       "    <tr>\n",
       "      <th>86</th>\n",
       "      <td>2018-09-07T03:37:32.900Z</td>\n",
       "      <td>7.75</td>\n",
       "      <td>43.95</td>\n",
       "      <td>0.68</td>\n",
       "      <td>4.08</td>\n",
       "      <td>0.09</td>\n",
       "      <td>226.02</td>\n",
       "      <td>329.55</td>\n",
       "      <td>pass_outcome_interception</td>\n",
       "      <td>2555383.0</td>\n",
       "      <td>...</td>\n",
       "      <td>31.0</td>\n",
       "      <td>CB</td>\n",
       "      <td>55</td>\n",
       "      <td>home</td>\n",
       "      <td>2018090600</td>\n",
       "      <td>3392</td>\n",
       "      <td>left</td>\n",
       "      <td>NaN</td>\n",
       "      <td>(12:39) No. 5 - Joshua Dobbs in at QB for PIT....</td>\n",
       "      <td>C</td>\n",
       "    </tr>\n",
       "    <tr>\n",
       "      <th>87</th>\n",
       "      <td>2018-09-07T03:37:32.900Z</td>\n",
       "      <td>7.75</td>\n",
       "      <td>43.95</td>\n",
       "      <td>0.68</td>\n",
       "      <td>4.08</td>\n",
       "      <td>0.09</td>\n",
       "      <td>226.02</td>\n",
       "      <td>329.55</td>\n",
       "      <td>pass_outcome_interception</td>\n",
       "      <td>2555383.0</td>\n",
       "      <td>...</td>\n",
       "      <td>31.0</td>\n",
       "      <td>CB</td>\n",
       "      <td>55</td>\n",
       "      <td>home</td>\n",
       "      <td>2018090600</td>\n",
       "      <td>3392</td>\n",
       "      <td>left</td>\n",
       "      <td>NaN</td>\n",
       "      <td>(12:53) (Shotgun) A.Rodgers pass deep left to ...</td>\n",
       "      <td>C</td>\n",
       "    </tr>\n",
       "    <tr>\n",
       "      <th>88</th>\n",
       "      <td>2018-09-07T03:37:32.900Z</td>\n",
       "      <td>7.75</td>\n",
       "      <td>43.95</td>\n",
       "      <td>0.68</td>\n",
       "      <td>4.08</td>\n",
       "      <td>0.09</td>\n",
       "      <td>226.02</td>\n",
       "      <td>329.55</td>\n",
       "      <td>pass_outcome_interception</td>\n",
       "      <td>2555383.0</td>\n",
       "      <td>...</td>\n",
       "      <td>31.0</td>\n",
       "      <td>CB</td>\n",
       "      <td>55</td>\n",
       "      <td>home</td>\n",
       "      <td>2018090600</td>\n",
       "      <td>3392</td>\n",
       "      <td>left</td>\n",
       "      <td>NaN</td>\n",
       "      <td>(10:17) C.Keenum pass short right to A.Janovic...</td>\n",
       "      <td>C</td>\n",
       "    </tr>\n",
       "    <tr>\n",
       "      <th>89</th>\n",
       "      <td>2018-09-07T03:37:32.900Z</td>\n",
       "      <td>19.53</td>\n",
       "      <td>19.51</td>\n",
       "      <td>2.39</td>\n",
       "      <td>3.89</td>\n",
       "      <td>0.26</td>\n",
       "      <td>255.19</td>\n",
       "      <td>7.99</td>\n",
       "      <td>pass_outcome_interception</td>\n",
       "      <td>2557958.0</td>\n",
       "      <td>...</td>\n",
       "      <td>22.0</td>\n",
       "      <td>CB</td>\n",
       "      <td>55</td>\n",
       "      <td>home</td>\n",
       "      <td>2018090600</td>\n",
       "      <td>3392</td>\n",
       "      <td>left</td>\n",
       "      <td>NaN</td>\n",
       "      <td>(13:03) (Shotgun) M.Ryan pass short left inten...</td>\n",
       "      <td>IN</td>\n",
       "    </tr>\n",
       "    <tr>\n",
       "      <th>90</th>\n",
       "      <td>2018-09-07T03:37:32.900Z</td>\n",
       "      <td>19.53</td>\n",
       "      <td>19.51</td>\n",
       "      <td>2.39</td>\n",
       "      <td>3.89</td>\n",
       "      <td>0.26</td>\n",
       "      <td>255.19</td>\n",
       "      <td>7.99</td>\n",
       "      <td>pass_outcome_interception</td>\n",
       "      <td>2557958.0</td>\n",
       "      <td>...</td>\n",
       "      <td>22.0</td>\n",
       "      <td>CB</td>\n",
       "      <td>55</td>\n",
       "      <td>home</td>\n",
       "      <td>2018090600</td>\n",
       "      <td>3392</td>\n",
       "      <td>left</td>\n",
       "      <td>NaN</td>\n",
       "      <td>(7:55) (Shotgun) S.Darnold pass deep left to T...</td>\n",
       "      <td>C</td>\n",
       "    </tr>\n",
       "    <tr>\n",
       "      <th>91</th>\n",
       "      <td>2018-09-07T03:37:32.900Z</td>\n",
       "      <td>19.53</td>\n",
       "      <td>19.51</td>\n",
       "      <td>2.39</td>\n",
       "      <td>3.89</td>\n",
       "      <td>0.26</td>\n",
       "      <td>255.19</td>\n",
       "      <td>7.99</td>\n",
       "      <td>pass_outcome_interception</td>\n",
       "      <td>2557958.0</td>\n",
       "      <td>...</td>\n",
       "      <td>22.0</td>\n",
       "      <td>CB</td>\n",
       "      <td>55</td>\n",
       "      <td>home</td>\n",
       "      <td>2018090600</td>\n",
       "      <td>3392</td>\n",
       "      <td>left</td>\n",
       "      <td>NaN</td>\n",
       "      <td>(12:39) No. 5 - Joshua Dobbs in at QB for PIT....</td>\n",
       "      <td>C</td>\n",
       "    </tr>\n",
       "    <tr>\n",
       "      <th>92</th>\n",
       "      <td>2018-09-07T03:37:32.900Z</td>\n",
       "      <td>19.53</td>\n",
       "      <td>19.51</td>\n",
       "      <td>2.39</td>\n",
       "      <td>3.89</td>\n",
       "      <td>0.26</td>\n",
       "      <td>255.19</td>\n",
       "      <td>7.99</td>\n",
       "      <td>pass_outcome_interception</td>\n",
       "      <td>2557958.0</td>\n",
       "      <td>...</td>\n",
       "      <td>22.0</td>\n",
       "      <td>CB</td>\n",
       "      <td>55</td>\n",
       "      <td>home</td>\n",
       "      <td>2018090600</td>\n",
       "      <td>3392</td>\n",
       "      <td>left</td>\n",
       "      <td>NaN</td>\n",
       "      <td>(12:53) (Shotgun) A.Rodgers pass deep left to ...</td>\n",
       "      <td>C</td>\n",
       "    </tr>\n",
       "    <tr>\n",
       "      <th>93</th>\n",
       "      <td>2018-09-07T03:37:32.900Z</td>\n",
       "      <td>19.53</td>\n",
       "      <td>19.51</td>\n",
       "      <td>2.39</td>\n",
       "      <td>3.89</td>\n",
       "      <td>0.26</td>\n",
       "      <td>255.19</td>\n",
       "      <td>7.99</td>\n",
       "      <td>pass_outcome_interception</td>\n",
       "      <td>2557958.0</td>\n",
       "      <td>...</td>\n",
       "      <td>22.0</td>\n",
       "      <td>CB</td>\n",
       "      <td>55</td>\n",
       "      <td>home</td>\n",
       "      <td>2018090600</td>\n",
       "      <td>3392</td>\n",
       "      <td>left</td>\n",
       "      <td>NaN</td>\n",
       "      <td>(10:17) C.Keenum pass short right to A.Janovic...</td>\n",
       "      <td>C</td>\n",
       "    </tr>\n",
       "    <tr>\n",
       "      <th>94</th>\n",
       "      <td>2018-09-07T03:37:32.900Z</td>\n",
       "      <td>14.01</td>\n",
       "      <td>0.55</td>\n",
       "      <td>5.42</td>\n",
       "      <td>2.87</td>\n",
       "      <td>0.55</td>\n",
       "      <td>84.95</td>\n",
       "      <td>152.76</td>\n",
       "      <td>pass_outcome_interception</td>\n",
       "      <td>2558168.0</td>\n",
       "      <td>...</td>\n",
       "      <td>32.0</td>\n",
       "      <td>CB</td>\n",
       "      <td>55</td>\n",
       "      <td>home</td>\n",
       "      <td>2018090600</td>\n",
       "      <td>3392</td>\n",
       "      <td>left</td>\n",
       "      <td>NaN</td>\n",
       "      <td>(13:03) (Shotgun) M.Ryan pass short left inten...</td>\n",
       "      <td>IN</td>\n",
       "    </tr>\n",
       "    <tr>\n",
       "      <th>95</th>\n",
       "      <td>2018-09-07T03:37:32.900Z</td>\n",
       "      <td>14.01</td>\n",
       "      <td>0.55</td>\n",
       "      <td>5.42</td>\n",
       "      <td>2.87</td>\n",
       "      <td>0.55</td>\n",
       "      <td>84.95</td>\n",
       "      <td>152.76</td>\n",
       "      <td>pass_outcome_interception</td>\n",
       "      <td>2558168.0</td>\n",
       "      <td>...</td>\n",
       "      <td>32.0</td>\n",
       "      <td>CB</td>\n",
       "      <td>55</td>\n",
       "      <td>home</td>\n",
       "      <td>2018090600</td>\n",
       "      <td>3392</td>\n",
       "      <td>left</td>\n",
       "      <td>NaN</td>\n",
       "      <td>(7:55) (Shotgun) S.Darnold pass deep left to T...</td>\n",
       "      <td>C</td>\n",
       "    </tr>\n",
       "    <tr>\n",
       "      <th>96</th>\n",
       "      <td>2018-09-07T03:37:32.900Z</td>\n",
       "      <td>14.01</td>\n",
       "      <td>0.55</td>\n",
       "      <td>5.42</td>\n",
       "      <td>2.87</td>\n",
       "      <td>0.55</td>\n",
       "      <td>84.95</td>\n",
       "      <td>152.76</td>\n",
       "      <td>pass_outcome_interception</td>\n",
       "      <td>2558168.0</td>\n",
       "      <td>...</td>\n",
       "      <td>32.0</td>\n",
       "      <td>CB</td>\n",
       "      <td>55</td>\n",
       "      <td>home</td>\n",
       "      <td>2018090600</td>\n",
       "      <td>3392</td>\n",
       "      <td>left</td>\n",
       "      <td>NaN</td>\n",
       "      <td>(12:39) No. 5 - Joshua Dobbs in at QB for PIT....</td>\n",
       "      <td>C</td>\n",
       "    </tr>\n",
       "    <tr>\n",
       "      <th>97</th>\n",
       "      <td>2018-09-07T03:37:32.900Z</td>\n",
       "      <td>14.01</td>\n",
       "      <td>0.55</td>\n",
       "      <td>5.42</td>\n",
       "      <td>2.87</td>\n",
       "      <td>0.55</td>\n",
       "      <td>84.95</td>\n",
       "      <td>152.76</td>\n",
       "      <td>pass_outcome_interception</td>\n",
       "      <td>2558168.0</td>\n",
       "      <td>...</td>\n",
       "      <td>32.0</td>\n",
       "      <td>CB</td>\n",
       "      <td>55</td>\n",
       "      <td>home</td>\n",
       "      <td>2018090600</td>\n",
       "      <td>3392</td>\n",
       "      <td>left</td>\n",
       "      <td>NaN</td>\n",
       "      <td>(12:53) (Shotgun) A.Rodgers pass deep left to ...</td>\n",
       "      <td>C</td>\n",
       "    </tr>\n",
       "    <tr>\n",
       "      <th>98</th>\n",
       "      <td>2018-09-07T03:37:32.900Z</td>\n",
       "      <td>14.01</td>\n",
       "      <td>0.55</td>\n",
       "      <td>5.42</td>\n",
       "      <td>2.87</td>\n",
       "      <td>0.55</td>\n",
       "      <td>84.95</td>\n",
       "      <td>152.76</td>\n",
       "      <td>pass_outcome_interception</td>\n",
       "      <td>2558168.0</td>\n",
       "      <td>...</td>\n",
       "      <td>32.0</td>\n",
       "      <td>CB</td>\n",
       "      <td>55</td>\n",
       "      <td>home</td>\n",
       "      <td>2018090600</td>\n",
       "      <td>3392</td>\n",
       "      <td>left</td>\n",
       "      <td>NaN</td>\n",
       "      <td>(10:17) C.Keenum pass short right to A.Janovic...</td>\n",
       "      <td>C</td>\n",
       "    </tr>\n",
       "    <tr>\n",
       "      <th>99</th>\n",
       "      <td>2018-09-07T03:37:32.900Z</td>\n",
       "      <td>14.13</td>\n",
       "      <td>0.73</td>\n",
       "      <td>5.75</td>\n",
       "      <td>0.54</td>\n",
       "      <td>0.58</td>\n",
       "      <td>NaN</td>\n",
       "      <td>NaN</td>\n",
       "      <td>pass_outcome_interception</td>\n",
       "      <td>NaN</td>\n",
       "      <td>...</td>\n",
       "      <td>NaN</td>\n",
       "      <td>NaN</td>\n",
       "      <td>55</td>\n",
       "      <td>football</td>\n",
       "      <td>2018090600</td>\n",
       "      <td>3392</td>\n",
       "      <td>left</td>\n",
       "      <td>NaN</td>\n",
       "      <td>(13:03) (Shotgun) M.Ryan pass short left inten...</td>\n",
       "      <td>IN</td>\n",
       "    </tr>\n",
       "    <tr>\n",
       "      <th>100</th>\n",
       "      <td>2018-09-07T03:37:32.900Z</td>\n",
       "      <td>14.13</td>\n",
       "      <td>0.73</td>\n",
       "      <td>5.75</td>\n",
       "      <td>0.54</td>\n",
       "      <td>0.58</td>\n",
       "      <td>NaN</td>\n",
       "      <td>NaN</td>\n",
       "      <td>pass_outcome_interception</td>\n",
       "      <td>NaN</td>\n",
       "      <td>...</td>\n",
       "      <td>NaN</td>\n",
       "      <td>NaN</td>\n",
       "      <td>55</td>\n",
       "      <td>football</td>\n",
       "      <td>2018090600</td>\n",
       "      <td>3392</td>\n",
       "      <td>left</td>\n",
       "      <td>NaN</td>\n",
       "      <td>(7:55) (Shotgun) S.Darnold pass deep left to T...</td>\n",
       "      <td>C</td>\n",
       "    </tr>\n",
       "    <tr>\n",
       "      <th>101</th>\n",
       "      <td>2018-09-07T03:37:32.900Z</td>\n",
       "      <td>14.13</td>\n",
       "      <td>0.73</td>\n",
       "      <td>5.75</td>\n",
       "      <td>0.54</td>\n",
       "      <td>0.58</td>\n",
       "      <td>NaN</td>\n",
       "      <td>NaN</td>\n",
       "      <td>pass_outcome_interception</td>\n",
       "      <td>NaN</td>\n",
       "      <td>...</td>\n",
       "      <td>NaN</td>\n",
       "      <td>NaN</td>\n",
       "      <td>55</td>\n",
       "      <td>football</td>\n",
       "      <td>2018090600</td>\n",
       "      <td>3392</td>\n",
       "      <td>left</td>\n",
       "      <td>NaN</td>\n",
       "      <td>(12:39) No. 5 - Joshua Dobbs in at QB for PIT....</td>\n",
       "      <td>C</td>\n",
       "    </tr>\n",
       "    <tr>\n",
       "      <th>102</th>\n",
       "      <td>2018-09-07T03:37:32.900Z</td>\n",
       "      <td>14.13</td>\n",
       "      <td>0.73</td>\n",
       "      <td>5.75</td>\n",
       "      <td>0.54</td>\n",
       "      <td>0.58</td>\n",
       "      <td>NaN</td>\n",
       "      <td>NaN</td>\n",
       "      <td>pass_outcome_interception</td>\n",
       "      <td>NaN</td>\n",
       "      <td>...</td>\n",
       "      <td>NaN</td>\n",
       "      <td>NaN</td>\n",
       "      <td>55</td>\n",
       "      <td>football</td>\n",
       "      <td>2018090600</td>\n",
       "      <td>3392</td>\n",
       "      <td>left</td>\n",
       "      <td>NaN</td>\n",
       "      <td>(12:53) (Shotgun) A.Rodgers pass deep left to ...</td>\n",
       "      <td>C</td>\n",
       "    </tr>\n",
       "    <tr>\n",
       "      <th>103</th>\n",
       "      <td>2018-09-07T03:37:32.900Z</td>\n",
       "      <td>14.13</td>\n",
       "      <td>0.73</td>\n",
       "      <td>5.75</td>\n",
       "      <td>0.54</td>\n",
       "      <td>0.58</td>\n",
       "      <td>NaN</td>\n",
       "      <td>NaN</td>\n",
       "      <td>pass_outcome_interception</td>\n",
       "      <td>NaN</td>\n",
       "      <td>...</td>\n",
       "      <td>NaN</td>\n",
       "      <td>NaN</td>\n",
       "      <td>55</td>\n",
       "      <td>football</td>\n",
       "      <td>2018090600</td>\n",
       "      <td>3392</td>\n",
       "      <td>left</td>\n",
       "      <td>NaN</td>\n",
       "      <td>(10:17) C.Keenum pass short right to A.Janovic...</td>\n",
       "      <td>C</td>\n",
       "    </tr>\n",
       "  </tbody>\n",
       "</table>\n",
       "<p>40 rows × 21 columns</p>\n",
       "</div>"
      ],
      "text/plain": [
       "                         time      x      y     s     a   dis       o     dir  \\\n",
       "64   2018-09-07T03:37:32.900Z  30.30  30.04  1.93  0.80  0.19  238.34  221.00   \n",
       "65   2018-09-07T03:37:32.900Z  30.30  30.04  1.93  0.80  0.19  238.34  221.00   \n",
       "66   2018-09-07T03:37:32.900Z  30.30  30.04  1.93  0.80  0.19  238.34  221.00   \n",
       "67   2018-09-07T03:37:32.900Z  30.30  30.04  1.93  0.80  0.19  238.34  221.00   \n",
       "68   2018-09-07T03:37:32.900Z  30.30  30.04  1.93  0.80  0.19  238.34  221.00   \n",
       "69   2018-09-07T03:37:32.900Z  19.92  23.90  5.16  2.63  0.51  134.15  152.44   \n",
       "70   2018-09-07T03:37:32.900Z  19.92  23.90  5.16  2.63  0.51  134.15  152.44   \n",
       "71   2018-09-07T03:37:32.900Z  19.92  23.90  5.16  2.63  0.51  134.15  152.44   \n",
       "72   2018-09-07T03:37:32.900Z  19.92  23.90  5.16  2.63  0.51  134.15  152.44   \n",
       "73   2018-09-07T03:37:32.900Z  19.92  23.90  5.16  2.63  0.51  134.15  152.44   \n",
       "74   2018-09-07T03:37:32.900Z  33.69  32.01  0.42  1.05  0.04  222.06  162.02   \n",
       "75   2018-09-07T03:37:32.900Z  33.69  32.01  0.42  1.05  0.04  222.06  162.02   \n",
       "76   2018-09-07T03:37:32.900Z  33.69  32.01  0.42  1.05  0.04  222.06  162.02   \n",
       "77   2018-09-07T03:37:32.900Z  33.69  32.01  0.42  1.05  0.04  222.06  162.02   \n",
       "78   2018-09-07T03:37:32.900Z  33.69  32.01  0.42  1.05  0.04  222.06  162.02   \n",
       "79   2018-09-07T03:37:32.900Z  32.84  30.56  1.66  2.47  0.15  218.27  180.01   \n",
       "80   2018-09-07T03:37:32.900Z  32.84  30.56  1.66  2.47  0.15  218.27  180.01   \n",
       "81   2018-09-07T03:37:32.900Z  32.84  30.56  1.66  2.47  0.15  218.27  180.01   \n",
       "82   2018-09-07T03:37:32.900Z  32.84  30.56  1.66  2.47  0.15  218.27  180.01   \n",
       "83   2018-09-07T03:37:32.900Z  32.84  30.56  1.66  2.47  0.15  218.27  180.01   \n",
       "84   2018-09-07T03:37:32.900Z   7.75  43.95  0.68  4.08  0.09  226.02  329.55   \n",
       "85   2018-09-07T03:37:32.900Z   7.75  43.95  0.68  4.08  0.09  226.02  329.55   \n",
       "86   2018-09-07T03:37:32.900Z   7.75  43.95  0.68  4.08  0.09  226.02  329.55   \n",
       "87   2018-09-07T03:37:32.900Z   7.75  43.95  0.68  4.08  0.09  226.02  329.55   \n",
       "88   2018-09-07T03:37:32.900Z   7.75  43.95  0.68  4.08  0.09  226.02  329.55   \n",
       "89   2018-09-07T03:37:32.900Z  19.53  19.51  2.39  3.89  0.26  255.19    7.99   \n",
       "90   2018-09-07T03:37:32.900Z  19.53  19.51  2.39  3.89  0.26  255.19    7.99   \n",
       "91   2018-09-07T03:37:32.900Z  19.53  19.51  2.39  3.89  0.26  255.19    7.99   \n",
       "92   2018-09-07T03:37:32.900Z  19.53  19.51  2.39  3.89  0.26  255.19    7.99   \n",
       "93   2018-09-07T03:37:32.900Z  19.53  19.51  2.39  3.89  0.26  255.19    7.99   \n",
       "94   2018-09-07T03:37:32.900Z  14.01   0.55  5.42  2.87  0.55   84.95  152.76   \n",
       "95   2018-09-07T03:37:32.900Z  14.01   0.55  5.42  2.87  0.55   84.95  152.76   \n",
       "96   2018-09-07T03:37:32.900Z  14.01   0.55  5.42  2.87  0.55   84.95  152.76   \n",
       "97   2018-09-07T03:37:32.900Z  14.01   0.55  5.42  2.87  0.55   84.95  152.76   \n",
       "98   2018-09-07T03:37:32.900Z  14.01   0.55  5.42  2.87  0.55   84.95  152.76   \n",
       "99   2018-09-07T03:37:32.900Z  14.13   0.73  5.75  0.54  0.58     NaN     NaN   \n",
       "100  2018-09-07T03:37:32.900Z  14.13   0.73  5.75  0.54  0.58     NaN     NaN   \n",
       "101  2018-09-07T03:37:32.900Z  14.13   0.73  5.75  0.54  0.58     NaN     NaN   \n",
       "102  2018-09-07T03:37:32.900Z  14.13   0.73  5.75  0.54  0.58     NaN     NaN   \n",
       "103  2018-09-07T03:37:32.900Z  14.13   0.73  5.75  0.54  0.58     NaN     NaN   \n",
       "\n",
       "                         event      nflId  ... jerseyNumber  position frameId  \\\n",
       "64   pass_outcome_interception    79848.0  ...         27.0        SS      55   \n",
       "65   pass_outcome_interception    79848.0  ...         27.0        SS      55   \n",
       "66   pass_outcome_interception    79848.0  ...         27.0        SS      55   \n",
       "67   pass_outcome_interception    79848.0  ...         27.0        SS      55   \n",
       "68   pass_outcome_interception    79848.0  ...         27.0        SS      55   \n",
       "69   pass_outcome_interception  2495613.0  ...         24.0        FS      55   \n",
       "70   pass_outcome_interception  2495613.0  ...         24.0        FS      55   \n",
       "71   pass_outcome_interception  2495613.0  ...         24.0        FS      55   \n",
       "72   pass_outcome_interception  2495613.0  ...         24.0        FS      55   \n",
       "73   pass_outcome_interception  2495613.0  ...         24.0        FS      55   \n",
       "74   pass_outcome_interception  2534832.0  ...         23.0        FS      55   \n",
       "75   pass_outcome_interception  2534832.0  ...         23.0        FS      55   \n",
       "76   pass_outcome_interception  2534832.0  ...         23.0        FS      55   \n",
       "77   pass_outcome_interception  2534832.0  ...         23.0        FS      55   \n",
       "78   pass_outcome_interception  2534832.0  ...         23.0        FS      55   \n",
       "79   pass_outcome_interception  2552315.0  ...         58.0       MLB      55   \n",
       "80   pass_outcome_interception  2552315.0  ...         58.0       MLB      55   \n",
       "81   pass_outcome_interception  2552315.0  ...         58.0       MLB      55   \n",
       "82   pass_outcome_interception  2552315.0  ...         58.0       MLB      55   \n",
       "83   pass_outcome_interception  2552315.0  ...         58.0       MLB      55   \n",
       "84   pass_outcome_interception  2555383.0  ...         31.0        CB      55   \n",
       "85   pass_outcome_interception  2555383.0  ...         31.0        CB      55   \n",
       "86   pass_outcome_interception  2555383.0  ...         31.0        CB      55   \n",
       "87   pass_outcome_interception  2555383.0  ...         31.0        CB      55   \n",
       "88   pass_outcome_interception  2555383.0  ...         31.0        CB      55   \n",
       "89   pass_outcome_interception  2557958.0  ...         22.0        CB      55   \n",
       "90   pass_outcome_interception  2557958.0  ...         22.0        CB      55   \n",
       "91   pass_outcome_interception  2557958.0  ...         22.0        CB      55   \n",
       "92   pass_outcome_interception  2557958.0  ...         22.0        CB      55   \n",
       "93   pass_outcome_interception  2557958.0  ...         22.0        CB      55   \n",
       "94   pass_outcome_interception  2558168.0  ...         32.0        CB      55   \n",
       "95   pass_outcome_interception  2558168.0  ...         32.0        CB      55   \n",
       "96   pass_outcome_interception  2558168.0  ...         32.0        CB      55   \n",
       "97   pass_outcome_interception  2558168.0  ...         32.0        CB      55   \n",
       "98   pass_outcome_interception  2558168.0  ...         32.0        CB      55   \n",
       "99   pass_outcome_interception        NaN  ...          NaN       NaN      55   \n",
       "100  pass_outcome_interception        NaN  ...          NaN       NaN      55   \n",
       "101  pass_outcome_interception        NaN  ...          NaN       NaN      55   \n",
       "102  pass_outcome_interception        NaN  ...          NaN       NaN      55   \n",
       "103  pass_outcome_interception        NaN  ...          NaN       NaN      55   \n",
       "\n",
       "         team      gameId  playId  playDirection route  \\\n",
       "64       home  2018090600    3392           left   NaN   \n",
       "65       home  2018090600    3392           left   NaN   \n",
       "66       home  2018090600    3392           left   NaN   \n",
       "67       home  2018090600    3392           left   NaN   \n",
       "68       home  2018090600    3392           left   NaN   \n",
       "69       home  2018090600    3392           left   NaN   \n",
       "70       home  2018090600    3392           left   NaN   \n",
       "71       home  2018090600    3392           left   NaN   \n",
       "72       home  2018090600    3392           left   NaN   \n",
       "73       home  2018090600    3392           left   NaN   \n",
       "74       home  2018090600    3392           left   NaN   \n",
       "75       home  2018090600    3392           left   NaN   \n",
       "76       home  2018090600    3392           left   NaN   \n",
       "77       home  2018090600    3392           left   NaN   \n",
       "78       home  2018090600    3392           left   NaN   \n",
       "79       home  2018090600    3392           left   NaN   \n",
       "80       home  2018090600    3392           left   NaN   \n",
       "81       home  2018090600    3392           left   NaN   \n",
       "82       home  2018090600    3392           left   NaN   \n",
       "83       home  2018090600    3392           left   NaN   \n",
       "84       home  2018090600    3392           left   NaN   \n",
       "85       home  2018090600    3392           left   NaN   \n",
       "86       home  2018090600    3392           left   NaN   \n",
       "87       home  2018090600    3392           left   NaN   \n",
       "88       home  2018090600    3392           left   NaN   \n",
       "89       home  2018090600    3392           left   NaN   \n",
       "90       home  2018090600    3392           left   NaN   \n",
       "91       home  2018090600    3392           left   NaN   \n",
       "92       home  2018090600    3392           left   NaN   \n",
       "93       home  2018090600    3392           left   NaN   \n",
       "94       home  2018090600    3392           left   NaN   \n",
       "95       home  2018090600    3392           left   NaN   \n",
       "96       home  2018090600    3392           left   NaN   \n",
       "97       home  2018090600    3392           left   NaN   \n",
       "98       home  2018090600    3392           left   NaN   \n",
       "99   football  2018090600    3392           left   NaN   \n",
       "100  football  2018090600    3392           left   NaN   \n",
       "101  football  2018090600    3392           left   NaN   \n",
       "102  football  2018090600    3392           left   NaN   \n",
       "103  football  2018090600    3392           left   NaN   \n",
       "\n",
       "                                       playDescription passResult  \n",
       "64   (13:03) (Shotgun) M.Ryan pass short left inten...         IN  \n",
       "65   (7:55) (Shotgun) S.Darnold pass deep left to T...          C  \n",
       "66   (12:39) No. 5 - Joshua Dobbs in at QB for PIT....          C  \n",
       "67   (12:53) (Shotgun) A.Rodgers pass deep left to ...          C  \n",
       "68   (10:17) C.Keenum pass short right to A.Janovic...          C  \n",
       "69   (13:03) (Shotgun) M.Ryan pass short left inten...         IN  \n",
       "70   (7:55) (Shotgun) S.Darnold pass deep left to T...          C  \n",
       "71   (12:39) No. 5 - Joshua Dobbs in at QB for PIT....          C  \n",
       "72   (12:53) (Shotgun) A.Rodgers pass deep left to ...          C  \n",
       "73   (10:17) C.Keenum pass short right to A.Janovic...          C  \n",
       "74   (13:03) (Shotgun) M.Ryan pass short left inten...         IN  \n",
       "75   (7:55) (Shotgun) S.Darnold pass deep left to T...          C  \n",
       "76   (12:39) No. 5 - Joshua Dobbs in at QB for PIT....          C  \n",
       "77   (12:53) (Shotgun) A.Rodgers pass deep left to ...          C  \n",
       "78   (10:17) C.Keenum pass short right to A.Janovic...          C  \n",
       "79   (13:03) (Shotgun) M.Ryan pass short left inten...         IN  \n",
       "80   (7:55) (Shotgun) S.Darnold pass deep left to T...          C  \n",
       "81   (12:39) No. 5 - Joshua Dobbs in at QB for PIT....          C  \n",
       "82   (12:53) (Shotgun) A.Rodgers pass deep left to ...          C  \n",
       "83   (10:17) C.Keenum pass short right to A.Janovic...          C  \n",
       "84   (13:03) (Shotgun) M.Ryan pass short left inten...         IN  \n",
       "85   (7:55) (Shotgun) S.Darnold pass deep left to T...          C  \n",
       "86   (12:39) No. 5 - Joshua Dobbs in at QB for PIT....          C  \n",
       "87   (12:53) (Shotgun) A.Rodgers pass deep left to ...          C  \n",
       "88   (10:17) C.Keenum pass short right to A.Janovic...          C  \n",
       "89   (13:03) (Shotgun) M.Ryan pass short left inten...         IN  \n",
       "90   (7:55) (Shotgun) S.Darnold pass deep left to T...          C  \n",
       "91   (12:39) No. 5 - Joshua Dobbs in at QB for PIT....          C  \n",
       "92   (12:53) (Shotgun) A.Rodgers pass deep left to ...          C  \n",
       "93   (10:17) C.Keenum pass short right to A.Janovic...          C  \n",
       "94   (13:03) (Shotgun) M.Ryan pass short left inten...         IN  \n",
       "95   (7:55) (Shotgun) S.Darnold pass deep left to T...          C  \n",
       "96   (12:39) No. 5 - Joshua Dobbs in at QB for PIT....          C  \n",
       "97   (12:53) (Shotgun) A.Rodgers pass deep left to ...          C  \n",
       "98   (10:17) C.Keenum pass short right to A.Janovic...          C  \n",
       "99   (13:03) (Shotgun) M.Ryan pass short left inten...         IN  \n",
       "100  (7:55) (Shotgun) S.Darnold pass deep left to T...          C  \n",
       "101  (12:39) No. 5 - Joshua Dobbs in at QB for PIT....          C  \n",
       "102  (12:53) (Shotgun) A.Rodgers pass deep left to ...          C  \n",
       "103  (10:17) C.Keenum pass short right to A.Janovic...          C  \n",
       "\n",
       "[40 rows x 21 columns]"
      ]
     },
     "execution_count": 244,
     "metadata": {},
     "output_type": "execute_result"
    }
   ],
   "source": [
    "df_frame"
   ]
  },
  {
   "cell_type": "code",
   "execution_count": 240,
   "metadata": {},
   "outputs": [
    {
     "data": {
      "text/plain": [
       "array([28, 55, 58, 56, 60, 38, 57, 32, 42, 50, 34, 40, 61, 78, 92, 69, 35,\n",
       "       47, 54, 59, 62, 65, 46, 53, 72, 73, 51, 52, 45], dtype=int64)"
      ]
     },
     "execution_count": 240,
     "metadata": {},
     "output_type": "execute_result"
    }
   ],
   "source": [
    "df_merge.frameId.unique()"
   ]
  },
  {
   "cell_type": "code",
   "execution_count": 236,
   "metadata": {
    "collapsed": true,
    "jupyter": {
     "outputs_hidden": true
    }
   },
   "outputs": [
    {
     "name": "stdout",
     "output_type": "stream",
     "text": [
      "[(11.13000000000001, 'Malcolm Jenkins'), (11.13000000000001, 'Malcolm Jenkins'), (11.13000000000001, 'Malcolm Jenkins'), (11.13000000000001, 'Malcolm Jenkins'), (11.13000000000001, 'Malcolm Jenkins'), (11.13000000000001, 'Malcolm Jenkins'), (11.13000000000001, 'Malcolm Jenkins'), (11.13000000000001, 'Malcolm Jenkins'), (13.170000000000002, 'Rodney McLeod'), (13.170000000000002, 'Rodney McLeod'), (13.170000000000002, 'Rodney McLeod'), (13.170000000000002, 'Rodney McLeod'), (13.170000000000002, 'Rodney McLeod'), (13.170000000000002, 'Rodney McLeod'), (13.170000000000002, 'Rodney McLeod'), (13.170000000000002, 'Rodney McLeod'), (6.340000000000003, 'Jordan Hicks'), (6.340000000000003, 'Jordan Hicks'), (6.340000000000003, 'Jordan Hicks'), (6.340000000000003, 'Jordan Hicks'), (6.340000000000003, 'Jordan Hicks'), (6.340000000000003, 'Jordan Hicks'), (6.340000000000003, 'Jordan Hicks'), (6.340000000000003, 'Jordan Hicks'), (14.510000000000005, 'Ronald Darby'), (14.510000000000005, 'Ronald Darby'), (14.510000000000005, 'Ronald Darby'), (14.510000000000005, 'Ronald Darby'), (14.510000000000005, 'Ronald Darby'), (14.510000000000005, 'Ronald Darby'), (14.510000000000005, 'Ronald Darby'), (14.510000000000005, 'Ronald Darby'), (14.77000000000001, 'Jalen Mills'), (14.77000000000001, 'Jalen Mills'), (14.77000000000001, 'Jalen Mills'), (14.77000000000001, 'Jalen Mills'), (14.77000000000001, 'Jalen Mills'), (14.77000000000001, 'Jalen Mills'), (14.77000000000001, 'Jalen Mills'), (14.77000000000001, 'Jalen Mills'), (0.8800000000000097, 'Kamu Grugier-Hill'), (0.8800000000000097, 'Kamu Grugier-Hill'), (0.8800000000000097, 'Kamu Grugier-Hill'), (0.8800000000000097, 'Kamu Grugier-Hill'), (0.8800000000000097, 'Kamu Grugier-Hill'), (0.8800000000000097, 'Kamu Grugier-Hill'), (0.8800000000000097, 'Kamu Grugier-Hill'), (0.8800000000000097, 'Kamu Grugier-Hill'), (0.5500000000000114, 'Nate Gerry'), (0.5500000000000114, 'Nate Gerry'), (0.5500000000000114, 'Nate Gerry'), (0.5500000000000114, 'Nate Gerry'), (0.5500000000000114, 'Nate Gerry'), (0.5500000000000114, 'Nate Gerry'), (0.5500000000000114, 'Nate Gerry'), (0.5500000000000114, 'Nate Gerry')]\n",
      "[(16.17, 'Malcolm Jenkins'), (16.17, 'Malcolm Jenkins'), (16.17, 'Malcolm Jenkins'), (16.17, 'Malcolm Jenkins'), (16.17, 'Malcolm Jenkins'), (5.790000000000001, 'Corey Graham'), (5.790000000000001, 'Corey Graham'), (5.790000000000001, 'Corey Graham'), (5.790000000000001, 'Corey Graham'), (5.790000000000001, 'Corey Graham'), (19.559999999999995, 'Rodney McLeod'), (19.559999999999995, 'Rodney McLeod'), (19.559999999999995, 'Rodney McLeod'), (19.559999999999995, 'Rodney McLeod'), (19.559999999999995, 'Rodney McLeod'), (18.71, 'Jordan Hicks'), (18.71, 'Jordan Hicks'), (18.71, 'Jordan Hicks'), (18.71, 'Jordan Hicks'), (18.71, 'Jordan Hicks'), (6.380000000000001, 'Jalen Mills'), (6.380000000000001, 'Jalen Mills'), (6.380000000000001, 'Jalen Mills'), (6.380000000000001, 'Jalen Mills'), (6.380000000000001, 'Jalen Mills'), (5.4, 'Sidney Jones'), (5.4, 'Sidney Jones'), (5.4, 'Sidney Jones'), (5.4, 'Sidney Jones'), (5.4, 'Sidney Jones'), (0.120000000000001, 'Rasul Douglas'), (0.120000000000001, 'Rasul Douglas'), (0.120000000000001, 'Rasul Douglas'), (0.120000000000001, 'Rasul Douglas'), (0.120000000000001, 'Rasul Douglas')]\n",
      "[(5.380000000000003, 'Desmond Trufant'), (5.380000000000003, 'Desmond Trufant'), (5.380000000000003, 'Desmond Trufant'), (5.380000000000003, 'Desmond Trufant'), (5.380000000000003, 'Desmond Trufant'), (5.380000000000003, 'Desmond Trufant'), (11.049999999999997, 'Robert Alford'), (11.049999999999997, 'Robert Alford'), (11.049999999999997, 'Robert Alford'), (11.049999999999997, 'Robert Alford'), (11.049999999999997, 'Robert Alford'), (11.049999999999997, 'Robert Alford'), (2.4399999999999977, 'Ricardo Allen'), (2.4399999999999977, 'Ricardo Allen'), (2.4399999999999977, 'Ricardo Allen'), (2.4399999999999977, 'Ricardo Allen'), (2.4399999999999977, 'Ricardo Allen'), (2.4399999999999977, 'Ricardo Allen'), (0.03999999999999915, 'Deion Jones'), (0.03999999999999915, 'Deion Jones'), (0.03999999999999915, 'Deion Jones'), (0.03999999999999915, 'Deion Jones'), (0.03999999999999915, 'Deion Jones'), (0.03999999999999915, 'Deion Jones'), (4.780000000000001, \"De'Vondre Campbell\"), (4.780000000000001, \"De'Vondre Campbell\"), (4.780000000000001, \"De'Vondre Campbell\"), (4.780000000000001, \"De'Vondre Campbell\"), (4.780000000000001, \"De'Vondre Campbell\"), (4.780000000000001, \"De'Vondre Campbell\"), (3.460000000000001, 'Brian Poole'), (3.460000000000001, 'Brian Poole'), (3.460000000000001, 'Brian Poole'), (3.460000000000001, 'Brian Poole'), (3.460000000000001, 'Brian Poole'), (3.460000000000001, 'Brian Poole'), (1.0200000000000031, 'Damontae Kazee'), (1.0200000000000031, 'Damontae Kazee'), (1.0200000000000031, 'Damontae Kazee'), (1.0200000000000031, 'Damontae Kazee'), (1.0200000000000031, 'Damontae Kazee'), (1.0200000000000031, 'Damontae Kazee'), (7.019999999999996, 'Pernell McPhee'), (7.019999999999996, 'Pernell McPhee'), (7.019999999999996, 'Pernell McPhee'), (7.019999999999996, 'Pernell McPhee'), (9.490000000000002, 'Mason Foster'), (9.490000000000002, 'Mason Foster'), (9.490000000000002, 'Mason Foster'), (9.490000000000002, 'Mason Foster'), (9.93, 'Zach Brown'), (9.93, 'Zach Brown'), (9.93, 'Zach Brown'), (9.93, 'Zach Brown'), (24.68, 'Josh Norman'), (24.68, 'Josh Norman'), (24.68, 'Josh Norman'), (24.68, 'Josh Norman'), (27.35, 'D.J. Swearinger'), (27.35, 'D.J. Swearinger'), (27.35, 'D.J. Swearinger'), (27.35, 'D.J. Swearinger'), (19.240000000000002, 'Quinton Dunbar'), (19.240000000000002, 'Quinton Dunbar'), (19.240000000000002, 'Quinton Dunbar'), (19.240000000000002, 'Quinton Dunbar'), (1.25, 'Ryan Anderson'), (1.25, 'Ryan Anderson'), (1.25, 'Ryan Anderson'), (1.25, 'Ryan Anderson'), (15.770000000000003, 'Montae Nicholson'), (15.770000000000003, 'Montae Nicholson'), (15.770000000000003, 'Montae Nicholson'), (15.770000000000003, 'Montae Nicholson'), (12.880000000000003, 'Fabian Moreau'), (12.880000000000003, 'Fabian Moreau'), (12.880000000000003, 'Fabian Moreau'), (12.880000000000003, 'Fabian Moreau'), (38.35, 'Buster Skrine'), (38.35, 'Buster Skrine'), (38.35, 'Buster Skrine'), (38.35, 'Buster Skrine'), (8.149999999999999, 'Trumaine Johnson'), (8.149999999999999, 'Trumaine Johnson'), (8.149999999999999, 'Trumaine Johnson'), (8.149999999999999, 'Trumaine Johnson'), (0.9399999999999977, 'Morris Claiborne'), (0.9399999999999977, 'Morris Claiborne'), (0.9399999999999977, 'Morris Claiborne'), (0.9399999999999977, 'Morris Claiborne'), (30.01, 'J.J. Wilcox'), (30.01, 'J.J. Wilcox'), (30.01, 'J.J. Wilcox'), (30.01, 'J.J. Wilcox'), (12.160000000000004, 'Darron Lee'), (12.160000000000004, 'Darron Lee'), (12.160000000000004, 'Darron Lee'), (12.160000000000004, 'Darron Lee'), (0.6700000000000017, 'Doug Middleton'), (0.6700000000000017, 'Doug Middleton'), (0.6700000000000017, 'Doug Middleton'), (0.6700000000000017, 'Doug Middleton'), (1.509999999999998, 'Jamal Adams'), (1.509999999999998, 'Jamal Adams'), (1.509999999999998, 'Jamal Adams'), (1.509999999999998, 'Jamal Adams'), (23.270000000000003, 'Frankie Luvu'), (23.270000000000003, 'Frankie Luvu'), (23.270000000000003, 'Frankie Luvu'), (23.270000000000003, 'Frankie Luvu')]\n",
      "[(20.449999999999996, 'Clayton Geathers'), (20.449999999999996, 'Clayton Geathers'), (20.449999999999996, 'Clayton Geathers'), (20.449999999999996, 'Clayton Geathers'), (20.449999999999996, 'Clayton Geathers'), (20.449999999999996, 'Clayton Geathers'), (20.449999999999996, 'Clayton Geathers'), (20.449999999999996, 'Clayton Geathers'), (20.449999999999996, 'Clayton Geathers'), (20.449999999999996, 'Clayton Geathers'), (20.449999999999996, 'Clayton Geathers'), (20.449999999999996, 'Clayton Geathers'), (15.439999999999998, 'Quincy Wilson'), (15.439999999999998, 'Quincy Wilson'), (15.439999999999998, 'Quincy Wilson'), (15.439999999999998, 'Quincy Wilson'), (15.439999999999998, 'Quincy Wilson'), (15.439999999999998, 'Quincy Wilson'), (15.439999999999998, 'Quincy Wilson'), (15.439999999999998, 'Quincy Wilson'), (15.439999999999998, 'Quincy Wilson'), (15.439999999999998, 'Quincy Wilson'), (15.439999999999998, 'Quincy Wilson'), (15.439999999999998, 'Quincy Wilson'), (1.2899999999999991, 'Joe Mixon'), (1.2899999999999991, 'Joe Mixon'), (1.2899999999999991, 'Joe Mixon'), (1.2899999999999991, 'Joe Mixon'), (1.2899999999999991, 'Joe Mixon'), (1.2899999999999991, 'Joe Mixon'), (1.2899999999999991, 'Joe Mixon'), (1.2899999999999991, 'Joe Mixon'), (1.2899999999999991, 'Joe Mixon'), (1.2899999999999991, 'Joe Mixon'), (1.2899999999999991, 'Joe Mixon'), (1.2899999999999991, 'Joe Mixon'), (16.240000000000002, 'Malik Hooker'), (16.240000000000002, 'Malik Hooker'), (16.240000000000002, 'Malik Hooker'), (16.240000000000002, 'Malik Hooker'), (16.240000000000002, 'Malik Hooker'), (16.240000000000002, 'Malik Hooker'), (16.240000000000002, 'Malik Hooker'), (16.240000000000002, 'Malik Hooker'), (16.240000000000002, 'Malik Hooker'), (16.240000000000002, 'Malik Hooker'), (16.240000000000002, 'Malik Hooker'), (16.240000000000002, 'Malik Hooker'), (9.89, 'Nate Hairston'), (9.89, 'Nate Hairston'), (9.89, 'Nate Hairston'), (9.89, 'Nate Hairston'), (9.89, 'Nate Hairston'), (9.89, 'Nate Hairston'), (9.89, 'Nate Hairston'), (9.89, 'Nate Hairston'), (9.89, 'Nate Hairston'), (9.89, 'Nate Hairston'), (9.89, 'Nate Hairston'), (9.89, 'Nate Hairston'), (1.0799999999999983, 'Kenny Moore'), (1.0799999999999983, 'Kenny Moore'), (1.0799999999999983, 'Kenny Moore'), (1.0799999999999983, 'Kenny Moore'), (1.0799999999999983, 'Kenny Moore'), (1.0799999999999983, 'Kenny Moore'), (1.0799999999999983, 'Kenny Moore'), (1.0799999999999983, 'Kenny Moore'), (1.0799999999999983, 'Kenny Moore'), (1.0799999999999983, 'Kenny Moore'), (1.0799999999999983, 'Kenny Moore'), (1.0799999999999983, 'Kenny Moore'), (6.0, 'Darius Leonard'), (6.0, 'Darius Leonard'), (6.0, 'Darius Leonard'), (6.0, 'Darius Leonard'), (6.0, 'Darius Leonard'), (6.0, 'Darius Leonard'), (6.0, 'Darius Leonard'), (6.0, 'Darius Leonard'), (6.0, 'Darius Leonard'), (6.0, 'Darius Leonard'), (6.0, 'Darius Leonard'), (6.0, 'Darius Leonard'), (7.130000000000003, 'Skai Moore'), (7.130000000000003, 'Skai Moore'), (7.130000000000003, 'Skai Moore'), (7.130000000000003, 'Skai Moore'), (7.130000000000003, 'Skai Moore'), (7.130000000000003, 'Skai Moore'), (7.130000000000003, 'Skai Moore'), (7.130000000000003, 'Skai Moore'), (7.130000000000003, 'Skai Moore'), (7.130000000000003, 'Skai Moore'), (7.130000000000003, 'Skai Moore'), (7.130000000000003, 'Skai Moore')]\n",
      "[(1.67, 'Dre Kirkpatrick'), (1.67, 'Dre Kirkpatrick'), (1.67, 'Dre Kirkpatrick'), (1.67, 'Dre Kirkpatrick'), (1.67, 'Dre Kirkpatrick'), (1.67, 'Dre Kirkpatrick'), (1.67, 'Dre Kirkpatrick'), (0.9399999999999995, 'Shawn Williams'), (0.9399999999999995, 'Shawn Williams'), (0.9399999999999995, 'Shawn Williams'), (0.9399999999999995, 'Shawn Williams'), (0.9399999999999995, 'Shawn Williams'), (0.9399999999999995, 'Shawn Williams'), (0.9399999999999995, 'Shawn Williams'), (0.009999999999999787, 'Preston Brown'), (0.009999999999999787, 'Preston Brown'), (0.009999999999999787, 'Preston Brown'), (0.009999999999999787, 'Preston Brown'), (0.009999999999999787, 'Preston Brown'), (0.009999999999999787, 'Preston Brown'), (0.009999999999999787, 'Preston Brown'), (1.5600000000000005, 'Nick Vigil'), (1.5600000000000005, 'Nick Vigil'), (1.5600000000000005, 'Nick Vigil'), (1.5600000000000005, 'Nick Vigil'), (1.5600000000000005, 'Nick Vigil'), (1.5600000000000005, 'Nick Vigil'), (1.5600000000000005, 'Nick Vigil'), (13.329999999999998, 'William Jackson'), (13.329999999999998, 'William Jackson'), (13.329999999999998, 'William Jackson'), (13.329999999999998, 'William Jackson'), (13.329999999999998, 'William Jackson'), (13.329999999999998, 'William Jackson'), (13.329999999999998, 'William Jackson'), (2.6899999999999995, 'Jordan Evans'), (2.6899999999999995, 'Jordan Evans'), (2.6899999999999995, 'Jordan Evans'), (2.6899999999999995, 'Jordan Evans'), (2.6899999999999995, 'Jordan Evans'), (2.6899999999999995, 'Jordan Evans'), (2.6899999999999995, 'Jordan Evans'), (5.649999999999999, 'Jessie Bates'), (5.649999999999999, 'Jessie Bates'), (5.649999999999999, 'Jessie Bates'), (5.649999999999999, 'Jessie Bates'), (5.649999999999999, 'Jessie Bates'), (5.649999999999999, 'Jessie Bates'), (5.649999999999999, 'Jessie Bates'), (84.3, 'Jamie Collins'), (84.3, 'Jamie Collins'), (84.3, 'Jamie Collins'), (82.42, 'Terrance Mitchell'), (82.42, 'Terrance Mitchell'), (82.42, 'Terrance Mitchell'), (85.13, 'Damarious Randall'), (85.13, 'Damarious Randall'), (85.13, 'Damarious Randall'), (86.16, 'Joe Schobert'), (86.16, 'Joe Schobert'), (86.16, 'Joe Schobert'), (82.47, 'Briean Boddy-Calhoun'), (82.47, 'Briean Boddy-Calhoun'), (82.47, 'Briean Boddy-Calhoun'), (99.17, 'Jabrill Peppers'), (99.17, 'Jabrill Peppers'), (99.17, 'Jabrill Peppers'), (81.35, 'Denzel Ward'), (81.35, 'Denzel Ward'), (81.35, 'Denzel Ward'), (68.4, 'Genard Avery'), (68.4, 'Genard Avery'), (68.4, 'Genard Avery'), (4.879999999999999, 'Aqib Talib'), (4.879999999999999, 'Aqib Talib'), (4.879999999999999, 'Aqib Talib'), (4.879999999999999, 'Aqib Talib'), (4.879999999999999, 'Aqib Talib'), (4.879999999999999, 'Aqib Talib'), (4.879999999999999, 'Aqib Talib'), (1.1199999999999992, 'Nickell Robey-Coleman'), (1.1199999999999992, 'Nickell Robey-Coleman'), (1.1199999999999992, 'Nickell Robey-Coleman'), (1.1199999999999992, 'Nickell Robey-Coleman'), (1.1199999999999992, 'Nickell Robey-Coleman'), (1.1199999999999992, 'Nickell Robey-Coleman'), (1.1199999999999992, 'Nickell Robey-Coleman'), (9.76, 'Lamarcus Joyner'), (9.76, 'Lamarcus Joyner'), (9.76, 'Lamarcus Joyner'), (9.76, 'Lamarcus Joyner'), (9.76, 'Lamarcus Joyner'), (9.76, 'Lamarcus Joyner'), (9.76, 'Lamarcus Joyner'), (8.99, 'Marcus Peters'), (8.99, 'Marcus Peters'), (8.99, 'Marcus Peters'), (8.99, 'Marcus Peters'), (8.99, 'Marcus Peters'), (8.99, 'Marcus Peters'), (8.99, 'Marcus Peters'), (3.2799999999999994, 'Marqui Christian'), (3.2799999999999994, 'Marqui Christian'), (3.2799999999999994, 'Marqui Christian'), (3.2799999999999994, 'Marqui Christian'), (3.2799999999999994, 'Marqui Christian'), (3.2799999999999994, 'Marqui Christian'), (3.2799999999999994, 'Marqui Christian'), (13.290000000000001, 'Cory Littleton'), (13.290000000000001, 'Cory Littleton'), (13.290000000000001, 'Cory Littleton'), (13.290000000000001, 'Cory Littleton'), (13.290000000000001, 'Cory Littleton'), (13.290000000000001, 'Cory Littleton'), (13.290000000000001, 'Cory Littleton'), (8.739999999999998, 'John Johnson'), (8.739999999999998, 'John Johnson'), (8.739999999999998, 'John Johnson'), (8.739999999999998, 'John Johnson'), (8.739999999999998, 'John Johnson'), (8.739999999999998, 'John Johnson'), (8.739999999999998, 'John Johnson'), (23.839999999999996, 'Samson Ebukam'), (23.839999999999996, 'Samson Ebukam'), (23.839999999999996, 'Samson Ebukam'), (23.839999999999996, 'Samson Ebukam'), (23.839999999999996, 'Samson Ebukam'), (23.839999999999996, 'Samson Ebukam'), (23.839999999999996, 'Samson Ebukam')]\n",
      "[(13.239999999999995, 'Clayton Geathers'), (13.239999999999995, 'Clayton Geathers'), (13.239999999999995, 'Clayton Geathers'), (13.239999999999995, 'Clayton Geathers'), (13.239999999999995, 'Clayton Geathers'), (13.239999999999995, 'Clayton Geathers'), (13.239999999999995, 'Clayton Geathers'), (13.239999999999995, 'Clayton Geathers'), (19.189999999999998, 'Matthias Farley'), (19.189999999999998, 'Matthias Farley'), (19.189999999999998, 'Matthias Farley'), (19.189999999999998, 'Matthias Farley'), (19.189999999999998, 'Matthias Farley'), (19.189999999999998, 'Matthias Farley'), (19.189999999999998, 'Matthias Farley'), (19.189999999999998, 'Matthias Farley'), (24.86, 'Quincy Wilson'), (24.86, 'Quincy Wilson'), (24.86, 'Quincy Wilson'), (24.86, 'Quincy Wilson'), (24.86, 'Quincy Wilson'), (24.86, 'Quincy Wilson'), (24.86, 'Quincy Wilson'), (24.86, 'Quincy Wilson'), (7.540000000000006, 'Joe Mixon'), (7.540000000000006, 'Joe Mixon'), (7.540000000000006, 'Joe Mixon'), (7.540000000000006, 'Joe Mixon'), (7.540000000000006, 'Joe Mixon'), (7.540000000000006, 'Joe Mixon'), (7.540000000000006, 'Joe Mixon'), (7.540000000000006, 'Joe Mixon'), (27.480000000000004, 'Malik Hooker'), (27.480000000000004, 'Malik Hooker'), (27.480000000000004, 'Malik Hooker'), (27.480000000000004, 'Malik Hooker'), (27.480000000000004, 'Malik Hooker'), (27.480000000000004, 'Malik Hooker'), (27.480000000000004, 'Malik Hooker'), (27.480000000000004, 'Malik Hooker'), (20.120000000000005, 'Nate Hairston'), (20.120000000000005, 'Nate Hairston'), (20.120000000000005, 'Nate Hairston'), (20.120000000000005, 'Nate Hairston'), (20.120000000000005, 'Nate Hairston'), (20.120000000000005, 'Nate Hairston'), (20.120000000000005, 'Nate Hairston'), (20.120000000000005, 'Nate Hairston'), (19.39, 'Kenny Moore'), (19.39, 'Kenny Moore'), (19.39, 'Kenny Moore'), (19.39, 'Kenny Moore'), (19.39, 'Kenny Moore'), (19.39, 'Kenny Moore'), (19.39, 'Kenny Moore'), (19.39, 'Kenny Moore'), (16.930000000000007, 'Darius Leonard'), (16.930000000000007, 'Darius Leonard'), (16.930000000000007, 'Darius Leonard'), (16.930000000000007, 'Darius Leonard'), (16.930000000000007, 'Darius Leonard'), (16.930000000000007, 'Darius Leonard'), (16.930000000000007, 'Darius Leonard'), (16.930000000000007, 'Darius Leonard'), (18.64, 'Barry Church'), (18.64, 'Barry Church'), (18.64, 'Barry Church'), (18.64, 'Barry Church'), (18.64, 'Barry Church'), (18.64, 'Barry Church'), (18.64, 'Barry Church'), (2.049999999999997, 'Tashaun Gipson'), (2.049999999999997, 'Tashaun Gipson'), (2.049999999999997, 'Tashaun Gipson'), (2.049999999999997, 'Tashaun Gipson'), (2.049999999999997, 'Tashaun Gipson'), (2.049999999999997, 'Tashaun Gipson'), (2.049999999999997, 'Tashaun Gipson'), (7.359999999999999, 'D.J. Hayden'), (7.359999999999999, 'D.J. Hayden'), (7.359999999999999, 'D.J. Hayden'), (7.359999999999999, 'D.J. Hayden'), (7.359999999999999, 'D.J. Hayden'), (7.359999999999999, 'D.J. Hayden'), (7.359999999999999, 'D.J. Hayden'), (10.260000000000005, 'A.J. Bouye'), (10.260000000000005, 'A.J. Bouye'), (10.260000000000005, 'A.J. Bouye'), (10.260000000000005, 'A.J. Bouye'), (10.260000000000005, 'A.J. Bouye'), (10.260000000000005, 'A.J. Bouye'), (10.260000000000005, 'A.J. Bouye'), (0.010000000000005116, 'Telvin Smith'), (0.010000000000005116, 'Telvin Smith'), (0.010000000000005116, 'Telvin Smith'), (0.010000000000005116, 'Telvin Smith'), (0.010000000000005116, 'Telvin Smith'), (0.010000000000005116, 'Telvin Smith'), (0.010000000000005116, 'Telvin Smith'), (7.890000000000001, 'Jalen Ramsey'), (7.890000000000001, 'Jalen Ramsey'), (7.890000000000001, 'Jalen Ramsey'), (7.890000000000001, 'Jalen Ramsey'), (7.890000000000001, 'Jalen Ramsey'), (7.890000000000001, 'Jalen Ramsey'), (7.890000000000001, 'Jalen Ramsey'), (4.959999999999994, 'Myles Jack'), (4.959999999999994, 'Myles Jack'), (4.959999999999994, 'Myles Jack'), (4.959999999999994, 'Myles Jack'), (4.959999999999994, 'Myles Jack'), (4.959999999999994, 'Myles Jack'), (4.959999999999994, 'Myles Jack'), (9.219999999999999, 'Morgan Burnett'), (9.219999999999999, 'Morgan Burnett'), (9.219999999999999, 'Morgan Burnett'), (9.219999999999999, 'Morgan Burnett'), (9.219999999999999, 'Morgan Burnett'), (4.1299999999999955, 'Vince Williams'), (4.1299999999999955, 'Vince Williams'), (4.1299999999999955, 'Vince Williams'), (4.1299999999999955, 'Vince Williams'), (4.1299999999999955, 'Vince Williams'), (0.7999999999999972, 'Bud Dupree'), (0.7999999999999972, 'Bud Dupree'), (0.7999999999999972, 'Bud Dupree'), (0.7999999999999972, 'Bud Dupree'), (0.7999999999999972, 'Bud Dupree'), (16.200000000000003, 'Artie Burns'), (16.200000000000003, 'Artie Burns'), (16.200000000000003, 'Artie Burns'), (16.200000000000003, 'Artie Burns'), (16.200000000000003, 'Artie Burns'), (27.97, 'Sean Davis'), (27.97, 'Sean Davis'), (27.97, 'Sean Davis'), (27.97, 'Sean Davis'), (27.97, 'Sean Davis'), (17.790000000000006, 'Mike Hilton'), (17.790000000000006, 'Mike Hilton'), (17.790000000000006, 'Mike Hilton'), (17.790000000000006, 'Mike Hilton'), (17.790000000000006, 'Mike Hilton'), (0.29999999999999716, 'T.J. Watt'), (0.29999999999999716, 'T.J. Watt'), (0.29999999999999716, 'T.J. Watt'), (0.29999999999999716, 'T.J. Watt'), (0.29999999999999716, 'T.J. Watt'), (17.549999999999997, 'Cameron Sutton'), (17.549999999999997, 'Cameron Sutton'), (17.549999999999997, 'Cameron Sutton'), (17.549999999999997, 'Cameron Sutton'), (17.549999999999997, 'Cameron Sutton'), (13.450000000000003, 'Terrell Edmunds'), (13.450000000000003, 'Terrell Edmunds'), (13.450000000000003, 'Terrell Edmunds'), (13.450000000000003, 'Terrell Edmunds'), (13.450000000000003, 'Terrell Edmunds'), (38.12, 'Dre Kirkpatrick'), (38.12, 'Dre Kirkpatrick'), (38.12, 'Dre Kirkpatrick'), (38.12, 'Dre Kirkpatrick'), (38.12, 'Dre Kirkpatrick'), (38.12, 'Dre Kirkpatrick'), (35.58, 'Darqueze Dennard'), (35.58, 'Darqueze Dennard'), (35.58, 'Darqueze Dennard'), (35.58, 'Darqueze Dennard'), (35.58, 'Darqueze Dennard'), (35.58, 'Darqueze Dennard'), (28.04, 'Clayton Fejedelem'), (28.04, 'Clayton Fejedelem'), (28.04, 'Clayton Fejedelem'), (28.04, 'Clayton Fejedelem'), (28.04, 'Clayton Fejedelem'), (28.04, 'Clayton Fejedelem'), (37.61, 'Nick Vigil'), (37.61, 'Nick Vigil'), (37.61, 'Nick Vigil'), (37.61, 'Nick Vigil'), (37.61, 'Nick Vigil'), (37.61, 'Nick Vigil'), (40.16, 'William Jackson'), (40.16, 'William Jackson'), (40.16, 'William Jackson'), (40.16, 'William Jackson'), (40.16, 'William Jackson'), (40.16, 'William Jackson'), (35.07, 'Hardy Nickerson'), (35.07, 'Hardy Nickerson'), (35.07, 'Hardy Nickerson'), (35.07, 'Hardy Nickerson'), (35.07, 'Hardy Nickerson'), (35.07, 'Hardy Nickerson'), (22.68, 'Jessie Bates'), (22.68, 'Jessie Bates'), (22.68, 'Jessie Bates'), (22.68, 'Jessie Bates'), (22.68, 'Jessie Bates'), (22.68, 'Jessie Bates'), (45.86, 'Buster Skrine'), (45.86, 'Buster Skrine'), (45.86, 'Buster Skrine'), (49.21, 'Trumaine Johnson'), (49.21, 'Trumaine Johnson'), (49.21, 'Trumaine Johnson'), (40.69, 'Avery Williamson'), (40.69, 'Avery Williamson'), (40.69, 'Avery Williamson'), (50.120000000000005, 'Darryl Roberts'), (50.120000000000005, 'Darryl Roberts'), (50.120000000000005, 'Darryl Roberts'), (29.799999999999997, 'Jordan Jenkins'), (29.799999999999997, 'Jordan Jenkins'), (29.799999999999997, 'Jordan Jenkins'), (40.56, 'Darron Lee'), (40.56, 'Darron Lee'), (40.56, 'Darron Lee'), (55.260000000000005, 'Doug Middleton'), (55.260000000000005, 'Doug Middleton'), (55.260000000000005, 'Doug Middleton'), (42.61, 'Jamal Adams'), (42.61, 'Jamal Adams'), (42.61, 'Jamal Adams')]\n",
      "[(22.509999999999998, 'Connor Barwin'), (22.509999999999998, 'Connor Barwin'), (22.509999999999998, 'Connor Barwin'), (0.21000000000000085, 'Janoris Jenkins'), (0.21000000000000085, 'Janoris Jenkins'), (0.21000000000000085, 'Janoris Jenkins'), (12.879999999999995, 'B.W. Webb'), (12.879999999999995, 'B.W. Webb'), (12.879999999999995, 'B.W. Webb'), (13.599999999999994, 'Alec Ogletree'), (13.599999999999994, 'Alec Ogletree'), (13.599999999999994, 'Alec Ogletree'), (13.61, 'Ray-Ray Armstrong'), (13.61, 'Ray-Ray Armstrong'), (13.61, 'Ray-Ray Armstrong'), (24.800000000000004, 'Kareem Martin'), (24.800000000000004, 'Kareem Martin'), (24.800000000000004, 'Kareem Martin'), (11.93, 'Landon Collins'), (11.93, 'Landon Collins'), (11.93, 'Landon Collins'), (5.32, 'Curtis Riley'), (5.32, 'Curtis Riley'), (5.32, 'Curtis Riley'), (0.8800000000000026, 'Eli Apple'), (0.8800000000000026, 'Eli Apple'), (0.8800000000000026, 'Eli Apple')]\n",
      "[(10.769999999999996, 'Patrick Robinson'), (10.769999999999996, 'Patrick Robinson'), (10.769999999999996, 'Patrick Robinson'), (2.989999999999995, 'Demario Davis'), (2.989999999999995, 'Demario Davis'), (2.989999999999995, 'Demario Davis'), (14.509999999999991, 'Vonn Bell'), (14.509999999999991, 'Vonn Bell'), (14.509999999999991, 'Vonn Bell'), (19.349999999999994, 'Ken Crawley'), (19.349999999999994, 'Ken Crawley'), (19.349999999999994, 'Ken Crawley'), (13.420000000000002, 'Marshon Lattimore'), (13.420000000000002, 'Marshon Lattimore'), (13.420000000000002, 'Marshon Lattimore'), (12.349999999999994, 'Alex Anzalone'), (12.349999999999994, 'Alex Anzalone'), (12.349999999999994, 'Alex Anzalone'), (25.709999999999994, 'Marcus Williams'), (25.709999999999994, 'Marcus Williams'), (25.709999999999994, 'Marcus Williams'), (24.459999999999994, 'Sean Lee'), (24.459999999999994, 'Sean Lee'), (24.459999999999994, 'Sean Lee'), (24.459999999999994, 'Sean Lee'), (24.459999999999994, 'Sean Lee'), (24.459999999999994, 'Sean Lee'), (7.269999999999996, 'Jeff Heath'), (7.269999999999996, 'Jeff Heath'), (7.269999999999996, 'Jeff Heath'), (7.269999999999996, 'Jeff Heath'), (7.269999999999996, 'Jeff Heath'), (7.269999999999996, 'Jeff Heath'), (22.549999999999997, 'Byron Jones'), (22.549999999999997, 'Byron Jones'), (22.549999999999997, 'Byron Jones'), (22.549999999999997, 'Byron Jones'), (22.549999999999997, 'Byron Jones'), (22.549999999999997, 'Byron Jones'), (23.489999999999995, 'Damien Wilson'), (23.489999999999995, 'Damien Wilson'), (23.489999999999995, 'Damien Wilson'), (23.489999999999995, 'Damien Wilson'), (23.489999999999995, 'Damien Wilson'), (23.489999999999995, 'Damien Wilson'), (25.049999999999997, 'Jaylon Smith'), (25.049999999999997, 'Jaylon Smith'), (25.049999999999997, 'Jaylon Smith'), (25.049999999999997, 'Jaylon Smith'), (25.049999999999997, 'Jaylon Smith'), (25.049999999999997, 'Jaylon Smith'), (23.459999999999994, 'Kavon Frazier'), (23.459999999999994, 'Kavon Frazier'), (23.459999999999994, 'Kavon Frazier'), (23.459999999999994, 'Kavon Frazier'), (23.459999999999994, 'Kavon Frazier'), (23.459999999999994, 'Kavon Frazier'), (13.72999999999999, 'Chidobe Awuzie'), (13.72999999999999, 'Chidobe Awuzie'), (13.72999999999999, 'Chidobe Awuzie'), (13.72999999999999, 'Chidobe Awuzie'), (13.72999999999999, 'Chidobe Awuzie'), (13.72999999999999, 'Chidobe Awuzie')]\n",
      "[(27.8, 'Kareem Jackson'), (27.8, 'Kareem Jackson'), (27.8, 'Kareem Jackson'), (27.8, 'Kareem Jackson'), (27.8, 'Kareem Jackson'), (27.8, 'Kareem Jackson'), (27.8, 'Kareem Jackson'), (27.8, 'Kareem Jackson'), (18.8, 'Johnathan Joseph'), (18.8, 'Johnathan Joseph'), (18.8, 'Johnathan Joseph'), (18.8, 'Johnathan Joseph'), (18.8, 'Johnathan Joseph'), (18.8, 'Johnathan Joseph'), (18.8, 'Johnathan Joseph'), (18.8, 'Johnathan Joseph'), (3.4499999999999993, 'Whitney Mercilus'), (3.4499999999999993, 'Whitney Mercilus'), (3.4499999999999993, 'Whitney Mercilus'), (3.4499999999999993, 'Whitney Mercilus'), (3.4499999999999993, 'Whitney Mercilus'), (3.4499999999999993, 'Whitney Mercilus'), (3.4499999999999993, 'Whitney Mercilus'), (3.4499999999999993, 'Whitney Mercilus'), (9.100000000000001, 'Tyrann Mathieu'), (9.100000000000001, 'Tyrann Mathieu'), (9.100000000000001, 'Tyrann Mathieu'), (9.100000000000001, 'Tyrann Mathieu'), (9.100000000000001, 'Tyrann Mathieu'), (9.100000000000001, 'Tyrann Mathieu'), (9.100000000000001, 'Tyrann Mathieu'), (9.100000000000001, 'Tyrann Mathieu'), (11.770000000000003, 'Aaron Colvin'), (11.770000000000003, 'Aaron Colvin'), (11.770000000000003, 'Aaron Colvin'), (11.770000000000003, 'Aaron Colvin'), (11.770000000000003, 'Aaron Colvin'), (11.770000000000003, 'Aaron Colvin'), (11.770000000000003, 'Aaron Colvin'), (11.770000000000003, 'Aaron Colvin'), (10.030000000000001, 'Kevin Johnson'), (10.030000000000001, 'Kevin Johnson'), (10.030000000000001, 'Kevin Johnson'), (10.030000000000001, 'Kevin Johnson'), (10.030000000000001, 'Kevin Johnson'), (10.030000000000001, 'Kevin Johnson'), (10.030000000000001, 'Kevin Johnson'), (10.030000000000001, 'Kevin Johnson'), (11.21, 'Dylan Cole'), (11.21, 'Dylan Cole'), (11.21, 'Dylan Cole'), (11.21, 'Dylan Cole'), (11.21, 'Dylan Cole'), (11.21, 'Dylan Cole'), (11.21, 'Dylan Cole'), (11.21, 'Dylan Cole'), (13.060000000000002, 'Justin Reid'), (13.060000000000002, 'Justin Reid'), (13.060000000000002, 'Justin Reid'), (13.060000000000002, 'Justin Reid'), (13.060000000000002, 'Justin Reid'), (13.060000000000002, 'Justin Reid'), (13.060000000000002, 'Justin Reid'), (13.060000000000002, 'Justin Reid'), (38.510000000000005, 'Janoris Jenkins'), (38.510000000000005, 'Janoris Jenkins'), (38.510000000000005, 'Janoris Jenkins'), (38.510000000000005, 'Janoris Jenkins'), (38.510000000000005, 'Janoris Jenkins'), (38.510000000000005, 'Janoris Jenkins'), (38.510000000000005, 'Janoris Jenkins'), (38.510000000000005, 'Janoris Jenkins'), (30.000000000000004, 'Alec Ogletree'), (30.000000000000004, 'Alec Ogletree'), (30.000000000000004, 'Alec Ogletree'), (30.000000000000004, 'Alec Ogletree'), (30.000000000000004, 'Alec Ogletree'), (30.000000000000004, 'Alec Ogletree'), (30.000000000000004, 'Alec Ogletree'), (30.000000000000004, 'Alec Ogletree'), (28.09, 'Kareem Martin'), (28.09, 'Kareem Martin'), (28.09, 'Kareem Martin'), (28.09, 'Kareem Martin'), (28.09, 'Kareem Martin'), (28.09, 'Kareem Martin'), (28.09, 'Kareem Martin'), (28.09, 'Kareem Martin'), (38.55, 'Landon Collins'), (38.55, 'Landon Collins'), (38.55, 'Landon Collins'), (38.55, 'Landon Collins'), (38.55, 'Landon Collins'), (38.55, 'Landon Collins'), (38.55, 'Landon Collins'), (38.55, 'Landon Collins'), (48.71000000000001, 'Curtis Riley'), (48.71000000000001, 'Curtis Riley'), (48.71000000000001, 'Curtis Riley'), (48.71000000000001, 'Curtis Riley'), (48.71000000000001, 'Curtis Riley'), (48.71000000000001, 'Curtis Riley'), (48.71000000000001, 'Curtis Riley'), (48.71000000000001, 'Curtis Riley'), (41.09, 'Eli Apple'), (41.09, 'Eli Apple'), (41.09, 'Eli Apple'), (41.09, 'Eli Apple'), (41.09, 'Eli Apple'), (41.09, 'Eli Apple'), (41.09, 'Eli Apple'), (41.09, 'Eli Apple'), (34.64, 'B.J. Goodson'), (34.64, 'B.J. Goodson'), (34.64, 'B.J. Goodson'), (34.64, 'B.J. Goodson'), (34.64, 'B.J. Goodson'), (34.64, 'B.J. Goodson'), (34.64, 'B.J. Goodson'), (34.64, 'B.J. Goodson'), (19.91, 'Lorenzo Carter'), (19.91, 'Lorenzo Carter'), (19.91, 'Lorenzo Carter'), (19.91, 'Lorenzo Carter'), (19.91, 'Lorenzo Carter'), (19.91, 'Lorenzo Carter'), (19.91, 'Lorenzo Carter'), (19.91, 'Lorenzo Carter'), (0.2900000000000027, 'Kenny Vaccaro'), (0.2900000000000027, 'Kenny Vaccaro'), (0.2900000000000027, 'Kenny Vaccaro'), (0.2900000000000027, 'Kenny Vaccaro'), (5.809999999999999, 'Will Compton'), (5.809999999999999, 'Will Compton'), (5.809999999999999, 'Will Compton'), (5.809999999999999, 'Will Compton'), (9.319999999999999, 'Logan Ryan'), (9.319999999999999, 'Logan Ryan'), (9.319999999999999, 'Logan Ryan'), (9.319999999999999, 'Logan Ryan'), (7.789999999999999, 'Malcolm Butler'), (7.789999999999999, 'Malcolm Butler'), (7.789999999999999, 'Malcolm Butler'), (7.789999999999999, 'Malcolm Butler'), (10.68, 'Kevin Byard'), (10.68, 'Kevin Byard'), (10.68, 'Kevin Byard'), (10.68, 'Kevin Byard'), (1.6899999999999977, 'Kamalei Correa'), (1.6899999999999977, 'Kamalei Correa'), (1.6899999999999977, 'Kamalei Correa'), (1.6899999999999977, 'Kamalei Correa'), (6.649999999999999, 'Jayon Brown'), (6.649999999999999, 'Jayon Brown'), (6.649999999999999, 'Jayon Brown'), (6.649999999999999, 'Jayon Brown'), (7.169999999999998, \"Adoree' Jackson\"), (7.169999999999998, \"Adoree' Jackson\"), (7.169999999999998, \"Adoree' Jackson\"), (7.169999999999998, \"Adoree' Jackson\"), (0.8200000000000003, 'Sharif Finch'), (0.8200000000000003, 'Sharif Finch'), (0.8200000000000003, 'Sharif Finch'), (0.8200000000000003, 'Sharif Finch'), (44.31, 'Buster Skrine'), (44.31, 'Buster Skrine'), (44.31, 'Buster Skrine'), (44.31, 'Buster Skrine'), (44.31, 'Buster Skrine'), (43.400000000000006, 'Trumaine Johnson'), (43.400000000000006, 'Trumaine Johnson'), (43.400000000000006, 'Trumaine Johnson'), (43.400000000000006, 'Trumaine Johnson'), (43.400000000000006, 'Trumaine Johnson'), (41.78, 'Morris Claiborne'), (41.78, 'Morris Claiborne'), (41.78, 'Morris Claiborne'), (41.78, 'Morris Claiborne'), (41.78, 'Morris Claiborne'), (32.620000000000005, 'Avery Williamson'), (32.620000000000005, 'Avery Williamson'), (32.620000000000005, 'Avery Williamson'), (32.620000000000005, 'Avery Williamson'), (32.620000000000005, 'Avery Williamson'), (18.88, 'Jordan Jenkins'), (18.88, 'Jordan Jenkins'), (18.88, 'Jordan Jenkins'), (18.88, 'Jordan Jenkins'), (18.88, 'Jordan Jenkins'), (28.76, 'Darron Lee'), (28.76, 'Darron Lee'), (28.76, 'Darron Lee'), (28.76, 'Darron Lee'), (28.76, 'Darron Lee'), (48.49000000000001, 'Doug Middleton'), (48.49000000000001, 'Doug Middleton'), (48.49000000000001, 'Doug Middleton'), (48.49000000000001, 'Doug Middleton'), (48.49000000000001, 'Doug Middleton'), (33.35000000000001, 'Jamal Adams'), (33.35000000000001, 'Jamal Adams'), (33.35000000000001, 'Jamal Adams'), (33.35000000000001, 'Jamal Adams'), (33.35000000000001, 'Jamal Adams')]\n",
      "[(17.799999999999997, 'Kareem Jackson'), (17.799999999999997, 'Kareem Jackson'), (17.799999999999997, 'Kareem Jackson'), (17.799999999999997, 'Kareem Jackson'), (17.799999999999997, 'Kareem Jackson'), (17.799999999999997, 'Kareem Jackson'), (17.799999999999997, 'Kareem Jackson'), (17.799999999999997, 'Kareem Jackson'), (8.600000000000001, 'Johnathan Joseph'), (8.600000000000001, 'Johnathan Joseph'), (8.600000000000001, 'Johnathan Joseph'), (8.600000000000001, 'Johnathan Joseph'), (8.600000000000001, 'Johnathan Joseph'), (8.600000000000001, 'Johnathan Joseph'), (8.600000000000001, 'Johnathan Joseph'), (8.600000000000001, 'Johnathan Joseph'), (14.35, 'Whitney Mercilus'), (14.35, 'Whitney Mercilus'), (14.35, 'Whitney Mercilus'), (14.35, 'Whitney Mercilus'), (14.35, 'Whitney Mercilus'), (14.35, 'Whitney Mercilus'), (14.35, 'Whitney Mercilus'), (14.35, 'Whitney Mercilus'), (0.05000000000000071, 'Tyrann Mathieu'), (0.05000000000000071, 'Tyrann Mathieu'), (0.05000000000000071, 'Tyrann Mathieu'), (0.05000000000000071, 'Tyrann Mathieu'), (0.05000000000000071, 'Tyrann Mathieu'), (0.05000000000000071, 'Tyrann Mathieu'), (0.05000000000000071, 'Tyrann Mathieu'), (0.05000000000000071, 'Tyrann Mathieu'), (3.3599999999999994, 'Aaron Colvin'), (3.3599999999999994, 'Aaron Colvin'), (3.3599999999999994, 'Aaron Colvin'), (3.3599999999999994, 'Aaron Colvin'), (3.3599999999999994, 'Aaron Colvin'), (3.3599999999999994, 'Aaron Colvin'), (3.3599999999999994, 'Aaron Colvin'), (3.3599999999999994, 'Aaron Colvin'), (0.05000000000000071, 'Kevin Johnson'), (0.05000000000000071, 'Kevin Johnson'), (0.05000000000000071, 'Kevin Johnson'), (0.05000000000000071, 'Kevin Johnson'), (0.05000000000000071, 'Kevin Johnson'), (0.05000000000000071, 'Kevin Johnson'), (0.05000000000000071, 'Kevin Johnson'), (0.05000000000000071, 'Kevin Johnson'), (2.969999999999999, 'Dylan Cole'), (2.969999999999999, 'Dylan Cole'), (2.969999999999999, 'Dylan Cole'), (2.969999999999999, 'Dylan Cole'), (2.969999999999999, 'Dylan Cole'), (2.969999999999999, 'Dylan Cole'), (2.969999999999999, 'Dylan Cole'), (2.969999999999999, 'Dylan Cole'), (3.780000000000001, 'Justin Reid'), (3.780000000000001, 'Justin Reid'), (3.780000000000001, 'Justin Reid'), (3.780000000000001, 'Justin Reid'), (3.780000000000001, 'Justin Reid'), (3.780000000000001, 'Justin Reid'), (3.780000000000001, 'Justin Reid'), (3.780000000000001, 'Justin Reid')]\n",
      "[(14.739999999999995, 'Morgan Burnett'), (14.739999999999995, 'Morgan Burnett'), (14.739999999999995, 'Morgan Burnett'), (14.739999999999995, 'Morgan Burnett'), (14.739999999999995, 'Morgan Burnett'), (14.739999999999995, 'Morgan Burnett'), (14.739999999999995, 'Morgan Burnett'), (14.739999999999995, 'Morgan Burnett'), (18.97999999999999, 'Joe Haden'), (18.97999999999999, 'Joe Haden'), (18.97999999999999, 'Joe Haden'), (18.97999999999999, 'Joe Haden'), (18.97999999999999, 'Joe Haden'), (18.97999999999999, 'Joe Haden'), (18.97999999999999, 'Joe Haden'), (18.97999999999999, 'Joe Haden'), (14.659999999999997, 'Vince Williams'), (14.659999999999997, 'Vince Williams'), (14.659999999999997, 'Vince Williams'), (14.659999999999997, 'Vince Williams'), (14.659999999999997, 'Vince Williams'), (14.659999999999997, 'Vince Williams'), (14.659999999999997, 'Vince Williams'), (14.659999999999997, 'Vince Williams'), (1.759999999999991, 'Bud Dupree'), (1.759999999999991, 'Bud Dupree'), (1.759999999999991, 'Bud Dupree'), (1.759999999999991, 'Bud Dupree'), (1.759999999999991, 'Bud Dupree'), (1.759999999999991, 'Bud Dupree'), (1.759999999999991, 'Bud Dupree'), (1.759999999999991, 'Bud Dupree'), (17.61, 'Artie Burns'), (17.61, 'Artie Burns'), (17.61, 'Artie Burns'), (17.61, 'Artie Burns'), (17.61, 'Artie Burns'), (17.61, 'Artie Burns'), (17.61, 'Artie Burns'), (17.61, 'Artie Burns'), (24.89999999999999, 'Sean Davis'), (24.89999999999999, 'Sean Davis'), (24.89999999999999, 'Sean Davis'), (24.89999999999999, 'Sean Davis'), (24.89999999999999, 'Sean Davis'), (24.89999999999999, 'Sean Davis'), (24.89999999999999, 'Sean Davis'), (24.89999999999999, 'Sean Davis'), (13.909999999999997, 'Mike Hilton'), (13.909999999999997, 'Mike Hilton'), (13.909999999999997, 'Mike Hilton'), (13.909999999999997, 'Mike Hilton'), (13.909999999999997, 'Mike Hilton'), (13.909999999999997, 'Mike Hilton'), (13.909999999999997, 'Mike Hilton'), (13.909999999999997, 'Mike Hilton'), (1.5899999999999892, 'T.J. Watt'), (1.5899999999999892, 'T.J. Watt'), (1.5899999999999892, 'T.J. Watt'), (1.5899999999999892, 'T.J. Watt'), (1.5899999999999892, 'T.J. Watt'), (1.5899999999999892, 'T.J. Watt'), (1.5899999999999892, 'T.J. Watt'), (1.5899999999999892, 'T.J. Watt'), (20.299999999999997, 'Terrell Edmunds'), (20.299999999999997, 'Terrell Edmunds'), (20.299999999999997, 'Terrell Edmunds'), (20.299999999999997, 'Terrell Edmunds'), (20.299999999999997, 'Terrell Edmunds'), (20.299999999999997, 'Terrell Edmunds'), (20.299999999999997, 'Terrell Edmunds'), (20.299999999999997, 'Terrell Edmunds'), (45.739999999999995, 'Ryan Kerrigan'), (45.739999999999995, 'Ryan Kerrigan'), (45.739999999999995, 'Ryan Kerrigan'), (45.739999999999995, 'Ryan Kerrigan'), (48.239999999999995, 'Mason Foster'), (48.239999999999995, 'Mason Foster'), (48.239999999999995, 'Mason Foster'), (48.239999999999995, 'Mason Foster'), (47.91, 'Josh Norman'), (47.91, 'Josh Norman'), (47.91, 'Josh Norman'), (47.91, 'Josh Norman'), (58.989999999999995, 'D.J. Swearinger'), (58.989999999999995, 'D.J. Swearinger'), (58.989999999999995, 'D.J. Swearinger'), (58.989999999999995, 'D.J. Swearinger'), (30.789999999999992, 'Preston Smith'), (30.789999999999992, 'Preston Smith'), (30.789999999999992, 'Preston Smith'), (30.789999999999992, 'Preston Smith'), (48.51, 'Quinton Dunbar'), (48.51, 'Quinton Dunbar'), (48.51, 'Quinton Dunbar'), (48.51, 'Quinton Dunbar'), (33.839999999999996, 'Josh Harvey-Clemons'), (33.839999999999996, 'Josh Harvey-Clemons'), (33.839999999999996, 'Josh Harvey-Clemons'), (33.839999999999996, 'Josh Harvey-Clemons'), (44.029999999999994, 'Montae Nicholson'), (44.029999999999994, 'Montae Nicholson'), (44.029999999999994, 'Montae Nicholson'), (44.029999999999994, 'Montae Nicholson'), (45.489999999999995, 'Fabian Moreau'), (45.489999999999995, 'Fabian Moreau'), (45.489999999999995, 'Fabian Moreau'), (45.489999999999995, 'Fabian Moreau')]\n",
      "[(10.25, 'Lorenzo Alexander'), (10.25, 'Lorenzo Alexander'), (10.25, 'Lorenzo Alexander'), (10.25, 'Lorenzo Alexander'), (27.880000000000003, 'Micah Hyde'), (27.880000000000003, 'Micah Hyde'), (27.880000000000003, 'Micah Hyde'), (27.880000000000003, 'Micah Hyde'), (20.75, 'Jordan Poyer'), (20.75, 'Jordan Poyer'), (20.75, 'Jordan Poyer'), (20.75, 'Jordan Poyer'), (22.69, 'Phillip Gaines'), (22.69, 'Phillip Gaines'), (22.69, 'Phillip Gaines'), (22.69, 'Phillip Gaines'), (16.37, \"Tre'Davious White\"), (16.37, \"Tre'Davious White\"), (16.37, \"Tre'Davious White\"), (16.37, \"Tre'Davious White\"), (10.23, 'Matt Milano'), (10.23, 'Matt Milano'), (10.23, 'Matt Milano'), (10.23, 'Matt Milano'), (1.5799999999999983, 'Tremaine Edmunds'), (1.5799999999999983, 'Tremaine Edmunds'), (1.5799999999999983, 'Tremaine Edmunds'), (1.5799999999999983, 'Tremaine Edmunds'), (3.9399999999999977, 'Jamie Collins'), (3.9399999999999977, 'Jamie Collins'), (3.9399999999999977, 'Jamie Collins'), (3.9399999999999977, 'Jamie Collins'), (3.9399999999999977, 'Jamie Collins'), (3.9399999999999977, 'Jamie Collins'), (6.890000000000001, 'Terrance Mitchell'), (6.890000000000001, 'Terrance Mitchell'), (6.890000000000001, 'Terrance Mitchell'), (6.890000000000001, 'Terrance Mitchell'), (6.890000000000001, 'Terrance Mitchell'), (6.890000000000001, 'Terrance Mitchell'), (12.16, 'Damarious Randall'), (12.16, 'Damarious Randall'), (12.16, 'Damarious Randall'), (12.16, 'Damarious Randall'), (12.16, 'Damarious Randall'), (12.16, 'Damarious Randall'), (12.780000000000001, 'Joe Schobert'), (12.780000000000001, 'Joe Schobert'), (12.780000000000001, 'Joe Schobert'), (12.780000000000001, 'Joe Schobert'), (12.780000000000001, 'Joe Schobert'), (12.780000000000001, 'Joe Schobert'), (7.3799999999999955, 'Briean Boddy-Calhoun'), (7.3799999999999955, 'Briean Boddy-Calhoun'), (7.3799999999999955, 'Briean Boddy-Calhoun'), (7.3799999999999955, 'Briean Boddy-Calhoun'), (7.3799999999999955, 'Briean Boddy-Calhoun'), (7.3799999999999955, 'Briean Boddy-Calhoun'), (1.5399999999999991, 'Jabrill Peppers'), (1.5399999999999991, 'Jabrill Peppers'), (1.5399999999999991, 'Jabrill Peppers'), (1.5399999999999991, 'Jabrill Peppers'), (1.5399999999999991, 'Jabrill Peppers'), (1.5399999999999991, 'Jabrill Peppers'), (1.3299999999999983, 'Denzel Ward'), (1.3299999999999983, 'Denzel Ward'), (1.3299999999999983, 'Denzel Ward'), (1.3299999999999983, 'Denzel Ward'), (1.3299999999999983, 'Denzel Ward'), (1.3299999999999983, 'Denzel Ward'), (13.229999999999997, 'Genard Avery'), (13.229999999999997, 'Genard Avery'), (13.229999999999997, 'Genard Avery'), (13.229999999999997, 'Genard Avery'), (13.229999999999997, 'Genard Avery'), (13.229999999999997, 'Genard Avery'), (3.039999999999999, 'Connor Barwin'), (3.039999999999999, 'Connor Barwin'), (3.039999999999999, 'Connor Barwin'), (3.039999999999999, 'Connor Barwin'), (7.710000000000001, 'Janoris Jenkins'), (7.710000000000001, 'Janoris Jenkins'), (7.710000000000001, 'Janoris Jenkins'), (7.710000000000001, 'Janoris Jenkins'), (3.729999999999997, 'B.W. Webb'), (3.729999999999997, 'B.W. Webb'), (3.729999999999997, 'B.W. Webb'), (3.729999999999997, 'B.W. Webb'), (12.309999999999995, 'Alec Ogletree'), (12.309999999999995, 'Alec Ogletree'), (12.309999999999995, 'Alec Ogletree'), (12.309999999999995, 'Alec Ogletree'), (1.8500000000000014, 'Ray-Ray Armstrong'), (1.8500000000000014, 'Ray-Ray Armstrong'), (1.8500000000000014, 'Ray-Ray Armstrong'), (1.8500000000000014, 'Ray-Ray Armstrong'), (6.390000000000001, 'Kareem Martin'), (6.390000000000001, 'Kareem Martin'), (6.390000000000001, 'Kareem Martin'), (6.390000000000001, 'Kareem Martin'), (10.920000000000002, 'Landon Collins'), (10.920000000000002, 'Landon Collins'), (10.920000000000002, 'Landon Collins'), (10.920000000000002, 'Landon Collins'), (22.71, 'Curtis Riley'), (22.71, 'Curtis Riley'), (22.71, 'Curtis Riley'), (22.71, 'Curtis Riley'), (6.780000000000001, 'Eli Apple'), (6.780000000000001, 'Eli Apple'), (6.780000000000001, 'Eli Apple'), (6.780000000000001, 'Eli Apple'), (2.6099999999999994, 'Lorenzo Carter'), (2.6099999999999994, 'Lorenzo Carter'), (2.6099999999999994, 'Lorenzo Carter'), (2.6099999999999994, 'Lorenzo Carter'), (8.93, 'Buster Skrine'), (8.93, 'Buster Skrine'), (8.93, 'Buster Skrine'), (8.93, 'Buster Skrine'), (8.93, 'Buster Skrine'), (8.93, 'Buster Skrine'), (7.93, 'Trumaine Johnson'), (7.93, 'Trumaine Johnson'), (7.93, 'Trumaine Johnson'), (7.93, 'Trumaine Johnson'), (7.93, 'Trumaine Johnson'), (7.93, 'Trumaine Johnson'), (10.700000000000003, 'Morris Claiborne'), (10.700000000000003, 'Morris Claiborne'), (10.700000000000003, 'Morris Claiborne'), (10.700000000000003, 'Morris Claiborne'), (10.700000000000003, 'Morris Claiborne'), (10.700000000000003, 'Morris Claiborne'), (0.07000000000000028, 'Avery Williamson'), (0.07000000000000028, 'Avery Williamson'), (0.07000000000000028, 'Avery Williamson'), (0.07000000000000028, 'Avery Williamson'), (0.07000000000000028, 'Avery Williamson'), (0.07000000000000028, 'Avery Williamson'), (6.210000000000001, 'Darron Lee'), (6.210000000000001, 'Darron Lee'), (6.210000000000001, 'Darron Lee'), (6.210000000000001, 'Darron Lee'), (6.210000000000001, 'Darron Lee'), (6.210000000000001, 'Darron Lee'), (19.17, 'Doug Middleton'), (19.17, 'Doug Middleton'), (19.17, 'Doug Middleton'), (19.17, 'Doug Middleton'), (19.17, 'Doug Middleton'), (19.17, 'Doug Middleton'), (9.68, 'Jamal Adams'), (9.68, 'Jamal Adams'), (9.68, 'Jamal Adams'), (9.68, 'Jamal Adams'), (9.68, 'Jamal Adams'), (9.68, 'Jamal Adams'), (1.0399999999999991, 'Frankie Luvu'), (1.0399999999999991, 'Frankie Luvu'), (1.0399999999999991, 'Frankie Luvu'), (1.0399999999999991, 'Frankie Luvu'), (1.0399999999999991, 'Frankie Luvu'), (1.0399999999999991, 'Frankie Luvu')]\n",
      "[(10.91000000000001, 'Morgan Burnett'), (10.91000000000001, 'Morgan Burnett'), (10.91000000000001, 'Morgan Burnett'), (10.91000000000001, 'Morgan Burnett'), (10.91000000000001, 'Morgan Burnett'), (10.91000000000001, 'Morgan Burnett'), (9.5, 'Joe Haden'), (9.5, 'Joe Haden'), (9.5, 'Joe Haden'), (9.5, 'Joe Haden'), (9.5, 'Joe Haden'), (9.5, 'Joe Haden'), (18.150000000000006, 'Vince Williams'), (18.150000000000006, 'Vince Williams'), (18.150000000000006, 'Vince Williams'), (18.150000000000006, 'Vince Williams'), (18.150000000000006, 'Vince Williams'), (18.150000000000006, 'Vince Williams'), (31.31000000000001, 'Bud Dupree'), (31.31000000000001, 'Bud Dupree'), (31.31000000000001, 'Bud Dupree'), (31.31000000000001, 'Bud Dupree'), (31.31000000000001, 'Bud Dupree'), (31.31000000000001, 'Bud Dupree'), (6.1699999999999875, 'Artie Burns'), (6.1699999999999875, 'Artie Burns'), (6.1699999999999875, 'Artie Burns'), (6.1699999999999875, 'Artie Burns'), (6.1699999999999875, 'Artie Burns'), (6.1699999999999875, 'Artie Burns'), (0.05999999999998806, 'Sean Davis'), (0.05999999999998806, 'Sean Davis'), (0.05999999999998806, 'Sean Davis'), (0.05999999999998806, 'Sean Davis'), (0.05999999999998806, 'Sean Davis'), (0.05999999999998806, 'Sean Davis'), (2.6899999999999977, 'Mike Hilton'), (2.6899999999999977, 'Mike Hilton'), (2.6899999999999977, 'Mike Hilton'), (2.6899999999999977, 'Mike Hilton'), (2.6899999999999977, 'Mike Hilton'), (2.6899999999999977, 'Mike Hilton'), (18.41000000000001, 'T.J. Watt'), (18.41000000000001, 'T.J. Watt'), (18.41000000000001, 'T.J. Watt'), (18.41000000000001, 'T.J. Watt'), (18.41000000000001, 'T.J. Watt'), (18.41000000000001, 'T.J. Watt'), (1.6500000000000057, 'Terrell Edmunds'), (1.6500000000000057, 'Terrell Edmunds'), (1.6500000000000057, 'Terrell Edmunds'), (1.6500000000000057, 'Terrell Edmunds'), (1.6500000000000057, 'Terrell Edmunds'), (1.6500000000000057, 'Terrell Edmunds')]\n",
      "[(29.290000000000006, 'Jamie Collins'), (29.290000000000006, 'Jamie Collins'), (29.290000000000006, 'Jamie Collins'), (29.290000000000006, 'Jamie Collins'), (29.290000000000006, 'Jamie Collins'), (26.25, 'Christian Kirksey'), (26.25, 'Christian Kirksey'), (26.25, 'Christian Kirksey'), (26.25, 'Christian Kirksey'), (26.25, 'Christian Kirksey'), (0.8200000000000003, 'Damarious Randall'), (0.8200000000000003, 'Damarious Randall'), (0.8200000000000003, 'Damarious Randall'), (0.8200000000000003, 'Damarious Randall'), (0.8200000000000003, 'Damarious Randall'), (22.950000000000003, 'Joe Schobert'), (22.950000000000003, 'Joe Schobert'), (22.950000000000003, 'Joe Schobert'), (22.950000000000003, 'Joe Schobert'), (22.950000000000003, 'Joe Schobert'), (33.989999999999995, 'Derrick Kindred'), (33.989999999999995, 'Derrick Kindred'), (33.989999999999995, 'Derrick Kindred'), (33.989999999999995, 'Derrick Kindred'), (33.989999999999995, 'Derrick Kindred'), (10.61, 'Jabrill Peppers'), (10.61, 'Jabrill Peppers'), (10.61, 'Jabrill Peppers'), (10.61, 'Jabrill Peppers'), (10.61, 'Jabrill Peppers'), (8.5, 'Denzel Ward'), (8.5, 'Denzel Ward'), (8.5, 'Denzel Ward'), (8.5, 'Denzel Ward'), (8.5, 'Denzel Ward')]\n",
      "[(28.66000000000001, 'Patrick Chung'), (28.66000000000001, 'Patrick Chung'), (28.66000000000001, 'Patrick Chung'), (28.66000000000001, 'Patrick Chung'), (25.53, 'Devin McCourty'), (25.53, 'Devin McCourty'), (25.53, 'Devin McCourty'), (25.53, 'Devin McCourty'), (23.450000000000003, \"Dont'a Hightower\"), (23.450000000000003, \"Dont'a Hightower\"), (23.450000000000003, \"Dont'a Hightower\"), (23.450000000000003, \"Dont'a Hightower\"), (0.45000000000000284, 'Stephon Gilmore'), (0.45000000000000284, 'Stephon Gilmore'), (0.45000000000000284, 'Stephon Gilmore'), (0.45000000000000284, 'Stephon Gilmore'), (19.0, 'Duron Harmon'), (19.0, 'Duron Harmon'), (19.0, 'Duron Harmon'), (19.0, 'Duron Harmon'), (56.74000000000001, 'Kyle Van Noy'), (56.74000000000001, 'Kyle Van Noy'), (56.74000000000001, 'Kyle Van Noy'), (56.74000000000001, 'Kyle Van Noy'), (0.6800000000000068, 'Eric Rowe'), (0.6800000000000068, 'Eric Rowe'), (0.6800000000000068, 'Eric Rowe'), (0.6800000000000068, 'Eric Rowe'), (49.38000000000001, \"Ja'Whaun Bentley\"), (49.38000000000001, \"Ja'Whaun Bentley\"), (49.38000000000001, \"Ja'Whaun Bentley\"), (49.38000000000001, \"Ja'Whaun Bentley\")]\n",
      "[(4.93, 'Brandon Carr'), (4.93, 'Brandon Carr'), (4.93, 'Brandon Carr'), (4.93, 'Brandon Carr'), (7.699999999999996, 'Eric Weddle'), (7.699999999999996, 'Eric Weddle'), (7.699999999999996, 'Eric Weddle'), (7.699999999999996, 'Eric Weddle'), (25.369999999999997, 'Terrell Suggs'), (25.369999999999997, 'Terrell Suggs'), (25.369999999999997, 'Terrell Suggs'), (25.369999999999997, 'Terrell Suggs'), (0.25, 'Tony Jefferson'), (0.25, 'Tony Jefferson'), (0.25, 'Tony Jefferson'), (0.25, 'Tony Jefferson'), (18.5, 'C.J. Mosley'), (18.5, 'C.J. Mosley'), (18.5, 'C.J. Mosley'), (18.5, 'C.J. Mosley'), (19.83, \"Za'Darius Smith\"), (19.83, \"Za'Darius Smith\"), (19.83, \"Za'Darius Smith\"), (19.83, \"Za'Darius Smith\"), (26.549999999999997, 'Tavon Young'), (26.549999999999997, 'Tavon Young'), (26.549999999999997, 'Tavon Young'), (26.549999999999997, 'Tavon Young'), (21.389999999999997, 'Matt Judon'), (21.389999999999997, 'Matt Judon'), (21.389999999999997, 'Matt Judon'), (21.389999999999997, 'Matt Judon'), (18.779999999999994, 'Tim Williams'), (18.779999999999994, 'Tim Williams'), (18.779999999999994, 'Tim Williams'), (18.779999999999994, 'Tim Williams'), (6.859999999999999, 'Marlon Humphrey'), (6.859999999999999, 'Marlon Humphrey'), (6.859999999999999, 'Marlon Humphrey'), (6.859999999999999, 'Marlon Humphrey'), (21.409999999999997, 'Tyus Bowser'), (21.409999999999997, 'Tyus Bowser'), (21.409999999999997, 'Tyus Bowser'), (21.409999999999997, 'Tyus Bowser')]\n",
      "[(13.489999999999995, 'Brandon Carr'), (13.489999999999995, 'Brandon Carr'), (13.489999999999995, 'Brandon Carr'), (13.489999999999995, 'Brandon Carr'), (13.489999999999995, 'Brandon Carr'), (13.489999999999995, 'Brandon Carr'), (13.489999999999995, 'Brandon Carr'), (7.829999999999998, 'Eric Weddle'), (7.829999999999998, 'Eric Weddle'), (7.829999999999998, 'Eric Weddle'), (7.829999999999998, 'Eric Weddle'), (7.829999999999998, 'Eric Weddle'), (7.829999999999998, 'Eric Weddle'), (7.829999999999998, 'Eric Weddle'), (0.2600000000000051, 'Terrell Suggs'), (0.2600000000000051, 'Terrell Suggs'), (0.2600000000000051, 'Terrell Suggs'), (0.2600000000000051, 'Terrell Suggs'), (0.2600000000000051, 'Terrell Suggs'), (0.2600000000000051, 'Terrell Suggs'), (0.2600000000000051, 'Terrell Suggs'), (22.17, 'Tony Jefferson'), (22.17, 'Tony Jefferson'), (22.17, 'Tony Jefferson'), (22.17, 'Tony Jefferson'), (22.17, 'Tony Jefferson'), (22.17, 'Tony Jefferson'), (22.17, 'Tony Jefferson'), (5.729999999999997, 'C.J. Mosley'), (5.729999999999997, 'C.J. Mosley'), (5.729999999999997, 'C.J. Mosley'), (5.729999999999997, 'C.J. Mosley'), (5.729999999999997, 'C.J. Mosley'), (5.729999999999997, 'C.J. Mosley'), (5.729999999999997, 'C.J. Mosley'), (0.7600000000000051, 'Tavon Young'), (0.7600000000000051, 'Tavon Young'), (0.7600000000000051, 'Tavon Young'), (0.7600000000000051, 'Tavon Young'), (0.7600000000000051, 'Tavon Young'), (0.7600000000000051, 'Tavon Young'), (0.7600000000000051, 'Tavon Young'), (4.3899999999999935, 'Matt Judon'), (4.3899999999999935, 'Matt Judon'), (4.3899999999999935, 'Matt Judon'), (4.3899999999999935, 'Matt Judon'), (4.3899999999999935, 'Matt Judon'), (4.3899999999999935, 'Matt Judon'), (4.3899999999999935, 'Matt Judon'), (11.309999999999995, 'Marlon Humphrey'), (11.309999999999995, 'Marlon Humphrey'), (11.309999999999995, 'Marlon Humphrey'), (11.309999999999995, 'Marlon Humphrey'), (11.309999999999995, 'Marlon Humphrey'), (11.309999999999995, 'Marlon Humphrey'), (11.309999999999995, 'Marlon Humphrey'), (0.259999999999998, 'Jamie Collins'), (0.259999999999998, 'Jamie Collins'), (0.259999999999998, 'Jamie Collins'), (0.259999999999998, 'Jamie Collins'), (0.259999999999998, 'Jamie Collins'), (0.259999999999998, 'Jamie Collins'), (0.259999999999998, 'Jamie Collins'), (2.0700000000000003, 'Terrance Mitchell'), (2.0700000000000003, 'Terrance Mitchell'), (2.0700000000000003, 'Terrance Mitchell'), (2.0700000000000003, 'Terrance Mitchell'), (2.0700000000000003, 'Terrance Mitchell'), (2.0700000000000003, 'Terrance Mitchell'), (2.0700000000000003, 'Terrance Mitchell'), (1.5300000000000011, 'Christian Kirksey'), (1.5300000000000011, 'Christian Kirksey'), (1.5300000000000011, 'Christian Kirksey'), (1.5300000000000011, 'Christian Kirksey'), (1.5300000000000011, 'Christian Kirksey'), (1.5300000000000011, 'Christian Kirksey'), (1.5300000000000011, 'Christian Kirksey'), (15.820000000000004, 'Damarious Randall'), (15.820000000000004, 'Damarious Randall'), (15.820000000000004, 'Damarious Randall'), (15.820000000000004, 'Damarious Randall'), (15.820000000000004, 'Damarious Randall'), (15.820000000000004, 'Damarious Randall'), (15.820000000000004, 'Damarious Randall'), (2.5600000000000023, 'Joe Schobert'), (2.5600000000000023, 'Joe Schobert'), (2.5600000000000023, 'Joe Schobert'), (2.5600000000000023, 'Joe Schobert'), (2.5600000000000023, 'Joe Schobert'), (2.5600000000000023, 'Joe Schobert'), (2.5600000000000023, 'Joe Schobert'), (14.330000000000002, 'Briean Boddy-Calhoun'), (14.330000000000002, 'Briean Boddy-Calhoun'), (14.330000000000002, 'Briean Boddy-Calhoun'), (14.330000000000002, 'Briean Boddy-Calhoun'), (14.330000000000002, 'Briean Boddy-Calhoun'), (14.330000000000002, 'Briean Boddy-Calhoun'), (14.330000000000002, 'Briean Boddy-Calhoun'), (3.5400000000000063, 'Denzel Ward'), (3.5400000000000063, 'Denzel Ward'), (3.5400000000000063, 'Denzel Ward'), (3.5400000000000063, 'Denzel Ward'), (3.5400000000000063, 'Denzel Ward'), (3.5400000000000063, 'Denzel Ward'), (3.5400000000000063, 'Denzel Ward'), (31.870000000000005, 'Buster Skrine'), (31.870000000000005, 'Buster Skrine'), (31.870000000000005, 'Buster Skrine'), (31.870000000000005, 'Buster Skrine'), (31.870000000000005, 'Buster Skrine'), (31.870000000000005, 'Buster Skrine'), (31.870000000000005, 'Buster Skrine'), (33.540000000000006, 'Trumaine Johnson'), (33.540000000000006, 'Trumaine Johnson'), (33.540000000000006, 'Trumaine Johnson'), (33.540000000000006, 'Trumaine Johnson'), (33.540000000000006, 'Trumaine Johnson'), (33.540000000000006, 'Trumaine Johnson'), (33.540000000000006, 'Trumaine Johnson'), (33.7, 'Morris Claiborne'), (33.7, 'Morris Claiborne'), (33.7, 'Morris Claiborne'), (33.7, 'Morris Claiborne'), (33.7, 'Morris Claiborne'), (33.7, 'Morris Claiborne'), (33.7, 'Morris Claiborne'), (38.620000000000005, 'Avery Williamson'), (38.620000000000005, 'Avery Williamson'), (38.620000000000005, 'Avery Williamson'), (38.620000000000005, 'Avery Williamson'), (38.620000000000005, 'Avery Williamson'), (38.620000000000005, 'Avery Williamson'), (38.620000000000005, 'Avery Williamson'), (32.28, 'Darron Lee'), (32.28, 'Darron Lee'), (32.28, 'Darron Lee'), (32.28, 'Darron Lee'), (32.28, 'Darron Lee'), (32.28, 'Darron Lee'), (32.28, 'Darron Lee'), (39.480000000000004, 'Doug Middleton'), (39.480000000000004, 'Doug Middleton'), (39.480000000000004, 'Doug Middleton'), (39.480000000000004, 'Doug Middleton'), (39.480000000000004, 'Doug Middleton'), (39.480000000000004, 'Doug Middleton'), (39.480000000000004, 'Doug Middleton'), (40.040000000000006, 'Jamal Adams'), (40.040000000000006, 'Jamal Adams'), (40.040000000000006, 'Jamal Adams'), (40.040000000000006, 'Jamal Adams'), (40.040000000000006, 'Jamal Adams'), (40.040000000000006, 'Jamal Adams'), (40.040000000000006, 'Jamal Adams'), (23.440000000000005, 'Frankie Luvu'), (23.440000000000005, 'Frankie Luvu'), (23.440000000000005, 'Frankie Luvu'), (23.440000000000005, 'Frankie Luvu'), (23.440000000000005, 'Frankie Luvu'), (23.440000000000005, 'Frankie Luvu'), (23.440000000000005, 'Frankie Luvu')]\n",
      "[(0.0, 'Brandon Carr'), (0.0, 'Brandon Carr'), (0.0, 'Brandon Carr'), (0.0, 'Brandon Carr'), (0.0, 'Brandon Carr'), (0.0, 'Brandon Carr'), (0.0, 'Brandon Carr'), (16.880000000000003, 'Eric Weddle'), (16.880000000000003, 'Eric Weddle'), (16.880000000000003, 'Eric Weddle'), (16.880000000000003, 'Eric Weddle'), (16.880000000000003, 'Eric Weddle'), (16.880000000000003, 'Eric Weddle'), (16.880000000000003, 'Eric Weddle'), (19.71, 'Terrell Suggs'), (19.71, 'Terrell Suggs'), (19.71, 'Terrell Suggs'), (19.71, 'Terrell Suggs'), (19.71, 'Terrell Suggs'), (19.71, 'Terrell Suggs'), (19.71, 'Terrell Suggs'), (3.25, 'Anthony Levine'), (3.25, 'Anthony Levine'), (3.25, 'Anthony Levine'), (3.25, 'Anthony Levine'), (3.25, 'Anthony Levine'), (3.25, 'Anthony Levine'), (3.25, 'Anthony Levine'), (9.509999999999998, 'Tony Jefferson'), (9.509999999999998, 'Tony Jefferson'), (9.509999999999998, 'Tony Jefferson'), (9.509999999999998, 'Tony Jefferson'), (9.509999999999998, 'Tony Jefferson'), (9.509999999999998, 'Tony Jefferson'), (9.509999999999998, 'Tony Jefferson'), (1.8900000000000006, 'C.J. Mosley'), (1.8900000000000006, 'C.J. Mosley'), (1.8900000000000006, 'C.J. Mosley'), (1.8900000000000006, 'C.J. Mosley'), (1.8900000000000006, 'C.J. Mosley'), (1.8900000000000006, 'C.J. Mosley'), (1.8900000000000006, 'C.J. Mosley'), (6.560000000000002, \"Za'Darius Smith\"), (6.560000000000002, \"Za'Darius Smith\"), (6.560000000000002, \"Za'Darius Smith\"), (6.560000000000002, \"Za'Darius Smith\"), (6.560000000000002, \"Za'Darius Smith\"), (6.560000000000002, \"Za'Darius Smith\"), (6.560000000000002, \"Za'Darius Smith\"), (14.969999999999999, 'Tavon Young'), (14.969999999999999, 'Tavon Young'), (14.969999999999999, 'Tavon Young'), (14.969999999999999, 'Tavon Young'), (14.969999999999999, 'Tavon Young'), (14.969999999999999, 'Tavon Young'), (14.969999999999999, 'Tavon Young'), (2.269999999999996, 'Matt Judon'), (2.269999999999996, 'Matt Judon'), (2.269999999999996, 'Matt Judon'), (2.269999999999996, 'Matt Judon'), (2.269999999999996, 'Matt Judon'), (2.269999999999996, 'Matt Judon'), (2.269999999999996, 'Matt Judon'), (5.219999999999999, 'Marlon Humphrey'), (5.219999999999999, 'Marlon Humphrey'), (5.219999999999999, 'Marlon Humphrey'), (5.219999999999999, 'Marlon Humphrey'), (5.219999999999999, 'Marlon Humphrey'), (5.219999999999999, 'Marlon Humphrey'), (5.219999999999999, 'Marlon Humphrey'), (1.240000000000002, 'Reshad Jones'), (1.240000000000002, 'Reshad Jones'), (1.240000000000002, 'Reshad Jones'), (1.240000000000002, 'Reshad Jones'), (1.240000000000002, 'Reshad Jones'), (1.240000000000002, 'Reshad Jones'), (1.240000000000002, 'Reshad Jones'), (12.060000000000002, 'T.J. McDonald'), (12.060000000000002, 'T.J. McDonald'), (12.060000000000002, 'T.J. McDonald'), (12.060000000000002, 'T.J. McDonald'), (12.060000000000002, 'T.J. McDonald'), (12.060000000000002, 'T.J. McDonald'), (12.060000000000002, 'T.J. McDonald'), (1.4399999999999977, 'Kiko Alonso'), (1.4399999999999977, 'Kiko Alonso'), (1.4399999999999977, 'Kiko Alonso'), (1.4399999999999977, 'Kiko Alonso'), (1.4399999999999977, 'Kiko Alonso'), (1.4399999999999977, 'Kiko Alonso'), (1.4399999999999977, 'Kiko Alonso'), (9.719999999999999, 'Bobby McCain'), (9.719999999999999, 'Bobby McCain'), (9.719999999999999, 'Bobby McCain'), (9.719999999999999, 'Bobby McCain'), (9.719999999999999, 'Bobby McCain'), (9.719999999999999, 'Bobby McCain'), (9.719999999999999, 'Bobby McCain'), (0.4200000000000017, 'Xavien Howard'), (0.4200000000000017, 'Xavien Howard'), (0.4200000000000017, 'Xavien Howard'), (0.4200000000000017, 'Xavien Howard'), (0.4200000000000017, 'Xavien Howard'), (0.4200000000000017, 'Xavien Howard'), (0.4200000000000017, 'Xavien Howard'), (3.9499999999999957, 'Raekwon McMillan'), (3.9499999999999957, 'Raekwon McMillan'), (3.9499999999999957, 'Raekwon McMillan'), (3.9499999999999957, 'Raekwon McMillan'), (3.9499999999999957, 'Raekwon McMillan'), (3.9499999999999957, 'Raekwon McMillan'), (3.9499999999999957, 'Raekwon McMillan'), (3.469999999999999, 'Minkah Fitzpatrick'), (3.469999999999999, 'Minkah Fitzpatrick'), (3.469999999999999, 'Minkah Fitzpatrick'), (3.469999999999999, 'Minkah Fitzpatrick'), (3.469999999999999, 'Minkah Fitzpatrick'), (3.469999999999999, 'Minkah Fitzpatrick'), (3.469999999999999, 'Minkah Fitzpatrick'), (33.10999999999999, 'Sherrick McManis'), (33.10999999999999, 'Sherrick McManis'), (33.10999999999999, 'Sherrick McManis'), (33.10999999999999, 'Sherrick McManis'), (33.10999999999999, 'Sherrick McManis'), (33.10999999999999, 'Sherrick McManis'), (18.33, 'Prince Amukamara'), (18.33, 'Prince Amukamara'), (18.33, 'Prince Amukamara'), (18.33, 'Prince Amukamara'), (18.33, 'Prince Amukamara'), (18.33, 'Prince Amukamara'), (21.990000000000002, 'Kyle Fuller'), (21.990000000000002, 'Kyle Fuller'), (21.990000000000002, 'Kyle Fuller'), (21.990000000000002, 'Kyle Fuller'), (21.990000000000002, 'Kyle Fuller'), (21.990000000000002, 'Kyle Fuller'), (12.059999999999995, 'Adrian Amos'), (12.059999999999995, 'Adrian Amos'), (12.059999999999995, 'Adrian Amos'), (12.059999999999995, 'Adrian Amos'), (12.059999999999995, 'Adrian Amos'), (12.059999999999995, 'Adrian Amos'), (26.589999999999996, 'Bryce Callahan'), (26.589999999999996, 'Bryce Callahan'), (26.589999999999996, 'Bryce Callahan'), (26.589999999999996, 'Bryce Callahan'), (26.589999999999996, 'Bryce Callahan'), (26.589999999999996, 'Bryce Callahan'), (47.13, 'Leonard Floyd'), (47.13, 'Leonard Floyd'), (47.13, 'Leonard Floyd'), (47.13, 'Leonard Floyd'), (47.13, 'Leonard Floyd'), (47.13, 'Leonard Floyd'), (25.770000000000003, 'Nick Kwiatkoski'), (25.770000000000003, 'Nick Kwiatkoski'), (25.770000000000003, 'Nick Kwiatkoski'), (25.770000000000003, 'Nick Kwiatkoski'), (25.770000000000003, 'Nick Kwiatkoski'), (25.770000000000003, 'Nick Kwiatkoski'), (21.29, 'Eddie Jackson'), (21.29, 'Eddie Jackson'), (21.29, 'Eddie Jackson'), (21.29, 'Eddie Jackson'), (21.29, 'Eddie Jackson'), (21.29, 'Eddie Jackson'), (29.410000000000004, 'Roquan Smith'), (29.410000000000004, 'Roquan Smith'), (29.410000000000004, 'Roquan Smith'), (29.410000000000004, 'Roquan Smith'), (29.410000000000004, 'Roquan Smith'), (29.410000000000004, 'Roquan Smith')]\n",
      "[(12.100000000000009, 'Barry Church'), (12.100000000000009, 'Barry Church'), (12.100000000000009, 'Barry Church'), (12.100000000000009, 'Barry Church'), (12.100000000000009, 'Barry Church'), (12.100000000000009, 'Barry Church'), (12.100000000000009, 'Barry Church'), (1.440000000000012, 'Tashaun Gipson'), (1.440000000000012, 'Tashaun Gipson'), (1.440000000000012, 'Tashaun Gipson'), (1.440000000000012, 'Tashaun Gipson'), (1.440000000000012, 'Tashaun Gipson'), (1.440000000000012, 'Tashaun Gipson'), (1.440000000000012, 'Tashaun Gipson'), (7.680000000000007, 'D.J. Hayden'), (7.680000000000007, 'D.J. Hayden'), (7.680000000000007, 'D.J. Hayden'), (7.680000000000007, 'D.J. Hayden'), (7.680000000000007, 'D.J. Hayden'), (7.680000000000007, 'D.J. Hayden'), (7.680000000000007, 'D.J. Hayden'), (5.77000000000001, 'A.J. Bouye'), (5.77000000000001, 'A.J. Bouye'), (5.77000000000001, 'A.J. Bouye'), (5.77000000000001, 'A.J. Bouye'), (5.77000000000001, 'A.J. Bouye'), (5.77000000000001, 'A.J. Bouye'), (5.77000000000001, 'A.J. Bouye'), (4.670000000000002, 'Telvin Smith'), (4.670000000000002, 'Telvin Smith'), (4.670000000000002, 'Telvin Smith'), (4.670000000000002, 'Telvin Smith'), (4.670000000000002, 'Telvin Smith'), (4.670000000000002, 'Telvin Smith'), (4.670000000000002, 'Telvin Smith'), (20.10000000000001, 'Jalen Ramsey'), (20.10000000000001, 'Jalen Ramsey'), (20.10000000000001, 'Jalen Ramsey'), (20.10000000000001, 'Jalen Ramsey'), (20.10000000000001, 'Jalen Ramsey'), (20.10000000000001, 'Jalen Ramsey'), (20.10000000000001, 'Jalen Ramsey'), (1.0100000000000051, 'Myles Jack'), (1.0100000000000051, 'Myles Jack'), (1.0100000000000051, 'Myles Jack'), (1.0100000000000051, 'Myles Jack'), (1.0100000000000051, 'Myles Jack'), (1.0100000000000051, 'Myles Jack'), (1.0100000000000051, 'Myles Jack')]\n",
      "[(10.0, 'Morgan Burnett'), (10.0, 'Morgan Burnett'), (39.83, 'Vince Williams'), (39.83, 'Vince Williams'), (34.48, 'Bud Dupree'), (34.48, 'Bud Dupree'), (9.409999999999997, 'Artie Burns'), (9.409999999999997, 'Artie Burns'), (2.519999999999996, 'Sean Davis'), (2.519999999999996, 'Sean Davis'), (5.97999999999999, 'Mike Hilton'), (5.97999999999999, 'Mike Hilton'), (15.739999999999995, 'T.J. Watt'), (15.739999999999995, 'T.J. Watt'), (0.3500000000000085, 'Cameron Sutton'), (0.3500000000000085, 'Cameron Sutton'), (4.8799999999999955, 'Terrell Edmunds'), (4.8799999999999955, 'Terrell Edmunds')]\n",
      "[(0.5100000000000051, 'Reshad Jones'), (0.5100000000000051, 'Reshad Jones'), (0.5100000000000051, 'Reshad Jones'), (0.5100000000000051, 'Reshad Jones'), (0.5100000000000051, 'Reshad Jones'), (16.869999999999997, 'T.J. McDonald'), (16.869999999999997, 'T.J. McDonald'), (16.869999999999997, 'T.J. McDonald'), (16.869999999999997, 'T.J. McDonald'), (16.869999999999997, 'T.J. McDonald'), (11.229999999999997, 'Kiko Alonso'), (11.229999999999997, 'Kiko Alonso'), (11.229999999999997, 'Kiko Alonso'), (11.229999999999997, 'Kiko Alonso'), (11.229999999999997, 'Kiko Alonso'), (9.430000000000007, 'Bobby McCain'), (9.430000000000007, 'Bobby McCain'), (9.430000000000007, 'Bobby McCain'), (9.430000000000007, 'Bobby McCain'), (9.430000000000007, 'Bobby McCain'), (4.969999999999999, 'Xavien Howard'), (4.969999999999999, 'Xavien Howard'), (4.969999999999999, 'Xavien Howard'), (4.969999999999999, 'Xavien Howard'), (4.969999999999999, 'Xavien Howard'), (9.409999999999997, 'Raekwon McMillan'), (9.409999999999997, 'Raekwon McMillan'), (9.409999999999997, 'Raekwon McMillan'), (9.409999999999997, 'Raekwon McMillan'), (9.409999999999997, 'Raekwon McMillan'), (10.880000000000003, 'Jerome Baker'), (10.880000000000003, 'Jerome Baker'), (10.880000000000003, 'Jerome Baker'), (10.880000000000003, 'Jerome Baker'), (10.880000000000003, 'Jerome Baker')]\n",
      "[(19.97, 'Terrance Mitchell'), (5.680000000000007, 'Christian Kirksey'), (27.659999999999997, 'T.J. Carrie'), (0.46999999999999886, 'Joe Schobert'), (3.049999999999997, 'Derrick Kindred'), (12.479999999999997, 'Briean Boddy-Calhoun'), (28.71, 'Denzel Ward'), (4.519999999999996, 'Genard Avery'), (38.19, 'Aqib Talib'), (38.19, 'Aqib Talib'), (38.19, 'Aqib Talib'), (38.19, 'Aqib Talib'), (38.19, 'Aqib Talib'), (28.130000000000003, 'Nickell Robey-Coleman'), (28.130000000000003, 'Nickell Robey-Coleman'), (28.130000000000003, 'Nickell Robey-Coleman'), (28.130000000000003, 'Nickell Robey-Coleman'), (28.130000000000003, 'Nickell Robey-Coleman'), (44.349999999999994, 'Lamarcus Joyner'), (44.349999999999994, 'Lamarcus Joyner'), (44.349999999999994, 'Lamarcus Joyner'), (44.349999999999994, 'Lamarcus Joyner'), (44.349999999999994, 'Lamarcus Joyner'), (30.29, 'Marcus Peters'), (30.29, 'Marcus Peters'), (30.29, 'Marcus Peters'), (30.29, 'Marcus Peters'), (30.29, 'Marcus Peters'), (23.740000000000002, 'Marqui Christian'), (23.740000000000002, 'Marqui Christian'), (23.740000000000002, 'Marqui Christian'), (23.740000000000002, 'Marqui Christian'), (23.740000000000002, 'Marqui Christian'), (27.200000000000003, 'Cory Littleton'), (27.200000000000003, 'Cory Littleton'), (27.200000000000003, 'Cory Littleton'), (27.200000000000003, 'Cory Littleton'), (27.200000000000003, 'Cory Littleton'), (29.35, 'John Johnson'), (29.35, 'John Johnson'), (29.35, 'John Johnson'), (29.35, 'John Johnson'), (29.35, 'John Johnson'), (17.769999999999996, 'Samson Ebukam'), (17.769999999999996, 'Samson Ebukam'), (17.769999999999996, 'Samson Ebukam'), (17.769999999999996, 'Samson Ebukam'), (17.769999999999996, 'Samson Ebukam')]\n",
      "[(3.529999999999987, 'Sean Lee'), (3.529999999999987, 'Sean Lee'), (3.529999999999987, 'Sean Lee'), (3.529999999999987, 'Sean Lee'), (3.529999999999987, 'Sean Lee'), (3.529999999999987, 'Sean Lee'), (3.529999999999987, 'Sean Lee'), (18.72, 'Jeff Heath'), (18.72, 'Jeff Heath'), (18.72, 'Jeff Heath'), (18.72, 'Jeff Heath'), (18.72, 'Jeff Heath'), (18.72, 'Jeff Heath'), (18.72, 'Jeff Heath'), (13.58999999999999, 'Byron Jones'), (13.58999999999999, 'Byron Jones'), (13.58999999999999, 'Byron Jones'), (13.58999999999999, 'Byron Jones'), (13.58999999999999, 'Byron Jones'), (13.58999999999999, 'Byron Jones'), (13.58999999999999, 'Byron Jones'), (4.159999999999997, 'Anthony Brown'), (4.159999999999997, 'Anthony Brown'), (4.159999999999997, 'Anthony Brown'), (4.159999999999997, 'Anthony Brown'), (4.159999999999997, 'Anthony Brown'), (4.159999999999997, 'Anthony Brown'), (4.159999999999997, 'Anthony Brown'), (7.449999999999989, 'Kavon Frazier'), (7.449999999999989, 'Kavon Frazier'), (7.449999999999989, 'Kavon Frazier'), (7.449999999999989, 'Kavon Frazier'), (7.449999999999989, 'Kavon Frazier'), (7.449999999999989, 'Kavon Frazier'), (7.449999999999989, 'Kavon Frazier'), (13.289999999999992, 'Chidobe Awuzie'), (13.289999999999992, 'Chidobe Awuzie'), (13.289999999999992, 'Chidobe Awuzie'), (13.289999999999992, 'Chidobe Awuzie'), (13.289999999999992, 'Chidobe Awuzie'), (13.289999999999992, 'Chidobe Awuzie'), (13.289999999999992, 'Chidobe Awuzie'), (4.529999999999987, 'Leighton Vander Esch'), (4.529999999999987, 'Leighton Vander Esch'), (4.529999999999987, 'Leighton Vander Esch'), (4.529999999999987, 'Leighton Vander Esch'), (4.529999999999987, 'Leighton Vander Esch'), (4.529999999999987, 'Leighton Vander Esch'), (4.529999999999987, 'Leighton Vander Esch')]\n",
      "[(7.020000000000003, 'Reshad Jones'), (7.020000000000003, 'Reshad Jones'), (7.020000000000003, 'Reshad Jones'), (7.020000000000003, 'Reshad Jones'), (16.6, 'T.J. McDonald'), (16.6, 'T.J. McDonald'), (16.6, 'T.J. McDonald'), (16.6, 'T.J. McDonald'), (0.46000000000000085, 'Kiko Alonso'), (0.46000000000000085, 'Kiko Alonso'), (0.46000000000000085, 'Kiko Alonso'), (0.46000000000000085, 'Kiko Alonso'), (20.21, 'Bobby McCain'), (20.21, 'Bobby McCain'), (20.21, 'Bobby McCain'), (20.21, 'Bobby McCain'), (10.43, 'Xavien Howard'), (10.43, 'Xavien Howard'), (10.43, 'Xavien Howard'), (10.43, 'Xavien Howard'), (7.07, 'Raekwon McMillan'), (7.07, 'Raekwon McMillan'), (7.07, 'Raekwon McMillan'), (7.07, 'Raekwon McMillan'), (9.480000000000004, 'Minkah Fitzpatrick'), (9.480000000000004, 'Minkah Fitzpatrick'), (9.480000000000004, 'Minkah Fitzpatrick'), (9.480000000000004, 'Minkah Fitzpatrick')]\n",
      "[(14.229999999999997, 'Wesley Woodyard'), (14.229999999999997, 'Wesley Woodyard'), (14.229999999999997, 'Wesley Woodyard'), (14.229999999999997, 'Wesley Woodyard'), (14.229999999999997, 'Wesley Woodyard'), (39.029999999999994, 'Brian Orakpo'), (39.029999999999994, 'Brian Orakpo'), (39.029999999999994, 'Brian Orakpo'), (39.029999999999994, 'Brian Orakpo'), (39.029999999999994, 'Brian Orakpo'), (35.36999999999999, 'Derrick Morgan'), (35.36999999999999, 'Derrick Morgan'), (35.36999999999999, 'Derrick Morgan'), (35.36999999999999, 'Derrick Morgan'), (35.36999999999999, 'Derrick Morgan'), (0.3199999999999932, 'Kenny Vaccaro'), (0.3199999999999932, 'Kenny Vaccaro'), (0.3199999999999932, 'Kenny Vaccaro'), (0.3199999999999932, 'Kenny Vaccaro'), (0.3199999999999932, 'Kenny Vaccaro'), (26.379999999999995, 'Logan Ryan'), (26.379999999999995, 'Logan Ryan'), (26.379999999999995, 'Logan Ryan'), (26.379999999999995, 'Logan Ryan'), (26.379999999999995, 'Logan Ryan'), (0.6200000000000045, 'Malcolm Butler'), (0.6200000000000045, 'Malcolm Butler'), (0.6200000000000045, 'Malcolm Butler'), (0.6200000000000045, 'Malcolm Butler'), (0.6200000000000045, 'Malcolm Butler'), (39.63999999999999, 'Kevin Byard'), (39.63999999999999, 'Kevin Byard'), (39.63999999999999, 'Kevin Byard'), (39.63999999999999, 'Kevin Byard'), (39.63999999999999, 'Kevin Byard'), (43.38999999999999, 'Aaron Wallace'), (43.38999999999999, 'Aaron Wallace'), (43.38999999999999, 'Aaron Wallace'), (43.38999999999999, 'Aaron Wallace'), (43.38999999999999, 'Aaron Wallace'), (34.00999999999999, 'Jayon Brown'), (34.00999999999999, 'Jayon Brown'), (34.00999999999999, 'Jayon Brown'), (34.00999999999999, 'Jayon Brown'), (34.00999999999999, 'Jayon Brown'), (35.349999999999994, \"Adoree' Jackson\"), (35.349999999999994, \"Adoree' Jackson\"), (35.349999999999994, \"Adoree' Jackson\"), (35.349999999999994, \"Adoree' Jackson\"), (35.349999999999994, \"Adoree' Jackson\")]\n",
      "[(19.720000000000006, 'Glover Quin'), (19.720000000000006, 'Glover Quin'), (19.720000000000006, 'Glover Quin'), (19.720000000000006, 'Glover Quin'), (19.720000000000006, 'Glover Quin'), (19.720000000000006, 'Glover Quin'), (19.720000000000006, 'Glover Quin'), (19.720000000000006, 'Glover Quin'), (19.720000000000006, 'Glover Quin'), (19.720000000000006, 'Glover Quin'), (19.720000000000006, 'Glover Quin'), (2.25, 'Tavon Wilson'), (2.25, 'Tavon Wilson'), (2.25, 'Tavon Wilson'), (2.25, 'Tavon Wilson'), (2.25, 'Tavon Wilson'), (2.25, 'Tavon Wilson'), (2.25, 'Tavon Wilson'), (2.25, 'Tavon Wilson'), (2.25, 'Tavon Wilson'), (2.25, 'Tavon Wilson'), (2.25, 'Tavon Wilson'), (17.590000000000003, 'Darius Slay'), (17.590000000000003, 'Darius Slay'), (17.590000000000003, 'Darius Slay'), (17.590000000000003, 'Darius Slay'), (17.590000000000003, 'Darius Slay'), (17.590000000000003, 'Darius Slay'), (17.590000000000003, 'Darius Slay'), (17.590000000000003, 'Darius Slay'), (17.590000000000003, 'Darius Slay'), (17.590000000000003, 'Darius Slay'), (17.590000000000003, 'Darius Slay'), (10.899999999999991, 'Devon Kennard'), (10.899999999999991, 'Devon Kennard'), (10.899999999999991, 'Devon Kennard'), (10.899999999999991, 'Devon Kennard'), (10.899999999999991, 'Devon Kennard'), (10.899999999999991, 'Devon Kennard'), (10.899999999999991, 'Devon Kennard'), (10.899999999999991, 'Devon Kennard'), (10.899999999999991, 'Devon Kennard'), (10.899999999999991, 'Devon Kennard'), (10.899999999999991, 'Devon Kennard'), (18.460000000000008, 'Nevin Lawson'), (18.460000000000008, 'Nevin Lawson'), (18.460000000000008, 'Nevin Lawson'), (18.460000000000008, 'Nevin Lawson'), (18.460000000000008, 'Nevin Lawson'), (18.460000000000008, 'Nevin Lawson'), (18.460000000000008, 'Nevin Lawson'), (18.460000000000008, 'Nevin Lawson'), (18.460000000000008, 'Nevin Lawson'), (18.460000000000008, 'Nevin Lawson'), (18.460000000000008, 'Nevin Lawson'), (7.349999999999994, 'Christian Jones'), (7.349999999999994, 'Christian Jones'), (7.349999999999994, 'Christian Jones'), (7.349999999999994, 'Christian Jones'), (7.349999999999994, 'Christian Jones'), (7.349999999999994, 'Christian Jones'), (7.349999999999994, 'Christian Jones'), (7.349999999999994, 'Christian Jones'), (7.349999999999994, 'Christian Jones'), (7.349999999999994, 'Christian Jones'), (7.349999999999994, 'Christian Jones'), (1.460000000000008, 'Quandre Diggs'), (1.460000000000008, 'Quandre Diggs'), (1.460000000000008, 'Quandre Diggs'), (1.460000000000008, 'Quandre Diggs'), (1.460000000000008, 'Quandre Diggs'), (1.460000000000008, 'Quandre Diggs'), (1.460000000000008, 'Quandre Diggs'), (1.460000000000008, 'Quandre Diggs'), (1.460000000000008, 'Quandre Diggs'), (1.460000000000008, 'Quandre Diggs'), (1.460000000000008, 'Quandre Diggs'), (4.6299999999999955, 'Jarrad Davis'), (4.6299999999999955, 'Jarrad Davis'), (4.6299999999999955, 'Jarrad Davis'), (4.6299999999999955, 'Jarrad Davis'), (4.6299999999999955, 'Jarrad Davis'), (4.6299999999999955, 'Jarrad Davis'), (4.6299999999999955, 'Jarrad Davis'), (4.6299999999999955, 'Jarrad Davis'), (4.6299999999999955, 'Jarrad Davis'), (4.6299999999999955, 'Jarrad Davis'), (4.6299999999999955, 'Jarrad Davis')]\n",
      "[(4.919999999999995, 'Buster Skrine'), (4.919999999999995, 'Buster Skrine'), (4.919999999999995, 'Buster Skrine'), (4.919999999999995, 'Buster Skrine'), (4.549999999999997, 'Trumaine Johnson'), (4.549999999999997, 'Trumaine Johnson'), (4.549999999999997, 'Trumaine Johnson'), (4.549999999999997, 'Trumaine Johnson'), (10.580000000000005, 'Morris Claiborne'), (10.580000000000005, 'Morris Claiborne'), (10.580000000000005, 'Morris Claiborne'), (10.580000000000005, 'Morris Claiborne'), (5.600000000000001, 'Avery Williamson'), (5.600000000000001, 'Avery Williamson'), (5.600000000000001, 'Avery Williamson'), (5.600000000000001, 'Avery Williamson'), (0.3500000000000014, 'Darron Lee'), (0.3500000000000014, 'Darron Lee'), (0.3500000000000014, 'Darron Lee'), (0.3500000000000014, 'Darron Lee'), (6.580000000000005, 'Doug Middleton'), (6.580000000000005, 'Doug Middleton'), (6.580000000000005, 'Doug Middleton'), (6.580000000000005, 'Doug Middleton'), (11.200000000000003, 'Jamal Adams'), (11.200000000000003, 'Jamal Adams'), (11.200000000000003, 'Jamal Adams'), (11.200000000000003, 'Jamal Adams'), (15.799999999999997, 'Frankie Luvu'), (15.799999999999997, 'Frankie Luvu'), (15.799999999999997, 'Frankie Luvu'), (15.799999999999997, 'Frankie Luvu'), (5.169999999999995, 'Aqib Talib'), (5.169999999999995, 'Aqib Talib'), (5.169999999999995, 'Aqib Talib'), (8.880000000000003, 'Nickell Robey-Coleman'), (8.880000000000003, 'Nickell Robey-Coleman'), (8.880000000000003, 'Nickell Robey-Coleman'), (22.190000000000005, 'Dominique Easley'), (22.190000000000005, 'Dominique Easley'), (22.190000000000005, 'Dominique Easley'), (3.710000000000001, 'Lamarcus Joyner'), (3.710000000000001, 'Lamarcus Joyner'), (3.710000000000001, 'Lamarcus Joyner'), (15.399999999999999, 'Marcus Peters'), (15.399999999999999, 'Marcus Peters'), (15.399999999999999, 'Marcus Peters'), (18.910000000000004, 'Matt Longacre'), (18.910000000000004, 'Matt Longacre'), (18.910000000000004, 'Matt Longacre'), (5.950000000000003, 'Marqui Christian'), (5.950000000000003, 'Marqui Christian'), (5.950000000000003, 'Marqui Christian'), (12.149999999999999, 'Cory Littleton'), (12.149999999999999, 'Cory Littleton'), (12.149999999999999, 'Cory Littleton'), (8.93, 'John Johnson'), (8.93, 'John Johnson'), (8.93, 'John Johnson')]\n",
      "[(0.860000000000003, 'Buster Skrine'), (0.860000000000003, 'Buster Skrine'), (0.860000000000003, 'Buster Skrine'), (0.860000000000003, 'Buster Skrine'), (0.860000000000003, 'Buster Skrine'), (8.36, 'Trumaine Johnson'), (8.36, 'Trumaine Johnson'), (8.36, 'Trumaine Johnson'), (8.36, 'Trumaine Johnson'), (8.36, 'Trumaine Johnson'), (5.960000000000001, 'Avery Williamson'), (5.960000000000001, 'Avery Williamson'), (5.960000000000001, 'Avery Williamson'), (5.960000000000001, 'Avery Williamson'), (5.960000000000001, 'Avery Williamson'), (9.030000000000001, 'Darryl Roberts'), (9.030000000000001, 'Darryl Roberts'), (9.030000000000001, 'Darryl Roberts'), (9.030000000000001, 'Darryl Roberts'), (9.030000000000001, 'Darryl Roberts'), (12.339999999999996, 'Darron Lee'), (12.339999999999996, 'Darron Lee'), (12.339999999999996, 'Darron Lee'), (12.339999999999996, 'Darron Lee'), (12.339999999999996, 'Darron Lee'), (9.510000000000002, 'Doug Middleton'), (9.510000000000002, 'Doug Middleton'), (9.510000000000002, 'Doug Middleton'), (9.510000000000002, 'Doug Middleton'), (9.510000000000002, 'Doug Middleton'), (0.17999999999999972, 'Jamal Adams'), (0.17999999999999972, 'Jamal Adams'), (0.17999999999999972, 'Jamal Adams'), (0.17999999999999972, 'Jamal Adams'), (0.17999999999999972, 'Jamal Adams'), (10.5, 'Frankie Luvu'), (10.5, 'Frankie Luvu'), (10.5, 'Frankie Luvu'), (10.5, 'Frankie Luvu'), (10.5, 'Frankie Luvu')]\n",
      "[(14.66000000000001, 'Dominique Rodgers-Cromartie'), (14.66000000000001, 'Dominique Rodgers-Cromartie'), (14.66000000000001, 'Dominique Rodgers-Cromartie'), (14.66000000000001, 'Dominique Rodgers-Cromartie'), (14.66000000000001, 'Dominique Rodgers-Cromartie'), (14.66000000000001, 'Dominique Rodgers-Cromartie'), (23.42, 'Marcus Gilchrist'), (23.42, 'Marcus Gilchrist'), (23.42, 'Marcus Gilchrist'), (23.42, 'Marcus Gilchrist'), (23.42, 'Marcus Gilchrist'), (23.42, 'Marcus Gilchrist'), (29.64, 'Leon Hall'), (29.64, 'Leon Hall'), (29.64, 'Leon Hall'), (29.64, 'Leon Hall'), (29.64, 'Leon Hall'), (29.64, 'Leon Hall'), (4.890000000000001, 'Derrick Johnson'), (4.890000000000001, 'Derrick Johnson'), (4.890000000000001, 'Derrick Johnson'), (4.890000000000001, 'Derrick Johnson'), (4.890000000000001, 'Derrick Johnson'), (4.890000000000001, 'Derrick Johnson'), (17.89, 'Reggie Nelson'), (17.89, 'Reggie Nelson'), (17.89, 'Reggie Nelson'), (17.89, 'Reggie Nelson'), (17.89, 'Reggie Nelson'), (17.89, 'Reggie Nelson'), (2.6700000000000017, 'Tahir Whitehead'), (2.6700000000000017, 'Tahir Whitehead'), (2.6700000000000017, 'Tahir Whitehead'), (2.6700000000000017, 'Tahir Whitehead'), (2.6700000000000017, 'Tahir Whitehead'), (2.6700000000000017, 'Tahir Whitehead'), (20.450000000000003, 'Gareon Conley'), (20.450000000000003, 'Gareon Conley'), (20.450000000000003, 'Gareon Conley'), (20.450000000000003, 'Gareon Conley'), (20.450000000000003, 'Gareon Conley'), (20.450000000000003, 'Gareon Conley')]\n"
     ]
    }
   ],
   "source": [
    "df, a = get_defender(week1, pass_defend, final_cols)\n",
    "# df.head()"
   ]
  },
  {
   "cell_type": "code",
   "execution_count": 365,
   "metadata": {},
   "outputs": [],
   "source": [
    "# a"
   ]
  },
  {
   "cell_type": "code",
   "execution_count": null,
   "metadata": {},
   "outputs": [],
   "source": [
    "t = plays[['possessionTeam', 'passResult', 'offensePlayResult']]\n"
   ]
  },
  {
   "cell_type": "code",
   "execution_count": null,
   "metadata": {},
   "outputs": [],
   "source": [
    "t[['possessionTeam', 'passResult']]"
   ]
  },
  {
   "cell_type": "code",
   "execution_count": null,
   "metadata": {},
   "outputs": [],
   "source": [
    "p, s = throw_stats(plays)"
   ]
  },
  {
   "cell_type": "code",
   "execution_count": null,
   "metadata": {},
   "outputs": [],
   "source": [
    "s"
   ]
  },
  {
   "cell_type": "code",
   "execution_count": null,
   "metadata": {},
   "outputs": [],
   "source": [
    "plays.passResult.value_counts()"
   ]
  },
  {
   "cell_type": "code",
   "execution_count": 4,
   "metadata": {},
   "outputs": [
    {
     "ename": "NameError",
     "evalue": "name 'throw_stats' is not defined",
     "output_type": "error",
     "traceback": [
      "\u001b[1;31m---------------------------------------------------------------------------\u001b[0m",
      "\u001b[1;31mNameError\u001b[0m                                 Traceback (most recent call last)",
      "\u001b[1;32m<ipython-input-4-46500ecfcb8d>\u001b[0m in \u001b[0;36m<module>\u001b[1;34m\u001b[0m\n\u001b[1;32m----> 1\u001b[1;33m \u001b[0mthrow_stats\u001b[0m\u001b[1;33m(\u001b[0m\u001b[0mplays\u001b[0m\u001b[1;33m)\u001b[0m\u001b[1;33m\u001b[0m\u001b[1;33m\u001b[0m\u001b[0m\n\u001b[0m",
      "\u001b[1;31mNameError\u001b[0m: name 'throw_stats' is not defined"
     ]
    }
   ],
   "source": [
    "throw_stats(plays)"
   ]
  },
  {
   "cell_type": "code",
   "execution_count": 9,
   "metadata": {},
   "outputs": [
    {
     "data": {
      "text/html": [
       "<div>\n",
       "<style scoped>\n",
       "    .dataframe tbody tr th:only-of-type {\n",
       "        vertical-align: middle;\n",
       "    }\n",
       "\n",
       "    .dataframe tbody tr th {\n",
       "        vertical-align: top;\n",
       "    }\n",
       "\n",
       "    .dataframe thead tr th {\n",
       "        text-align: left;\n",
       "    }\n",
       "\n",
       "    .dataframe thead tr:last-of-type th {\n",
       "        text-align: right;\n",
       "    }\n",
       "</style>\n",
       "<table border=\"1\" class=\"dataframe\">\n",
       "  <thead>\n",
       "    <tr>\n",
       "      <th></th>\n",
       "      <th colspan=\"2\" halign=\"left\">offensePlayResult</th>\n",
       "    </tr>\n",
       "    <tr>\n",
       "      <th></th>\n",
       "      <th>mean</th>\n",
       "      <th>count</th>\n",
       "    </tr>\n",
       "    <tr>\n",
       "      <th>personnelD</th>\n",
       "      <th></th>\n",
       "      <th></th>\n",
       "    </tr>\n",
       "  </thead>\n",
       "  <tbody>\n",
       "    <tr>\n",
       "      <th>0 DL, 4 LB, 7 DB</th>\n",
       "      <td>4.437500</td>\n",
       "      <td>32</td>\n",
       "    </tr>\n",
       "    <tr>\n",
       "      <th>0 DL, 5 LB, 6 DB</th>\n",
       "      <td>5.058824</td>\n",
       "      <td>17</td>\n",
       "    </tr>\n",
       "    <tr>\n",
       "      <th>0 DL, 6 LB, 5 DB</th>\n",
       "      <td>2.666667</td>\n",
       "      <td>6</td>\n",
       "    </tr>\n",
       "    <tr>\n",
       "      <th>1 DL, 3 LB, 7 DB</th>\n",
       "      <td>5.029412</td>\n",
       "      <td>102</td>\n",
       "    </tr>\n",
       "    <tr>\n",
       "      <th>1 DL, 4 LB, 6 DB</th>\n",
       "      <td>5.279743</td>\n",
       "      <td>311</td>\n",
       "    </tr>\n",
       "    <tr>\n",
       "      <th>1 DL, 5 LB, 5 DB</th>\n",
       "      <td>4.808271</td>\n",
       "      <td>266</td>\n",
       "    </tr>\n",
       "    <tr>\n",
       "      <th>2 DL, 2 LB, 7 DB</th>\n",
       "      <td>4.605634</td>\n",
       "      <td>71</td>\n",
       "    </tr>\n",
       "    <tr>\n",
       "      <th>2 DL, 3 LB, 5 DB, 1 WR</th>\n",
       "      <td>3.750000</td>\n",
       "      <td>4</td>\n",
       "    </tr>\n",
       "    <tr>\n",
       "      <th>2 DL, 3 LB, 6 DB</th>\n",
       "      <td>6.279171</td>\n",
       "      <td>917</td>\n",
       "    </tr>\n",
       "    <tr>\n",
       "      <th>2 DL, 4 LB, 5 DB</th>\n",
       "      <td>6.076339</td>\n",
       "      <td>2109</td>\n",
       "    </tr>\n",
       "    <tr>\n",
       "      <th>3 DL, 1 LB, 7 DB</th>\n",
       "      <td>6.024390</td>\n",
       "      <td>82</td>\n",
       "    </tr>\n",
       "    <tr>\n",
       "      <th>3 DL, 2 LB, 6 DB</th>\n",
       "      <td>5.691500</td>\n",
       "      <td>1047</td>\n",
       "    </tr>\n",
       "    <tr>\n",
       "      <th>3 DL, 3 LB, 5 DB</th>\n",
       "      <td>5.979697</td>\n",
       "      <td>3103</td>\n",
       "    </tr>\n",
       "    <tr>\n",
       "      <th>3 DL, 4 LB, 4 DB</th>\n",
       "      <td>7.358008</td>\n",
       "      <td>743</td>\n",
       "    </tr>\n",
       "    <tr>\n",
       "      <th>4 DL, 0 LB, 7 DB</th>\n",
       "      <td>7.625000</td>\n",
       "      <td>24</td>\n",
       "    </tr>\n",
       "    <tr>\n",
       "      <th>4 DL, 1 LB, 6 DB</th>\n",
       "      <td>5.579710</td>\n",
       "      <td>1104</td>\n",
       "    </tr>\n",
       "    <tr>\n",
       "      <th>4 DL, 2 LB, 5 DB</th>\n",
       "      <td>6.316747</td>\n",
       "      <td>6652</td>\n",
       "    </tr>\n",
       "    <tr>\n",
       "      <th>4 DL, 3 LB, 4 DB</th>\n",
       "      <td>7.388035</td>\n",
       "      <td>2407</td>\n",
       "    </tr>\n",
       "    <tr>\n",
       "      <th>4 DL, 4 LB, 3 DB</th>\n",
       "      <td>5.347826</td>\n",
       "      <td>23</td>\n",
       "    </tr>\n",
       "    <tr>\n",
       "      <th>4 DL, 5 LB, 2 DB</th>\n",
       "      <td>0.750000</td>\n",
       "      <td>4</td>\n",
       "    </tr>\n",
       "    <tr>\n",
       "      <th>5 DL, 1 LB, 5 DB</th>\n",
       "      <td>9.153846</td>\n",
       "      <td>13</td>\n",
       "    </tr>\n",
       "    <tr>\n",
       "      <th>5 DL, 2 LB, 4 DB</th>\n",
       "      <td>5.881720</td>\n",
       "      <td>93</td>\n",
       "    </tr>\n",
       "    <tr>\n",
       "      <th>5 DL, 3 LB, 3 DB</th>\n",
       "      <td>7.857143</td>\n",
       "      <td>14</td>\n",
       "    </tr>\n",
       "    <tr>\n",
       "      <th>6 DL, 3 LB, 2 DB</th>\n",
       "      <td>0.416667</td>\n",
       "      <td>12</td>\n",
       "    </tr>\n",
       "    <tr>\n",
       "      <th>6 DL, 4 LB, 1 DB</th>\n",
       "      <td>0.166667</td>\n",
       "      <td>12</td>\n",
       "    </tr>\n",
       "  </tbody>\n",
       "</table>\n",
       "</div>"
      ],
      "text/plain": [
       "                       offensePlayResult      \n",
       "                                    mean count\n",
       "personnelD                                    \n",
       "0 DL, 4 LB, 7 DB                4.437500    32\n",
       "0 DL, 5 LB, 6 DB                5.058824    17\n",
       "0 DL, 6 LB, 5 DB                2.666667     6\n",
       "1 DL, 3 LB, 7 DB                5.029412   102\n",
       "1 DL, 4 LB, 6 DB                5.279743   311\n",
       "1 DL, 5 LB, 5 DB                4.808271   266\n",
       "2 DL, 2 LB, 7 DB                4.605634    71\n",
       "2 DL, 3 LB, 5 DB, 1 WR          3.750000     4\n",
       "2 DL, 3 LB, 6 DB                6.279171   917\n",
       "2 DL, 4 LB, 5 DB                6.076339  2109\n",
       "3 DL, 1 LB, 7 DB                6.024390    82\n",
       "3 DL, 2 LB, 6 DB                5.691500  1047\n",
       "3 DL, 3 LB, 5 DB                5.979697  3103\n",
       "3 DL, 4 LB, 4 DB                7.358008   743\n",
       "4 DL, 0 LB, 7 DB                7.625000    24\n",
       "4 DL, 1 LB, 6 DB                5.579710  1104\n",
       "4 DL, 2 LB, 5 DB                6.316747  6652\n",
       "4 DL, 3 LB, 4 DB                7.388035  2407\n",
       "4 DL, 4 LB, 3 DB                5.347826    23\n",
       "4 DL, 5 LB, 2 DB                0.750000     4\n",
       "5 DL, 1 LB, 5 DB                9.153846    13\n",
       "5 DL, 2 LB, 4 DB                5.881720    93\n",
       "5 DL, 3 LB, 3 DB                7.857143    14\n",
       "6 DL, 3 LB, 2 DB                0.416667    12\n",
       "6 DL, 4 LB, 1 DB                0.166667    12"
      ]
     },
     "execution_count": 9,
     "metadata": {},
     "output_type": "execute_result"
    }
   ],
   "source": [
    "a = 'personnelD'#'numberOfPassRushers'\n",
    "col = [a, 'offensePlayResult']\n",
    "a =plays[col].groupby(by=[a], as_index=False).aggregate(['mean', 'count'])\n",
    "# a[a['count'] > 1]\n",
    "a[a.offensePlayResult['count'] > 3]"
   ]
  },
  {
   "cell_type": "code",
   "execution_count": 10,
   "metadata": {},
   "outputs": [
    {
     "data": {
      "text/plain": [
       "Index(['gameId', 'playId', 'playDescription', 'quarter', 'down', 'yardsToGo',\n",
       "       'possessionTeam', 'playType', 'yardlineSide', 'yardlineNumber',\n",
       "       'offenseFormation', 'personnelO', 'defendersInTheBox',\n",
       "       'numberOfPassRushers', 'personnelD', 'typeDropback',\n",
       "       'preSnapVisitorScore', 'preSnapHomeScore', 'gameClock',\n",
       "       'absoluteYardlineNumber', 'penaltyCodes', 'penaltyJerseyNumbers',\n",
       "       'passResult', 'offensePlayResult', 'playResult', 'epa',\n",
       "       'isDefensivePI'],\n",
       "      dtype='object')"
      ]
     },
     "execution_count": 10,
     "metadata": {},
     "output_type": "execute_result"
    }
   ],
   "source": [
    "plays.columns"
   ]
  },
  {
   "cell_type": "code",
   "execution_count": 11,
   "metadata": {},
   "outputs": [],
   "source": [
    "testing = plays[['gameId', 'playId', 'playDescription','passResult', 'playResult', 'offensePlayResult']]"
   ]
  },
  {
   "cell_type": "code",
   "execution_count": 12,
   "metadata": {},
   "outputs": [],
   "source": [
    "# week1.head()"
   ]
  },
  {
   "cell_type": "code",
   "execution_count": 13,
   "metadata": {},
   "outputs": [],
   "source": [
    "# games.head()"
   ]
  },
  {
   "cell_type": "code",
   "execution_count": 18,
   "metadata": {},
   "outputs": [
    {
     "data": {
      "text/html": [
       "<div>\n",
       "<style scoped>\n",
       "    .dataframe tbody tr th:only-of-type {\n",
       "        vertical-align: middle;\n",
       "    }\n",
       "\n",
       "    .dataframe tbody tr th {\n",
       "        vertical-align: top;\n",
       "    }\n",
       "\n",
       "    .dataframe thead th {\n",
       "        text-align: right;\n",
       "    }\n",
       "</style>\n",
       "<table border=\"1\" class=\"dataframe\">\n",
       "  <thead>\n",
       "    <tr style=\"text-align: right;\">\n",
       "      <th></th>\n",
       "      <th>gameId</th>\n",
       "      <th>playId</th>\n",
       "      <th>playDescription</th>\n",
       "      <th>quarter</th>\n",
       "      <th>down</th>\n",
       "      <th>yardsToGo</th>\n",
       "      <th>possessionTeam</th>\n",
       "      <th>playType</th>\n",
       "      <th>yardlineSide</th>\n",
       "      <th>yardlineNumber</th>\n",
       "      <th>...</th>\n",
       "      <th>preSnapHomeScore</th>\n",
       "      <th>gameClock</th>\n",
       "      <th>absoluteYardlineNumber</th>\n",
       "      <th>penaltyCodes</th>\n",
       "      <th>penaltyJerseyNumbers</th>\n",
       "      <th>passResult</th>\n",
       "      <th>offensePlayResult</th>\n",
       "      <th>playResult</th>\n",
       "      <th>epa</th>\n",
       "      <th>isDefensivePI</th>\n",
       "    </tr>\n",
       "  </thead>\n",
       "  <tbody>\n",
       "    <tr>\n",
       "      <th>0</th>\n",
       "      <td>2018090600</td>\n",
       "      <td>75</td>\n",
       "      <td>(15:00) M.Ryan pass short right to J.Jones pus...</td>\n",
       "      <td>1</td>\n",
       "      <td>1</td>\n",
       "      <td>15</td>\n",
       "      <td>ATL</td>\n",
       "      <td>play_type_pass</td>\n",
       "      <td>ATL</td>\n",
       "      <td>20</td>\n",
       "      <td>...</td>\n",
       "      <td>0.0</td>\n",
       "      <td>15:00:00</td>\n",
       "      <td>90.0</td>\n",
       "      <td>NaN</td>\n",
       "      <td>NaN</td>\n",
       "      <td>C</td>\n",
       "      <td>10</td>\n",
       "      <td>10</td>\n",
       "      <td>0.261827</td>\n",
       "      <td>False</td>\n",
       "    </tr>\n",
       "  </tbody>\n",
       "</table>\n",
       "<p>1 rows × 27 columns</p>\n",
       "</div>"
      ],
      "text/plain": [
       "       gameId  playId                                    playDescription  \\\n",
       "0  2018090600      75  (15:00) M.Ryan pass short right to J.Jones pus...   \n",
       "\n",
       "   quarter  down  yardsToGo possessionTeam        playType yardlineSide  \\\n",
       "0        1     1         15            ATL  play_type_pass          ATL   \n",
       "\n",
       "   yardlineNumber  ... preSnapHomeScore gameClock  absoluteYardlineNumber  \\\n",
       "0              20  ...              0.0  15:00:00                    90.0   \n",
       "\n",
       "   penaltyCodes penaltyJerseyNumbers passResult  offensePlayResult  \\\n",
       "0           NaN                  NaN          C                 10   \n",
       "\n",
       "   playResult       epa  isDefensivePI  \n",
       "0          10  0.261827          False  \n",
       "\n",
       "[1 rows x 27 columns]"
      ]
     },
     "execution_count": 18,
     "metadata": {},
     "output_type": "execute_result"
    }
   ],
   "source": [
    "plays[(plays.playId == 75) & (plays.gameId == 2018090600)]"
   ]
  },
  {
   "cell_type": "code",
   "execution_count": 19,
   "metadata": {},
   "outputs": [],
   "source": [
    "catch = week1[(week1.playId == 75) & (week1.gameId == 2018090600)]"
   ]
  },
  {
   "cell_type": "code",
   "execution_count": 20,
   "metadata": {},
   "outputs": [],
   "source": [
    "routes = catch[['x','y','displayName']]"
   ]
  },
  {
   "cell_type": "code",
   "execution_count": 21,
   "metadata": {},
   "outputs": [],
   "source": [
    "# routes\n"
   ]
  },
  {
   "cell_type": "code",
   "execution_count": 22,
   "metadata": {},
   "outputs": [],
   "source": [
    "mryan = week1[(week1.displayName == 'Matt Ryan') & (week1.playId == 75)]"
   ]
  },
  {
   "cell_type": "code",
   "execution_count": null,
   "metadata": {},
   "outputs": [],
   "source": []
  },
  {
   "cell_type": "code",
   "execution_count": 23,
   "metadata": {},
   "outputs": [],
   "source": [
    "mx = list(mryan.x)\n",
    "my = list(mryan.y)"
   ]
  },
  {
   "cell_type": "code",
   "execution_count": 24,
   "metadata": {},
   "outputs": [
    {
     "data": {
      "text/plain": [
       "(91.73, 96.46)"
      ]
     },
     "execution_count": 24,
     "metadata": {},
     "output_type": "execute_result"
    }
   ],
   "source": [
    "min(mx), max(mx)"
   ]
  },
  {
   "cell_type": "code",
   "execution_count": 24,
   "metadata": {},
   "outputs": [
    {
     "ename": "NameError",
     "evalue": "name 'routes' is not defined",
     "output_type": "error",
     "traceback": [
      "\u001b[1;31m---------------------------------------------------------------------------\u001b[0m",
      "\u001b[1;31mNameError\u001b[0m                                 Traceback (most recent call last)",
      "\u001b[1;32m<ipython-input-24-8656c668c273>\u001b[0m in \u001b[0;36m<module>\u001b[1;34m\u001b[0m\n\u001b[1;32m----> 1\u001b[1;33m \u001b[0mnames\u001b[0m \u001b[1;33m=\u001b[0m \u001b[0mlist\u001b[0m\u001b[1;33m(\u001b[0m\u001b[0mroutes\u001b[0m\u001b[1;33m.\u001b[0m\u001b[0mdisplayName\u001b[0m\u001b[1;33m.\u001b[0m\u001b[0munique\u001b[0m\u001b[1;33m(\u001b[0m\u001b[1;33m)\u001b[0m\u001b[1;33m)\u001b[0m\u001b[1;33m\u001b[0m\u001b[1;33m\u001b[0m\u001b[0m\n\u001b[0m",
      "\u001b[1;31mNameError\u001b[0m: name 'routes' is not defined"
     ]
    }
   ],
   "source": [
    "names = list(routes.displayName.unique())"
   ]
  },
  {
   "cell_type": "code",
   "execution_count": 50,
   "metadata": {},
   "outputs": [],
   "source": []
  },
  {
   "cell_type": "code",
   "execution_count": 27,
   "metadata": {},
   "outputs": [],
   "source": [
    "# routes[routes.displayName == 'Football']"
   ]
  },
  {
   "cell_type": "code",
   "execution_count": 28,
   "metadata": {},
   "outputs": [],
   "source": [
    "plays = list(week1[week1.gameId == 2018090600].playId.unique())"
   ]
  },
  {
   "cell_type": "code",
   "execution_count": 29,
   "metadata": {},
   "outputs": [],
   "source": [
    "# week1[week1.gameId == 2018090600].sort_values(by=['time'])"
   ]
  },
  {
   "cell_type": "code",
   "execution_count": 30,
   "metadata": {},
   "outputs": [
    {
     "data": {
      "image/png": "[encoded data removed]",
      "text/plain": [
       "<Figure size 432x288 with 1 Axes>"
      ]
     },
     "metadata": {
      "needs_background": "light"
     },
     "output_type": "display_data"
    },
    {
     "data": {
      "image/png": "[encoded data removed]",
      "text/plain": [
       "<Figure size 432x288 with 1 Axes>"
      ]
     },
     "metadata": {
      "needs_background": "light"
     },
     "output_type": "display_data"
    },
    {
     "data": {
      "image/png": "[encoded data removed]",
      "text/plain": [
       "<Figure size 432x288 with 1 Axes>"
      ]
     },
     "metadata": {
      "needs_background": "light"
     },
     "output_type": "display_data"
    },
    {
     "data": {
      "image/png": "[encoded data removed]",
      "text/plain": [
       "<Figure size 432x288 with 1 Axes>"
      ]
     },
     "metadata": {
      "needs_background": "light"
     },
     "output_type": "display_data"
    },
    {
     "data": {
      "image/png": "[encoded data removed]",
      "text/plain": [
       "<Figure size 432x288 with 1 Axes>"
      ]
     },
     "metadata": {
      "needs_background": "light"
     },
     "output_type": "display_data"
    }
   ],
   "source": [
    "game_test = list(week1[week1.gameId == 2018090600].sort_values(by=['time'])['playId'].unique())\n",
    "for j in game_test[:5]:\n",
    "    catch = week1[(week1.playId == j) & (week1.gameId == 2018090600)]\n",
    "    routes = catch[['x','y','displayName']]\n",
    "    for i in names:\n",
    "        if i=='Football':\n",
    "            run = routes[routes.displayName == i]\n",
    "            x = run.x\n",
    "            y = run.y\n",
    "            plt.scatter(list(x), list(y), c='black',marker='<')\n",
    "            plt.plot([min(x), min(x)], [0, 50])\n",
    "\n",
    "        elif i in list(checking.displayName):\n",
    "            run = routes[routes.displayName == i]\n",
    "            x = run.x\n",
    "            y = run.y\n",
    "            plt.scatter(list(x), list(y))\n",
    "\n",
    "\n",
    "    plt.show()"
   ]
  },
  {
   "cell_type": "code",
   "execution_count": 31,
   "metadata": {},
   "outputs": [
    {
     "data": {
      "text/plain": [
       "[<matplotlib.lines.Line2D at 0x25183d389d0>]"
      ]
     },
     "execution_count": 31,
     "metadata": {},
     "output_type": "execute_result"
    },
    {
     "data": {
      "image/png": "[encoded data removed]",
      "text/plain": [
       "<Figure size 432x288 with 1 Axes>"
      ]
     },
     "metadata": {
      "needs_background": "light"
     },
     "output_type": "display_data"
    }
   ],
   "source": [
    "plt.scatter(list(mryan.x), list(mryan.y))\n",
    "plt.plot([min(mx), min(mx)], [26.50, 28.25],)"
   ]
  },
  {
   "cell_type": "code",
   "execution_count": 32,
   "metadata": {},
   "outputs": [
    {
     "data": {
      "text/html": [
       "<div>\n",
       "<style scoped>\n",
       "    .dataframe tbody tr th:only-of-type {\n",
       "        vertical-align: middle;\n",
       "    }\n",
       "\n",
       "    .dataframe tbody tr th {\n",
       "        vertical-align: top;\n",
       "    }\n",
       "\n",
       "    .dataframe thead th {\n",
       "        text-align: right;\n",
       "    }\n",
       "</style>\n",
       "<table border=\"1\" class=\"dataframe\">\n",
       "  <thead>\n",
       "    <tr style=\"text-align: right;\">\n",
       "      <th></th>\n",
       "      <th>gameId</th>\n",
       "      <th>playId</th>\n",
       "      <th>playDescription</th>\n",
       "      <th>passResult</th>\n",
       "      <th>playResult</th>\n",
       "      <th>offensePlayResult</th>\n",
       "    </tr>\n",
       "  </thead>\n",
       "  <tbody>\n",
       "    <tr>\n",
       "      <th>12752</th>\n",
       "      <td>2018112509</td>\n",
       "      <td>2475</td>\n",
       "      <td>(10:47) B.Roethlisberger pass deep middle to J...</td>\n",
       "      <td>C</td>\n",
       "      <td>97</td>\n",
       "      <td>97</td>\n",
       "    </tr>\n",
       "    <tr>\n",
       "      <th>12011</th>\n",
       "      <td>2018112201</td>\n",
       "      <td>2897</td>\n",
       "      <td>(2:27) (Shotgun) D.Prescott pass deep middle t...</td>\n",
       "      <td>C</td>\n",
       "      <td>90</td>\n",
       "      <td>90</td>\n",
       "    </tr>\n",
       "    <tr>\n",
       "      <th>17665</th>\n",
       "      <td>2018123004</td>\n",
       "      <td>2619</td>\n",
       "      <td>(8:51) (Shotgun) P.Mahomes pass deep middle to...</td>\n",
       "      <td>C</td>\n",
       "      <td>89</td>\n",
       "      <td>89</td>\n",
       "    </tr>\n",
       "    <tr>\n",
       "      <th>14848</th>\n",
       "      <td>2018120910</td>\n",
       "      <td>1384</td>\n",
       "      <td>(10:00) (Shotgun) N.Mullens pass short right t...</td>\n",
       "      <td>C</td>\n",
       "      <td>85</td>\n",
       "      <td>85</td>\n",
       "    </tr>\n",
       "    <tr>\n",
       "      <th>16497</th>\n",
       "      <td>2018122310</td>\n",
       "      <td>3026</td>\n",
       "      <td>(2:32) (Shotgun) N.Foles pass deep middle to N...</td>\n",
       "      <td>C</td>\n",
       "      <td>83</td>\n",
       "      <td>83</td>\n",
       "    </tr>\n",
       "    <tr>\n",
       "      <th>...</th>\n",
       "      <td>...</td>\n",
       "      <td>...</td>\n",
       "      <td>...</td>\n",
       "      <td>...</td>\n",
       "      <td>...</td>\n",
       "      <td>...</td>\n",
       "    </tr>\n",
       "    <tr>\n",
       "      <th>13473</th>\n",
       "      <td>2018120202</td>\n",
       "      <td>3751</td>\n",
       "      <td>(8:26) M.Stafford sacked at DET 29 for -13 yar...</td>\n",
       "      <td>S</td>\n",
       "      <td>-18</td>\n",
       "      <td>-18</td>\n",
       "    </tr>\n",
       "    <tr>\n",
       "      <th>5599</th>\n",
       "      <td>2018100710</td>\n",
       "      <td>3875</td>\n",
       "      <td>(4:41) (Shotgun) C.Beathard sacked at SF 33 fo...</td>\n",
       "      <td>S</td>\n",
       "      <td>-41</td>\n",
       "      <td>-18</td>\n",
       "    </tr>\n",
       "    <tr>\n",
       "      <th>15621</th>\n",
       "      <td>2018121603</td>\n",
       "      <td>4458</td>\n",
       "      <td>(:24) (Shotgun) A.Rodgers sacked at CHI 27 for...</td>\n",
       "      <td>S</td>\n",
       "      <td>-18</td>\n",
       "      <td>-18</td>\n",
       "    </tr>\n",
       "    <tr>\n",
       "      <th>3026</th>\n",
       "      <td>2018092307</td>\n",
       "      <td>2712</td>\n",
       "      <td>(6:26) J.Allen sacked at BUF 42 for -13 yards ...</td>\n",
       "      <td>S</td>\n",
       "      <td>-19</td>\n",
       "      <td>-19</td>\n",
       "    </tr>\n",
       "    <tr>\n",
       "      <th>16503</th>\n",
       "      <td>2018122310</td>\n",
       "      <td>3291</td>\n",
       "      <td>(13:49) (Shotgun) D.Watson sacked at PHI 44 fo...</td>\n",
       "      <td>S</td>\n",
       "      <td>-22</td>\n",
       "      <td>-19</td>\n",
       "    </tr>\n",
       "  </tbody>\n",
       "</table>\n",
       "<p>19239 rows × 6 columns</p>\n",
       "</div>"
      ],
      "text/plain": [
       "           gameId  playId                                    playDescription  \\\n",
       "12752  2018112509    2475  (10:47) B.Roethlisberger pass deep middle to J...   \n",
       "12011  2018112201    2897  (2:27) (Shotgun) D.Prescott pass deep middle t...   \n",
       "17665  2018123004    2619  (8:51) (Shotgun) P.Mahomes pass deep middle to...   \n",
       "14848  2018120910    1384  (10:00) (Shotgun) N.Mullens pass short right t...   \n",
       "16497  2018122310    3026  (2:32) (Shotgun) N.Foles pass deep middle to N...   \n",
       "...           ...     ...                                                ...   \n",
       "13473  2018120202    3751  (8:26) M.Stafford sacked at DET 29 for -13 yar...   \n",
       "5599   2018100710    3875  (4:41) (Shotgun) C.Beathard sacked at SF 33 fo...   \n",
       "15621  2018121603    4458  (:24) (Shotgun) A.Rodgers sacked at CHI 27 for...   \n",
       "3026   2018092307    2712  (6:26) J.Allen sacked at BUF 42 for -13 yards ...   \n",
       "16503  2018122310    3291  (13:49) (Shotgun) D.Watson sacked at PHI 44 fo...   \n",
       "\n",
       "      passResult  playResult  offensePlayResult  \n",
       "12752          C          97                 97  \n",
       "12011          C          90                 90  \n",
       "17665          C          89                 89  \n",
       "14848          C          85                 85  \n",
       "16497          C          83                 83  \n",
       "...          ...         ...                ...  \n",
       "13473          S         -18                -18  \n",
       "5599           S         -41                -18  \n",
       "15621          S         -18                -18  \n",
       "3026           S         -19                -19  \n",
       "16503          S         -22                -19  \n",
       "\n",
       "[19239 rows x 6 columns]"
      ]
     },
     "execution_count": 32,
     "metadata": {},
     "output_type": "execute_result"
    }
   ],
   "source": [
    "testing.sort_values(by=['offensePlayResult'], ascending=False)"
   ]
  }
 ],
 "metadata": {
  "kernelspec": {
   "display_name": "Python 3",
   "language": "python",
   "name": "python3"
  },
  "language_info": {
   "codemirror_mode": {
    "name": "ipython",
    "version": 3
   },
   "file_extension": ".py",
   "mimetype": "text/x-python",
   "name": "python",
   "nbconvert_exporter": "python",
   "pygments_lexer": "ipython3",
   "version": "3.7.8"
  }
 },
 "nbformat": 4,
 "nbformat_minor": 4
}
